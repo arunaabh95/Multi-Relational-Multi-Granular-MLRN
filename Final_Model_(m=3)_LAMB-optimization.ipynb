{
 "cells": [
  {
   "cell_type": "code",
   "execution_count": 1,
   "metadata": {
    "colab": {
     "base_uri": "https://localhost:8080/"
    },
    "id": "M5Cf6wxEttIk",
    "outputId": "3da36e6a-dcce-418d-a7be-f8bc82d00859"
   },
   "outputs": [],
   "source": [
    "#!pip install PIL\n",
    "#!pip install tensorboardX"
   ]
  },
  {
   "cell_type": "code",
   "execution_count": 2,
   "metadata": {
    "id": "gDfKoa4aImUX"
   },
   "outputs": [],
   "source": [
    "import os\n",
    "import glob\n",
    "import numpy as np\n",
    "from PIL import Image\n",
    "import torch\n",
    "from torch.utils.data import Dataset, DataLoader\n",
    "from torchvision import transforms, utils\n",
    "from tqdm import tqdm\n",
    "import torch.optim as optim\n",
    "import torch.nn as nn\n",
    "import torch.nn.functional as F\n",
    "import pprint\n",
    "import math\n",
    "from lamb import Lamb"
   ]
  },
  {
   "cell_type": "code",
   "execution_count": 3,
   "metadata": {
    "colab": {
     "base_uri": "https://localhost:8080/"
    },
    "id": "pOnkh4p-mKf4",
    "outputId": "e55eb3ed-274b-4599-9fa2-1076c5071f4c"
   },
   "outputs": [],
   "source": [
    "#from google.colab import drive\n",
    "#drive.mount('/content/drive')"
   ]
  },
  {
   "cell_type": "code",
   "execution_count": 4,
   "metadata": {
    "colab": {
     "base_uri": "https://localhost:8080/"
    },
    "id": "BQMSACa5HQWz",
    "outputId": "1ba3574f-1c3e-4739-b826-45d2e856a0df"
   },
   "outputs": [
    {
     "name": "stdout",
     "output_type": "stream",
     "text": [
      "cuda:2\n"
     ]
    }
   ],
   "source": [
    "#Constants\n",
    "dataset_path = './Data-L'\n",
    "batch_size = 32\n",
    "epoch = 100\n",
    "load_workers = 2 \n",
    "lr = 1e-3\n",
    "weight_decay = 1e-6\n",
    "cuda = torch.device(\"cuda:2\")\n",
    "print(cuda)\n",
    "best_epoch = 0\n",
    "tag = 1\n",
    "meta_beta = 10.0\n",
    "m = 3"
   ]
  },
  {
   "cell_type": "code",
   "execution_count": 5,
   "metadata": {
    "id": "RCD2Z9Oub1Pa"
   },
   "outputs": [],
   "source": [
    "figure_configuration_names = ['center_single', 'distribute_four', 'in_distribute_four_out_center_single', 'left_center_single_right_center_single']\n",
    "#figure_configuration_names = ['center_single']\n",
    "\n",
    "class ToTensor(object):\n",
    "    def __call__(self, sample):\n",
    "        return torch.tensor(sample, dtype=torch.float32)\n",
    "\n",
    "class RAVENdataset(Dataset):\n",
    "    def __init__(self, root_dir, dataset_type, figure_configurations, img_size, transform=None, shuffle=False):\n",
    "        self.root_dir = root_dir\n",
    "        self.transform = transform\n",
    "        self.file_names = []\n",
    "        for idx in figure_configurations:\n",
    "            tmp = [f for f in glob.glob(os.path.join(root_dir, figure_configuration_names[idx], \"*.npz\")) if dataset_type in os.path.basename(f)]\n",
    "            self.file_names += tmp\n",
    "        self.img_size = img_size   \n",
    "        self.shuffle = shuffle\n",
    "        self.switch = [3,4,5,0,1,2,6,7]         \n",
    "\n",
    "    def __len__(self):\n",
    "        return len(self.file_names)\n",
    "\n",
    "    def __getitem__(self, idx):\n",
    "        data_path = self.file_names[idx]\n",
    "        data = np.load(data_path)\n",
    "        image = data[\"image\"].reshape(16, 160, 160)\n",
    "        target = data[\"target\"]\n",
    "        meta_target = data[\"meta_target\"]\n",
    "\n",
    "        if self.shuffle:\n",
    "            context = image[:8, :, :]\n",
    "            choices = image[8:, :, :]\n",
    "            indices = np.arange(8)\n",
    "            np.random.shuffle(indices)\n",
    "            new_target = np.where(indices == target)[0][0]\n",
    "            new_choices = choices[indices, :, :]\n",
    "            switch_2_rows = np.random.rand()            \n",
    "            if switch_2_rows < 0.5:                \n",
    "                context = context[self.switch, :, :]\n",
    "            image = np.concatenate((context, new_choices))\n",
    "            target = new_target\n",
    "\n",
    "        resize_image = []\n",
    "        for idx in range(0, 16):\n",
    "            resize_image.append(np.array(Image.fromarray(image[idx,:,:]).resize([self.img_size, self.img_size])))\n",
    "            #resize_image.append(misc.imresize(image[idx,:,:], (self.img_size, self.img_size)))\n",
    "        resize_image = np.stack(resize_image) \n",
    "\n",
    "        del data\n",
    "        if self.transform:\n",
    "            resize_image = self.transform(resize_image)           \n",
    "            target = torch.tensor(target, dtype=torch.long)\n",
    "            meta_target = self.transform(meta_target) \n",
    "\n",
    "        return resize_image, target, meta_target"
   ]
  },
  {
   "cell_type": "code",
   "execution_count": 6,
   "metadata": {
    "colab": {
     "base_uri": "https://localhost:8080/"
    },
    "id": "qIuVZo4wnF6x",
    "outputId": "9a071878-12dd-4156-b45a-9ba6d197d3bd"
   },
   "outputs": [
    {
     "name": "stdout",
     "output_type": "stream",
     "text": [
      "./Data-L\n"
     ]
    }
   ],
   "source": [
    "    img_size = 80\n",
    "    train_figure_configurations = [0]\n",
    "    val_figure_configurations = train_figure_configurations\n",
    "    test_figure_configurations = [0]\n",
    "    print(dataset_path)\n",
    "    train = RAVENdataset(dataset_path, \"train\", train_figure_configurations, img_size, transform=transforms.Compose([ToTensor()]), shuffle = True)\n",
    "    valid = RAVENdataset(dataset_path, \"val\", val_figure_configurations, img_size, transform=transforms.Compose([ToTensor()]))\n",
    "    test = RAVENdataset(dataset_path, \"test\", test_figure_configurations, img_size, transform=transforms.Compose([ToTensor()]))\n",
    "  "
   ]
  },
  {
   "cell_type": "code",
   "execution_count": 7,
   "metadata": {
    "id": "C5BhbCh3txmC"
   },
   "outputs": [],
   "source": [
    "trainloader = DataLoader(train, batch_size=batch_size, shuffle=True, num_workers=load_workers)\n",
    "validloader = DataLoader(valid, batch_size=batch_size, shuffle=False, num_workers=load_workers)\n",
    "testloader = DataLoader(test, batch_size=batch_size, shuffle=False, num_workers=load_workers)"
   ]
  },
  {
   "cell_type": "code",
   "execution_count": 8,
   "metadata": {
    "id": "60Nb5tb-Izt5"
   },
   "outputs": [],
   "source": [
    "# model adapted from WReN and MLRN code: \n",
    "# WReN: https://github.com/Fen9/WReN/tree/master/models\n",
    "# MLRN: https://arxiv.org/abs/2003.11608"
   ]
  },
  {
   "cell_type": "code",
   "execution_count": 9,
   "metadata": {
    "id": "wyIsNy6WAHX1"
   },
   "outputs": [],
   "source": [
    "def getCombinations(inputTensor, N, c, d):#input shape=(batch_size, obj_count, obj_dim) #batch_size=N, obj_count=c, obj_dim=d\n",
    "    tensorA = inputTensor.reshape(N, 3, 3, d)\n",
    "    tensorB = torch.roll(tensorA,1,1)\n",
    "    tensorC = torch.roll(tensorB,1,1)\n",
    "    tensorX = tensorA.transpose(1,2)\n",
    "    tensorY = torch.roll(tensorX,1,1)\n",
    "    tensorZ = torch.roll(tensorY,1,1)\n",
    "    return torch.cat((torch.cat((tensorA,tensorA),3), torch.cat((tensorB,tensorA),3), torch.cat((tensorB,tensorC),3), \n",
    "                      torch.cat((tensorX,tensorX),3), torch.cat((tensorY,tensorX),3), torch.cat((tensorY,tensorZ),3)),1)\n",
    "    \n",
    "\n",
    "def getSecondaryCombinations(inputTensor, N, c, d):\n",
    "  tensorA = inputTensor.reshape(N,1,c,d).expand(N,c,c,d)\n",
    "  tensorB = tensorA.transpose(1, 2)\n",
    "\n",
    "  return torch.cat((tensorB, tensorA), 3)"
   ]
  },
  {
   "cell_type": "code",
   "execution_count": 10,
   "metadata": {},
   "outputs": [],
   "source": [
    "## Optimizer related changes\n",
    "def add_module_params_with_decay(module, weight_decay, param_groups):\n",
    "    group_with_decay= []\n",
    "    group_without_decay = []\n",
    "    for name, param in module.named_parameters():\n",
    "        if not param.requires_grad: continue\n",
    "        if name == 'bias' or name.endswith('bias'):\n",
    "            group_without_decay.append(param)\n",
    "        else:\n",
    "            group_with_decay.append(param)\n",
    "    param_groups.append({\"params\": group_with_decay, \"weight_decay\":weight_decay})\n",
    "    param_groups.append({\"params\": group_without_decay})\n",
    "\n",
    "optimizer_param_groups = []"
   ]
  },
  {
   "cell_type": "code",
   "execution_count": 11,
   "metadata": {
    "id": "_G9cL6SAu4Ew"
   },
   "outputs": [],
   "source": [
    "class BasicModel(nn.Module):\n",
    "    def __init__(self, args):\n",
    "        super(BasicModel, self).__init__()\n",
    "        self.name = args['model']\n",
    "\n",
    "    def load_model(self, path, epoch):\n",
    "        self.state_dict = torch.load(path+'{}_epoch_{}.pth'.format(self.name, epoch))\n",
    "\n",
    "    def save_model(self, path, epoch):\n",
    "        torch.save(self.state_dict(), path+'{}_epoch_{}.pth'.format(self.name, epoch))\n",
    "\n",
    "    def compute_loss(self, output, target, meta_target):\n",
    "        pass\n",
    "\n",
    "    def train_(self, input, target, meta_target):\n",
    "        self.optimizer.zero_grad()\n",
    "        output = self(input)\n",
    "        loss = self.compute_loss(output, target, meta_target)\n",
    "        loss.backward()\n",
    "        self.optimizer.step()\n",
    "        pred = output[0].data.max(1)[1]\n",
    "        correct = pred.eq(target.data).cpu().sum().numpy()\n",
    "        accuracy = correct * 100. / target.size()[0]\n",
    "        return loss.item(), accuracy\n",
    "\n",
    "    def validate_(self, input, target, meta_target):\n",
    "        output = self(input)\n",
    "        loss = self.compute_loss(output, target, meta_target)\n",
    "        pred = output[0].data.max(1)[1]\n",
    "        correct = pred.eq(target.data).cpu().sum().numpy()\n",
    "        accuracy = correct * 100. / target.size()[0]\n",
    "        return loss.item(), accuracy\n",
    "\n",
    "    def test_(self, input, target, meta_target):\n",
    "        output = self(input)\n",
    "        pred = output[0].data.max(1)[1]\n",
    "        correct = pred.eq(target.data).cpu().sum().numpy()\n",
    "        accuracy = correct * 100. / target.size()[0]\n",
    "        return accuracy"
   ]
  },
  {
   "cell_type": "code",
   "execution_count": 12,
   "metadata": {
    "id": "kn5e81NgQuJW"
   },
   "outputs": [],
   "source": [
    "class WReN(BasicModel):\n",
    "    def __init__(self, args):\n",
    "        super(WReN, self).__init__(args)\n",
    "        self.relation_network_depth = args['m']\n",
    "\n",
    "        self.g_dim = 512\n",
    "        self.h_dim = 256\n",
    "        self.f_dim = 256\n",
    "\n",
    "        self.use_mag_enc = True #switch between scalar input and magnitude encoded input\n",
    "        self.mag_enc_type_relu = False #switch between gaussian magnitude encoding and relu based magnitude encoding\n",
    "\n",
    "        self.magnitude_encoding_dim = 20\n",
    "        #model\n",
    "        #magnitude encoding\n",
    "        self.input_scale = 2.0/255.0\n",
    "        self.input_offset = -1.0\n",
    "        std_dev = 0.28\n",
    "        self.input_encoding_variance_inv = 1.0 / (math.sqrt(2.0) * std_dev)\n",
    "        self.normalization_factor = 1.0 / (math.sqrt(2*math.pi) * std_dev)\n",
    "        self.mag_scale = torch.nn.Parameter(torch.linspace(-1.0, 1.0, steps=self.magnitude_encoding_dim), requires_grad=False)\n",
    "\n",
    "        if self.use_mag_enc:\n",
    "            conv_input_dim = self.magnitude_encoding_dim\n",
    "        else:\n",
    "            conv_input_dim = 1\n",
    "\n",
    "        self.conv = torch.nn.Sequential(\n",
    "            torch.nn.Conv2d(conv_input_dim, 32, 3, stride=2), \n",
    "            torch.nn.LeakyReLU(),\n",
    "            torch.nn.Conv2d(32, 32, 3, stride=2), \n",
    "            torch.nn.LeakyReLU(),\n",
    "            torch.nn.Conv2d(32, 32, 3, stride=2), \n",
    "            torch.nn.LeakyReLU(),\n",
    "            torch.nn.Conv2d(32, 32, 3, stride=2), \n",
    "            torch.nn.LeakyReLU()\n",
    "        )\n",
    "        self.post_cnn_linear = torch.nn.Linear(32*4*4, 256-9)\n",
    "\n",
    "        self.tag_matrix = torch.nn.Parameter(torch.eye(9).repeat(8, 1), requires_grad=False)\n",
    "\n",
    "        self.g = torch.nn.Sequential(\n",
    "                torch.nn.Linear(2*256, self.g_dim), \n",
    "                torch.nn.LeakyReLU(),\n",
    "                torch.nn.Linear(self.g_dim, self.g_dim), \n",
    "                torch.nn.LeakyReLU(),\n",
    "                torch.nn.Linear(self.g_dim, self.g_dim), \n",
    "                torch.nn.LeakyReLU(),\n",
    "                torch.nn.Linear(self.g_dim, self.h_dim), \n",
    "                torch.nn.LeakyReLU()\n",
    "            )\n",
    "\n",
    "        h = []\n",
    "        for i in range(m):\n",
    "            rel_layer_func = torch.nn.Sequential(\n",
    "                torch.nn.Linear(2*self.h_dim, self.h_dim), \n",
    "                torch.nn.LeakyReLU(),\n",
    "                torch.nn.Linear(self.h_dim, self.h_dim), \n",
    "                torch.nn.LeakyReLU(),\n",
    "                torch.nn.Linear(self.h_dim, self.h_dim), \n",
    "                torch.nn.LeakyReLU()\n",
    "            )\n",
    "            h.append(rel_layer_func)\n",
    "\n",
    "        self.h = torch.nn.ModuleList(h)\n",
    "\n",
    "        f_in_dim = self.h_dim\n",
    "        self.f = torch.nn.Sequential(\n",
    "                torch.nn.Linear(f_in_dim, self.f_dim), \n",
    "                torch.nn.LeakyReLU(),\n",
    "                torch.nn.Linear(self.f_dim, self.f_dim), \n",
    "                torch.nn.LeakyReLU()\n",
    "            )\n",
    "\n",
    "        self.f_final = torch.nn.Linear(self.f_dim, 1)\n",
    "        self.optimizer = None\n",
    "        self.initialize_optimizer()\n",
    "        \n",
    "        \n",
    "    def initialize_optimizer(self):\n",
    "        add_module_params_with_decay(self.conv, weight_decay, optimizer_param_groups)\n",
    "        add_module_params_with_decay(self.post_cnn_linear,  weight_decay, optimizer_param_groups)\n",
    "        add_module_params_with_decay(self.g, weight_decay, optimizer_param_groups)\n",
    "        add_module_params_with_decay(self.h, weight_decay, optimizer_param_groups)\n",
    "        add_module_params_with_decay(self.f, weight_decay, optimizer_param_groups)\n",
    "        add_module_params_with_decay(self.f_final, weight_decay,optimizer_param_groups)\n",
    "        \n",
    "        self.optimizer = Lamb(optimizer_param_groups, lr=lr)\n",
    "\n",
    "\n",
    "    def compute_loss(self, output, target, meta_target):\n",
    "      lossFunc = torch.nn.CrossEntropyLoss()\n",
    "      answer = output[0]\n",
    "      activation_loss = output[1]\n",
    "      loss = lossFunc(answer,target) + activation_loss * 2e-3\n",
    "      return loss\n",
    "\n",
    "    def forward(self, batch):\n",
    "        batch_size = batch.size()[0]\n",
    "        #Panel preprocessor CNN\n",
    "        batch_flat = batch.reshape(batch_size*16, 1, 80, 80)\n",
    "\n",
    "        if self.use_mag_enc:\n",
    "            with torch.no_grad():\n",
    "                #magnitude encoding\n",
    "                batch_flat = batch_flat.transpose(1, 3)\n",
    "                if self.mag_enc_type_relu:\n",
    "                    #first order\n",
    "                    batch_flat = batch_flat.add_(255/self.magnitude_encoding_dim)\n",
    "                    batch_flat = torch.nn.functional.relu_(batch_flat.mul_(self.input_scale).add_(self.input_offset).add(-self.mag_scale))\n",
    "                    #second order\n",
    "                    batch_flat = torch.cat((batch_flat[:, :, :, :-1] - 2*batch_flat[:, :, :, 1:], batch_flat[:, :, :, -1].unsqueeze(dim=-1)), dim=-1).mul_(self.magnitude_encoding_dim/2)\n",
    "                    batch_flat = torch.nn.functional.relu_(batch_flat)\n",
    "                else:\n",
    "                    batch_flat = batch_flat.mul_(self.input_scale).add_(self.input_offset).tanh_().add(self.mag_scale).mul_(self.input_encoding_variance_inv).pow_(2).mul_(-1).exp_().mul_(self.normalization_factor)\n",
    "                batch_flat = batch_flat.transpose(3, 1)\n",
    "\n",
    "        conv_out = self.conv(batch_flat)\n",
    "        #scatter context\n",
    "        objectsWithoutPos = self.post_cnn_linear(conv_out.reshape(batch_size*16, -1))\n",
    "        panel_vectors = objectsWithoutPos.reshape(batch_size, 16, 256-9)\n",
    "        given, option1, option2, option3, option4, option5, option6, option7, option8 = panel_vectors.split((8, 1, 1, 1, 1, 1, 1, 1, 1), dim=1)\n",
    "        optionsWithContext = torch.cat((\n",
    "            given, option1, \n",
    "            given, option2, \n",
    "            given, option3, \n",
    "            given, option4, \n",
    "            given, option5, \n",
    "            given, option6, \n",
    "            given, option7, \n",
    "            given, option8\n",
    "        ), 1)\n",
    "        optionsWithoutPos = optionsWithContext.reshape(batch_size*8*9, 256-9)\n",
    "        objects = torch.cat((optionsWithoutPos, self.tag_matrix.repeat(batch_size, 1)), dim=1).reshape(batch_size*8, 9, 256-9+9)\n",
    "\n",
    "        #MLRN\n",
    "        objRows = getCombinations(objects, batch_size*8, 9, 256)\n",
    "        objRows = objRows.reshape(batch_size*8*(18*3), 2*256)\n",
    "\n",
    "        gResult = self.g(objRows)#apply MLP\n",
    "\n",
    "        prev_result = gResult\n",
    "        prev_dim = self.h_dim\n",
    "        prev_result_2d = prev_result.reshape(batch_size*8, 18, 3, prev_dim)\n",
    "        sum_j = prev_result_2d.sum(dim=2)\n",
    "        for i, h_layer in enumerate(self.h):\n",
    "            residual = sum_j\n",
    "            intermed_obj_row_pairs = getSecondaryCombinations(sum_j, batch_size*8, 18, prev_dim)\n",
    "            intermed_obj_pairs = intermed_obj_row_pairs.reshape(batch_size*8*(18*18), 2*prev_dim)\n",
    "            prev_result = h_layer(intermed_obj_pairs)#apply MLP\n",
    "            prev_dim = self.h_dim\n",
    "            prev_result_2d = prev_result.reshape(batch_size*8, 18, 18, prev_dim)\n",
    "            sum_j = prev_result_2d.sum(dim=2)\n",
    "\n",
    "        hSum = sum_j.sum(dim=1)\n",
    "        result = self.f_final(self.f(hSum))#pre-softmax scores for every possible answer\n",
    "\n",
    "        answer = result.reshape(batch_size, 8)\n",
    "\n",
    "        #attempt to stabilize training (avoiding inf value activations in last layers) \n",
    "        activation_loss = hSum.pow(2).mean() + result.pow(2).mean()\n",
    "\n",
    "        return answer, activation_loss"
   ]
  },
  {
   "cell_type": "code",
   "execution_count": 13,
   "metadata": {
    "colab": {
     "base_uri": "https://localhost:8080/",
     "height": 486
    },
    "id": "DG85n71rm5-e",
    "outputId": "6b02201d-0f6a-4bc3-9b5d-456d51e03d0e"
   },
   "outputs": [
    {
     "name": "stdout",
     "output_type": "stream",
     "text": [
      "Epoch: 0\n"
     ]
    },
    {
     "name": "stderr",
     "output_type": "stream",
     "text": [
      "  0%|          | 0/188 [00:00<?, ?it/s]/common/home/ap1933/lamb.py:96: UserWarning: This overload of add_ is deprecated:\n",
      "\tadd_(Number alpha, Tensor other)\n",
      "Consider using one of the following signatures instead:\n",
      "\tadd_(Tensor other, *, Number alpha) (Triggered internally at  /opt/conda/conda-bld/pytorch_1616554782469/work/torch/csrc/utils/python_arg_parser.cpp:1005.)\n",
      "  exp_avg.mul_(beta1).add_(1 - beta1, grad)\n",
      "100%|██████████| 188/188 [00:40<00:00,  4.70it/s]"
     ]
    },
    {
     "name": "stdout",
     "output_type": "stream",
     "text": [
      "Avg Training Loss: 2.108262, Acc: 13.0984\n"
     ]
    },
    {
     "name": "stderr",
     "output_type": "stream",
     "text": [
      "\n",
      "100%|██████████| 63/63 [00:07<00:00,  8.94it/s]\n"
     ]
    },
    {
     "name": "stdout",
     "output_type": "stream",
     "text": [
      "Total Validation Loss: 4.159022, Acc: 13.3433\n"
     ]
    },
    {
     "name": "stderr",
     "output_type": "stream",
     "text": [
      "100%|██████████| 63/63 [00:07<00:00,  8.98it/s]\n"
     ]
    },
    {
     "name": "stdout",
     "output_type": "stream",
     "text": [
      "Total Testing Acc: 12.1528\n",
      "Epoch: 1\n"
     ]
    },
    {
     "name": "stderr",
     "output_type": "stream",
     "text": [
      "100%|██████████| 188/188 [00:41<00:00,  4.51it/s]\n"
     ]
    },
    {
     "name": "stdout",
     "output_type": "stream",
     "text": [
      "Avg Training Loss: 2.079529, Acc: 12.4834\n"
     ]
    },
    {
     "name": "stderr",
     "output_type": "stream",
     "text": [
      "100%|██████████| 63/63 [00:07<00:00,  8.33it/s]"
     ]
    },
    {
     "name": "stdout",
     "output_type": "stream",
     "text": [
      "Total Validation Loss: 4.159509, Acc: 12.0536\n"
     ]
    },
    {
     "name": "stderr",
     "output_type": "stream",
     "text": [
      "\n",
      "100%|██████████| 63/63 [00:07<00:00,  8.22it/s]\n"
     ]
    },
    {
     "name": "stdout",
     "output_type": "stream",
     "text": [
      "Total Testing Acc: 12.7976\n",
      "Epoch: 2\n"
     ]
    },
    {
     "name": "stderr",
     "output_type": "stream",
     "text": [
      "100%|██████████| 188/188 [00:34<00:00,  5.51it/s]\n"
     ]
    },
    {
     "name": "stdout",
     "output_type": "stream",
     "text": [
      "Avg Training Loss: 2.079443, Acc: 13.5140\n"
     ]
    },
    {
     "name": "stderr",
     "output_type": "stream",
     "text": [
      "100%|██████████| 63/63 [00:07<00:00,  8.59it/s]"
     ]
    },
    {
     "name": "stdout",
     "output_type": "stream",
     "text": [
      "Total Validation Loss: 4.153498, Acc: 17.6091\n"
     ]
    },
    {
     "name": "stderr",
     "output_type": "stream",
     "text": [
      "\n",
      "100%|██████████| 63/63 [00:07<00:00,  8.26it/s]\n"
     ]
    },
    {
     "name": "stdout",
     "output_type": "stream",
     "text": [
      "Total Testing Acc: 16.9643\n",
      "Epoch: 3\n"
     ]
    },
    {
     "name": "stderr",
     "output_type": "stream",
     "text": [
      "100%|██████████| 188/188 [00:32<00:00,  5.85it/s]"
     ]
    },
    {
     "name": "stdout",
     "output_type": "stream",
     "text": [
      "Avg Training Loss: 1.867347, Acc: 20.5120\n"
     ]
    },
    {
     "name": "stderr",
     "output_type": "stream",
     "text": [
      "\n",
      "100%|██████████| 63/63 [00:12<00:00,  5.20it/s]\n"
     ]
    },
    {
     "name": "stdout",
     "output_type": "stream",
     "text": [
      "Total Validation Loss: 3.381671, Acc: 23.4623\n"
     ]
    },
    {
     "name": "stderr",
     "output_type": "stream",
     "text": [
      "100%|██████████| 63/63 [00:06<00:00,  9.51it/s]"
     ]
    },
    {
     "name": "stdout",
     "output_type": "stream",
     "text": [
      "Total Testing Acc: 24.2063\n",
      "Epoch: 4\n"
     ]
    },
    {
     "name": "stderr",
     "output_type": "stream",
     "text": [
      "\n",
      "100%|██████████| 188/188 [00:20<00:00,  9.19it/s]\n"
     ]
    },
    {
     "name": "stdout",
     "output_type": "stream",
     "text": [
      "Avg Training Loss: 1.640584, Acc: 26.7453\n"
     ]
    },
    {
     "name": "stderr",
     "output_type": "stream",
     "text": [
      "100%|██████████| 63/63 [00:07<00:00,  8.97it/s]\n"
     ]
    },
    {
     "name": "stdout",
     "output_type": "stream",
     "text": [
      "Total Validation Loss: 3.254368, Acc: 25.0000\n"
     ]
    },
    {
     "name": "stderr",
     "output_type": "stream",
     "text": [
      "100%|██████████| 63/63 [00:06<00:00,  9.50it/s]"
     ]
    },
    {
     "name": "stdout",
     "output_type": "stream",
     "text": [
      "Total Testing Acc: 26.1905\n",
      "Epoch: 5\n"
     ]
    },
    {
     "name": "stderr",
     "output_type": "stream",
     "text": [
      "\n",
      "100%|██████████| 188/188 [00:37<00:00,  5.00it/s]\n"
     ]
    },
    {
     "name": "stdout",
     "output_type": "stream",
     "text": [
      "Avg Training Loss: 1.587867, Acc: 28.5406\n"
     ]
    },
    {
     "name": "stderr",
     "output_type": "stream",
     "text": [
      "100%|██████████| 63/63 [00:06<00:00,  9.48it/s]\n"
     ]
    },
    {
     "name": "stdout",
     "output_type": "stream",
     "text": [
      "Total Validation Loss: 3.085792, Acc: 29.6131\n"
     ]
    },
    {
     "name": "stderr",
     "output_type": "stream",
     "text": [
      "100%|██████████| 63/63 [00:06<00:00,  9.11it/s]"
     ]
    },
    {
     "name": "stdout",
     "output_type": "stream",
     "text": [
      "Total Testing Acc: 30.8036\n",
      "Epoch: 6\n"
     ]
    },
    {
     "name": "stderr",
     "output_type": "stream",
     "text": [
      "\n",
      "100%|██████████| 188/188 [00:29<00:00,  6.40it/s]\n"
     ]
    },
    {
     "name": "stdout",
     "output_type": "stream",
     "text": [
      "Avg Training Loss: 1.548634, Acc: 32.2972\n"
     ]
    },
    {
     "name": "stderr",
     "output_type": "stream",
     "text": [
      "100%|██████████| 63/63 [00:06<00:00,  9.12it/s]\n"
     ]
    },
    {
     "name": "stdout",
     "output_type": "stream",
     "text": [
      "Total Validation Loss: 3.013218, Acc: 33.2341\n"
     ]
    },
    {
     "name": "stderr",
     "output_type": "stream",
     "text": [
      "100%|██████████| 63/63 [00:06<00:00,  9.35it/s]"
     ]
    },
    {
     "name": "stdout",
     "output_type": "stream",
     "text": [
      "Total Testing Acc: 33.2837\n",
      "Epoch: 7\n"
     ]
    },
    {
     "name": "stderr",
     "output_type": "stream",
     "text": [
      "\n",
      "100%|██████████| 188/188 [00:39<00:00,  4.74it/s]\n"
     ]
    },
    {
     "name": "stdout",
     "output_type": "stream",
     "text": [
      "Avg Training Loss: 1.511772, Acc: 34.2753\n"
     ]
    },
    {
     "name": "stderr",
     "output_type": "stream",
     "text": [
      "100%|██████████| 63/63 [00:06<00:00, 10.21it/s]"
     ]
    },
    {
     "name": "stdout",
     "output_type": "stream",
     "text": [
      "Total Validation Loss: 2.961651, Acc: 35.5159\n"
     ]
    },
    {
     "name": "stderr",
     "output_type": "stream",
     "text": [
      "\n",
      "100%|██████████| 63/63 [00:05<00:00, 10.66it/s]\n"
     ]
    },
    {
     "name": "stdout",
     "output_type": "stream",
     "text": [
      "Total Testing Acc: 36.4087\n",
      "Epoch: 8\n"
     ]
    },
    {
     "name": "stderr",
     "output_type": "stream",
     "text": [
      "100%|██████████| 188/188 [00:37<00:00,  5.05it/s]\n"
     ]
    },
    {
     "name": "stdout",
     "output_type": "stream",
     "text": [
      "Avg Training Loss: 1.462776, Acc: 37.7327\n"
     ]
    },
    {
     "name": "stderr",
     "output_type": "stream",
     "text": [
      "100%|██████████| 63/63 [00:06<00:00, 10.47it/s]\n"
     ]
    },
    {
     "name": "stdout",
     "output_type": "stream",
     "text": [
      "Total Validation Loss: 2.928605, Acc: 36.7063\n"
     ]
    },
    {
     "name": "stderr",
     "output_type": "stream",
     "text": [
      "100%|██████████| 63/63 [00:05<00:00, 10.92it/s]\n"
     ]
    },
    {
     "name": "stdout",
     "output_type": "stream",
     "text": [
      "Total Testing Acc: 36.0615\n",
      "Epoch: 9\n"
     ]
    },
    {
     "name": "stderr",
     "output_type": "stream",
     "text": [
      "100%|██████████| 188/188 [00:35<00:00,  5.30it/s]\n"
     ]
    },
    {
     "name": "stdout",
     "output_type": "stream",
     "text": [
      "Avg Training Loss: 1.415340, Acc: 40.9242\n"
     ]
    },
    {
     "name": "stderr",
     "output_type": "stream",
     "text": [
      "100%|██████████| 63/63 [00:05<00:00, 10.61it/s]"
     ]
    },
    {
     "name": "stdout",
     "output_type": "stream",
     "text": [
      "Total Validation Loss: 2.808427, Acc: 43.3532\n"
     ]
    },
    {
     "name": "stderr",
     "output_type": "stream",
     "text": [
      "\n",
      "100%|██████████| 63/63 [00:06<00:00, 10.23it/s]\n"
     ]
    },
    {
     "name": "stdout",
     "output_type": "stream",
     "text": [
      "Total Testing Acc: 41.2202\n",
      "Epoch: 10\n"
     ]
    },
    {
     "name": "stderr",
     "output_type": "stream",
     "text": [
      "100%|██████████| 188/188 [00:33<00:00,  5.69it/s]\n"
     ]
    },
    {
     "name": "stdout",
     "output_type": "stream",
     "text": [
      "Avg Training Loss: 1.350070, Acc: 43.4176\n"
     ]
    },
    {
     "name": "stderr",
     "output_type": "stream",
     "text": [
      "100%|██████████| 63/63 [00:06<00:00,  9.88it/s]\n"
     ]
    },
    {
     "name": "stdout",
     "output_type": "stream",
     "text": [
      "Total Validation Loss: 2.697774, Acc: 47.4206\n"
     ]
    },
    {
     "name": "stderr",
     "output_type": "stream",
     "text": [
      "100%|██████████| 63/63 [00:05<00:00, 10.55it/s]"
     ]
    },
    {
     "name": "stdout",
     "output_type": "stream",
     "text": [
      "Total Testing Acc: 44.9901\n",
      "Epoch: 11\n"
     ]
    },
    {
     "name": "stderr",
     "output_type": "stream",
     "text": [
      "\n",
      "100%|██████████| 188/188 [00:31<00:00,  5.94it/s]\n"
     ]
    },
    {
     "name": "stdout",
     "output_type": "stream",
     "text": [
      "Avg Training Loss: 1.235402, Acc: 51.1636\n"
     ]
    },
    {
     "name": "stderr",
     "output_type": "stream",
     "text": [
      "100%|██████████| 63/63 [00:05<00:00, 10.68it/s]\n"
     ]
    },
    {
     "name": "stdout",
     "output_type": "stream",
     "text": [
      "Total Validation Loss: 2.293794, Acc: 58.1349\n"
     ]
    },
    {
     "name": "stderr",
     "output_type": "stream",
     "text": [
      "100%|██████████| 63/63 [00:05<00:00, 11.06it/s]\n"
     ]
    },
    {
     "name": "stdout",
     "output_type": "stream",
     "text": [
      "Total Testing Acc: 55.6052\n",
      "Epoch: 12\n"
     ]
    },
    {
     "name": "stderr",
     "output_type": "stream",
     "text": [
      "100%|██████████| 188/188 [00:32<00:00,  5.87it/s]\n"
     ]
    },
    {
     "name": "stdout",
     "output_type": "stream",
     "text": [
      "Avg Training Loss: 1.075813, Acc: 61.1203\n"
     ]
    },
    {
     "name": "stderr",
     "output_type": "stream",
     "text": [
      "100%|██████████| 63/63 [00:06<00:00, 10.03it/s]\n"
     ]
    },
    {
     "name": "stdout",
     "output_type": "stream",
     "text": [
      "Total Validation Loss: 2.267472, Acc: 64.4841\n"
     ]
    },
    {
     "name": "stderr",
     "output_type": "stream",
     "text": [
      "100%|██████████| 63/63 [00:05<00:00, 10.92it/s]"
     ]
    },
    {
     "name": "stdout",
     "output_type": "stream",
     "text": [
      "Total Testing Acc: 63.0952\n",
      "Epoch: 13\n"
     ]
    },
    {
     "name": "stderr",
     "output_type": "stream",
     "text": [
      "\n",
      "100%|██████████| 188/188 [00:29<00:00,  6.38it/s]\n"
     ]
    },
    {
     "name": "stdout",
     "output_type": "stream",
     "text": [
      "Avg Training Loss: 0.950475, Acc: 67.2207\n"
     ]
    },
    {
     "name": "stderr",
     "output_type": "stream",
     "text": [
      "100%|██████████| 63/63 [00:05<00:00, 10.60it/s]\n"
     ]
    },
    {
     "name": "stdout",
     "output_type": "stream",
     "text": [
      "Total Validation Loss: 1.764948, Acc: 70.1885\n"
     ]
    },
    {
     "name": "stderr",
     "output_type": "stream",
     "text": [
      "100%|██████████| 63/63 [00:06<00:00,  9.52it/s]"
     ]
    },
    {
     "name": "stdout",
     "output_type": "stream",
     "text": [
      "Total Testing Acc: 66.7659\n",
      "Epoch: 14\n"
     ]
    },
    {
     "name": "stderr",
     "output_type": "stream",
     "text": [
      "\n",
      "100%|██████████| 188/188 [00:29<00:00,  6.30it/s]\n"
     ]
    },
    {
     "name": "stdout",
     "output_type": "stream",
     "text": [
      "Avg Training Loss: 0.866286, Acc: 69.7307\n"
     ]
    },
    {
     "name": "stderr",
     "output_type": "stream",
     "text": [
      "100%|██████████| 63/63 [00:06<00:00,  9.67it/s]\n"
     ]
    },
    {
     "name": "stdout",
     "output_type": "stream",
     "text": [
      "Total Validation Loss: 1.875870, Acc: 68.4524\n"
     ]
    },
    {
     "name": "stderr",
     "output_type": "stream",
     "text": [
      "100%|██████████| 63/63 [00:06<00:00,  9.42it/s]"
     ]
    },
    {
     "name": "stdout",
     "output_type": "stream",
     "text": [
      "Total Testing Acc: 65.6250\n",
      "Epoch: 15\n"
     ]
    },
    {
     "name": "stderr",
     "output_type": "stream",
     "text": [
      "\n",
      "100%|██████████| 188/188 [00:31<00:00,  5.99it/s]"
     ]
    },
    {
     "name": "stdout",
     "output_type": "stream",
     "text": [
      "Avg Training Loss: 0.818746, Acc: 71.5758\n"
     ]
    },
    {
     "name": "stderr",
     "output_type": "stream",
     "text": [
      "\n",
      "100%|██████████| 63/63 [00:07<00:00,  8.55it/s]\n"
     ]
    },
    {
     "name": "stdout",
     "output_type": "stream",
     "text": [
      "Total Validation Loss: 1.615429, Acc: 73.5615\n"
     ]
    },
    {
     "name": "stderr",
     "output_type": "stream",
     "text": [
      "100%|██████████| 63/63 [00:06<00:00,  9.05it/s]\n"
     ]
    },
    {
     "name": "stdout",
     "output_type": "stream",
     "text": [
      "Total Testing Acc: 72.9663\n",
      "Epoch: 16\n"
     ]
    },
    {
     "name": "stderr",
     "output_type": "stream",
     "text": [
      "100%|██████████| 188/188 [00:40<00:00,  4.59it/s]\n"
     ]
    },
    {
     "name": "stdout",
     "output_type": "stream",
     "text": [
      "Avg Training Loss: 0.783653, Acc: 72.5898\n"
     ]
    },
    {
     "name": "stderr",
     "output_type": "stream",
     "text": [
      "100%|██████████| 63/63 [00:06<00:00,  9.47it/s]"
     ]
    },
    {
     "name": "stdout",
     "output_type": "stream",
     "text": [
      "Total Validation Loss: 1.650489, Acc: 72.3710\n"
     ]
    },
    {
     "name": "stderr",
     "output_type": "stream",
     "text": [
      "\n",
      "100%|██████████| 63/63 [00:11<00:00,  5.71it/s]"
     ]
    },
    {
     "name": "stdout",
     "output_type": "stream",
     "text": [
      "Total Testing Acc: 70.9325\n",
      "Epoch: 17\n"
     ]
    },
    {
     "name": "stderr",
     "output_type": "stream",
     "text": [
      "\n",
      "100%|██████████| 188/188 [00:21<00:00,  8.90it/s]"
     ]
    },
    {
     "name": "stdout",
     "output_type": "stream",
     "text": [
      "Avg Training Loss: 0.739451, Acc: 74.5678\n"
     ]
    },
    {
     "name": "stderr",
     "output_type": "stream",
     "text": [
      "\n",
      "100%|██████████| 63/63 [00:06<00:00,  9.26it/s]\n"
     ]
    },
    {
     "name": "stdout",
     "output_type": "stream",
     "text": [
      "Total Validation Loss: 1.591683, Acc: 73.1151\n"
     ]
    },
    {
     "name": "stderr",
     "output_type": "stream",
     "text": [
      "100%|██████████| 63/63 [00:06<00:00,  9.14it/s]"
     ]
    },
    {
     "name": "stdout",
     "output_type": "stream",
     "text": [
      "Total Testing Acc: 72.3710\n",
      "Epoch: 18\n"
     ]
    },
    {
     "name": "stderr",
     "output_type": "stream",
     "text": [
      "\n",
      "100%|██████████| 188/188 [00:36<00:00,  5.14it/s]\n"
     ]
    },
    {
     "name": "stdout",
     "output_type": "stream",
     "text": [
      "Avg Training Loss: 0.711250, Acc: 75.8477\n"
     ]
    },
    {
     "name": "stderr",
     "output_type": "stream",
     "text": [
      "100%|██████████| 63/63 [00:05<00:00, 11.87it/s]\n"
     ]
    },
    {
     "name": "stdout",
     "output_type": "stream",
     "text": [
      "Total Validation Loss: 1.514627, Acc: 73.7103\n"
     ]
    },
    {
     "name": "stderr",
     "output_type": "stream",
     "text": [
      "100%|██████████| 63/63 [00:06<00:00, 10.23it/s]\n"
     ]
    },
    {
     "name": "stdout",
     "output_type": "stream",
     "text": [
      "Total Testing Acc: 74.7520\n",
      "Epoch: 19\n"
     ]
    },
    {
     "name": "stderr",
     "output_type": "stream",
     "text": [
      "100%|██████████| 188/188 [00:40<00:00,  4.60it/s]\n"
     ]
    },
    {
     "name": "stdout",
     "output_type": "stream",
     "text": [
      "Avg Training Loss: 0.686419, Acc: 77.3604\n"
     ]
    },
    {
     "name": "stderr",
     "output_type": "stream",
     "text": [
      "100%|██████████| 63/63 [00:06<00:00,  9.32it/s]"
     ]
    },
    {
     "name": "stdout",
     "output_type": "stream",
     "text": [
      "Total Validation Loss: 1.616437, Acc: 73.0159\n"
     ]
    },
    {
     "name": "stderr",
     "output_type": "stream",
     "text": [
      "\n",
      "100%|██████████| 63/63 [00:06<00:00,  9.38it/s]\n"
     ]
    },
    {
     "name": "stdout",
     "output_type": "stream",
     "text": [
      "Total Testing Acc: 73.1151\n",
      "Epoch: 20\n"
     ]
    },
    {
     "name": "stderr",
     "output_type": "stream",
     "text": [
      "100%|██████████| 188/188 [00:33<00:00,  5.56it/s]\n"
     ]
    },
    {
     "name": "stdout",
     "output_type": "stream",
     "text": [
      "Avg Training Loss: 0.668899, Acc: 76.9614\n"
     ]
    },
    {
     "name": "stderr",
     "output_type": "stream",
     "text": [
      "100%|██████████| 63/63 [00:05<00:00, 10.52it/s]"
     ]
    },
    {
     "name": "stdout",
     "output_type": "stream",
     "text": [
      "Total Validation Loss: 1.489622, Acc: 76.0417\n"
     ]
    },
    {
     "name": "stderr",
     "output_type": "stream",
     "text": [
      "\n",
      "100%|██████████| 63/63 [00:06<00:00,  9.95it/s]\n"
     ]
    },
    {
     "name": "stdout",
     "output_type": "stream",
     "text": [
      "Total Testing Acc: 75.2480\n",
      "Epoch: 21\n"
     ]
    },
    {
     "name": "stderr",
     "output_type": "stream",
     "text": [
      "100%|██████████| 188/188 [00:28<00:00,  6.70it/s]\n"
     ]
    },
    {
     "name": "stdout",
     "output_type": "stream",
     "text": [
      "Avg Training Loss: 0.647979, Acc: 78.0253\n"
     ]
    },
    {
     "name": "stderr",
     "output_type": "stream",
     "text": [
      "100%|██████████| 63/63 [00:05<00:00, 10.65it/s]\n"
     ]
    },
    {
     "name": "stdout",
     "output_type": "stream",
     "text": [
      "Total Validation Loss: 1.426578, Acc: 76.1409\n"
     ]
    },
    {
     "name": "stderr",
     "output_type": "stream",
     "text": [
      "100%|██████████| 63/63 [00:05<00:00, 10.89it/s]\n"
     ]
    },
    {
     "name": "stdout",
     "output_type": "stream",
     "text": [
      "Total Testing Acc: 76.4881\n",
      "Epoch: 22\n"
     ]
    },
    {
     "name": "stderr",
     "output_type": "stream",
     "text": [
      "100%|██████████| 188/188 [00:29<00:00,  6.33it/s]\n"
     ]
    },
    {
     "name": "stdout",
     "output_type": "stream",
     "text": [
      "Avg Training Loss: 0.617432, Acc: 79.3883\n"
     ]
    },
    {
     "name": "stderr",
     "output_type": "stream",
     "text": [
      "100%|██████████| 63/63 [00:05<00:00, 10.98it/s]\n"
     ]
    },
    {
     "name": "stdout",
     "output_type": "stream",
     "text": [
      "Total Validation Loss: 1.425684, Acc: 75.0992\n"
     ]
    },
    {
     "name": "stderr",
     "output_type": "stream",
     "text": [
      "100%|██████████| 63/63 [00:06<00:00, 10.40it/s]\n"
     ]
    },
    {
     "name": "stdout",
     "output_type": "stream",
     "text": [
      "Total Testing Acc: 76.4881\n",
      "Epoch: 23\n"
     ]
    },
    {
     "name": "stderr",
     "output_type": "stream",
     "text": [
      "100%|██████████| 188/188 [00:30<00:00,  6.11it/s]\n"
     ]
    },
    {
     "name": "stdout",
     "output_type": "stream",
     "text": [
      "Avg Training Loss: 0.597287, Acc: 80.8843\n"
     ]
    },
    {
     "name": "stderr",
     "output_type": "stream",
     "text": [
      "100%|██████████| 63/63 [00:06<00:00, 10.29it/s]\n"
     ]
    },
    {
     "name": "stdout",
     "output_type": "stream",
     "text": [
      "Total Validation Loss: 1.356933, Acc: 75.6448\n"
     ]
    },
    {
     "name": "stderr",
     "output_type": "stream",
     "text": [
      "100%|██████████| 63/63 [00:05<00:00, 11.19it/s]\n"
     ]
    },
    {
     "name": "stdout",
     "output_type": "stream",
     "text": [
      "Total Testing Acc: 77.3810\n",
      "Epoch: 24\n"
     ]
    },
    {
     "name": "stderr",
     "output_type": "stream",
     "text": [
      "100%|██████████| 188/188 [00:30<00:00,  6.25it/s]\n"
     ]
    },
    {
     "name": "stdout",
     "output_type": "stream",
     "text": [
      "Avg Training Loss: 0.573698, Acc: 81.5824\n"
     ]
    },
    {
     "name": "stderr",
     "output_type": "stream",
     "text": [
      "100%|██████████| 63/63 [00:06<00:00,  9.90it/s]\n"
     ]
    },
    {
     "name": "stdout",
     "output_type": "stream",
     "text": [
      "Total Validation Loss: 1.404220, Acc: 75.4464\n"
     ]
    },
    {
     "name": "stderr",
     "output_type": "stream",
     "text": [
      "100%|██████████| 63/63 [00:06<00:00,  9.60it/s]\n"
     ]
    },
    {
     "name": "stdout",
     "output_type": "stream",
     "text": [
      "Total Testing Acc: 75.8929\n",
      "Epoch: 25\n"
     ]
    },
    {
     "name": "stderr",
     "output_type": "stream",
     "text": [
      "100%|██████████| 188/188 [00:30<00:00,  6.18it/s]\n"
     ]
    },
    {
     "name": "stdout",
     "output_type": "stream",
     "text": [
      "Avg Training Loss: 0.544423, Acc: 82.1642\n"
     ]
    },
    {
     "name": "stderr",
     "output_type": "stream",
     "text": [
      "100%|██████████| 63/63 [00:05<00:00, 10.77it/s]"
     ]
    },
    {
     "name": "stdout",
     "output_type": "stream",
     "text": [
      "Total Validation Loss: 1.307653, Acc: 77.3313\n"
     ]
    },
    {
     "name": "stderr",
     "output_type": "stream",
     "text": [
      "\n",
      "100%|██████████| 63/63 [00:06<00:00, 10.48it/s]\n"
     ]
    },
    {
     "name": "stdout",
     "output_type": "stream",
     "text": [
      "Total Testing Acc: 77.4306\n",
      "Epoch: 26\n"
     ]
    },
    {
     "name": "stderr",
     "output_type": "stream",
     "text": [
      "100%|██████████| 188/188 [00:31<00:00,  5.93it/s]\n"
     ]
    },
    {
     "name": "stdout",
     "output_type": "stream",
     "text": [
      "Avg Training Loss: 0.532240, Acc: 82.9953\n"
     ]
    },
    {
     "name": "stderr",
     "output_type": "stream",
     "text": [
      "100%|██████████| 63/63 [00:06<00:00,  9.18it/s]"
     ]
    },
    {
     "name": "stdout",
     "output_type": "stream",
     "text": [
      "Total Validation Loss: 1.346680, Acc: 77.5794\n"
     ]
    },
    {
     "name": "stderr",
     "output_type": "stream",
     "text": [
      "\n",
      "100%|██████████| 63/63 [00:06<00:00,  9.23it/s]\n"
     ]
    },
    {
     "name": "stdout",
     "output_type": "stream",
     "text": [
      "Total Testing Acc: 77.6786\n",
      "Epoch: 27\n"
     ]
    },
    {
     "name": "stderr",
     "output_type": "stream",
     "text": [
      "100%|██████████| 188/188 [00:29<00:00,  6.27it/s]\n"
     ]
    },
    {
     "name": "stdout",
     "output_type": "stream",
     "text": [
      "Avg Training Loss: 0.513180, Acc: 83.6104\n"
     ]
    },
    {
     "name": "stderr",
     "output_type": "stream",
     "text": [
      "100%|██████████| 63/63 [00:06<00:00,  9.88it/s]"
     ]
    },
    {
     "name": "stdout",
     "output_type": "stream",
     "text": [
      "Total Validation Loss: 1.326656, Acc: 77.6786\n"
     ]
    },
    {
     "name": "stderr",
     "output_type": "stream",
     "text": [
      "\n",
      "100%|██████████| 63/63 [00:06<00:00,  9.44it/s]\n"
     ]
    },
    {
     "name": "stdout",
     "output_type": "stream",
     "text": [
      "Total Testing Acc: 78.6210\n",
      "Epoch: 28\n"
     ]
    },
    {
     "name": "stderr",
     "output_type": "stream",
     "text": [
      "100%|██████████| 188/188 [00:29<00:00,  6.39it/s]\n"
     ]
    },
    {
     "name": "stdout",
     "output_type": "stream",
     "text": [
      "Avg Training Loss: 0.488552, Acc: 84.8238\n"
     ]
    },
    {
     "name": "stderr",
     "output_type": "stream",
     "text": [
      "100%|██████████| 63/63 [00:06<00:00,  9.17it/s]\n"
     ]
    },
    {
     "name": "stdout",
     "output_type": "stream",
     "text": [
      "Total Validation Loss: 1.372649, Acc: 76.6865\n"
     ]
    },
    {
     "name": "stderr",
     "output_type": "stream",
     "text": [
      "100%|██████████| 63/63 [00:06<00:00,  9.53it/s]"
     ]
    },
    {
     "name": "stdout",
     "output_type": "stream",
     "text": [
      "Total Testing Acc: 77.0833\n",
      "Epoch: 29\n"
     ]
    },
    {
     "name": "stderr",
     "output_type": "stream",
     "text": [
      "\n",
      "100%|██████████| 188/188 [00:36<00:00,  5.10it/s]\n"
     ]
    },
    {
     "name": "stdout",
     "output_type": "stream",
     "text": [
      "Avg Training Loss: 0.478473, Acc: 85.4721\n"
     ]
    },
    {
     "name": "stderr",
     "output_type": "stream",
     "text": [
      "100%|██████████| 63/63 [00:07<00:00,  8.63it/s]\n"
     ]
    },
    {
     "name": "stdout",
     "output_type": "stream",
     "text": [
      "Total Validation Loss: 1.371063, Acc: 75.6448\n"
     ]
    },
    {
     "name": "stderr",
     "output_type": "stream",
     "text": [
      "100%|██████████| 63/63 [00:07<00:00,  8.64it/s]\n"
     ]
    },
    {
     "name": "stdout",
     "output_type": "stream",
     "text": [
      "Total Testing Acc: 76.8353\n",
      "Epoch: 30\n"
     ]
    },
    {
     "name": "stderr",
     "output_type": "stream",
     "text": [
      "100%|██████████| 188/188 [00:30<00:00,  6.26it/s]\n"
     ]
    },
    {
     "name": "stdout",
     "output_type": "stream",
     "text": [
      "Avg Training Loss: 0.457805, Acc: 86.2367\n"
     ]
    },
    {
     "name": "stderr",
     "output_type": "stream",
     "text": [
      "100%|██████████| 63/63 [00:06<00:00,  9.20it/s]"
     ]
    },
    {
     "name": "stdout",
     "output_type": "stream",
     "text": [
      "Total Validation Loss: 1.417384, Acc: 78.6210\n"
     ]
    },
    {
     "name": "stderr",
     "output_type": "stream",
     "text": [
      "\n",
      "100%|██████████| 63/63 [00:06<00:00,  9.48it/s]\n"
     ]
    },
    {
     "name": "stdout",
     "output_type": "stream",
     "text": [
      "Total Testing Acc: 79.2163\n",
      "Epoch: 31\n"
     ]
    },
    {
     "name": "stderr",
     "output_type": "stream",
     "text": [
      "100%|██████████| 188/188 [00:20<00:00,  9.09it/s]\n"
     ]
    },
    {
     "name": "stdout",
     "output_type": "stream",
     "text": [
      "Avg Training Loss: 0.444347, Acc: 86.4860\n"
     ]
    },
    {
     "name": "stderr",
     "output_type": "stream",
     "text": [
      "100%|██████████| 63/63 [00:06<00:00,  9.75it/s]"
     ]
    },
    {
     "name": "stdout",
     "output_type": "stream",
     "text": [
      "Total Validation Loss: 1.359915, Acc: 77.1825\n"
     ]
    },
    {
     "name": "stderr",
     "output_type": "stream",
     "text": [
      "\n",
      "100%|██████████| 63/63 [00:06<00:00,  9.71it/s]\n"
     ]
    },
    {
     "name": "stdout",
     "output_type": "stream",
     "text": [
      "Total Testing Acc: 76.5873\n",
      "Epoch: 32\n"
     ]
    },
    {
     "name": "stderr",
     "output_type": "stream",
     "text": [
      "100%|██████████| 188/188 [00:38<00:00,  4.90it/s]\n"
     ]
    },
    {
     "name": "stdout",
     "output_type": "stream",
     "text": [
      "Avg Training Loss: 0.426968, Acc: 87.4169\n"
     ]
    },
    {
     "name": "stderr",
     "output_type": "stream",
     "text": [
      "100%|██████████| 63/63 [00:06<00:00,  9.97it/s]\n"
     ]
    },
    {
     "name": "stdout",
     "output_type": "stream",
     "text": [
      "Total Validation Loss: 1.314598, Acc: 78.3234\n"
     ]
    },
    {
     "name": "stderr",
     "output_type": "stream",
     "text": [
      "100%|██████████| 63/63 [00:06<00:00,  9.55it/s]\n"
     ]
    },
    {
     "name": "stdout",
     "output_type": "stream",
     "text": [
      "Total Testing Acc: 78.5714\n",
      "Epoch: 33\n"
     ]
    },
    {
     "name": "stderr",
     "output_type": "stream",
     "text": [
      "100%|██████████| 188/188 [00:33<00:00,  5.64it/s]\n"
     ]
    },
    {
     "name": "stdout",
     "output_type": "stream",
     "text": [
      "Avg Training Loss: 0.407945, Acc: 88.3311\n"
     ]
    },
    {
     "name": "stderr",
     "output_type": "stream",
     "text": [
      "100%|██████████| 63/63 [00:05<00:00, 11.20it/s]\n"
     ]
    },
    {
     "name": "stdout",
     "output_type": "stream",
     "text": [
      "Total Validation Loss: 1.293369, Acc: 79.1171\n"
     ]
    },
    {
     "name": "stderr",
     "output_type": "stream",
     "text": [
      "100%|██████████| 63/63 [00:05<00:00, 10.85it/s]\n"
     ]
    },
    {
     "name": "stdout",
     "output_type": "stream",
     "text": [
      "Total Testing Acc: 78.9683\n",
      "Epoch: 34\n"
     ]
    },
    {
     "name": "stderr",
     "output_type": "stream",
     "text": [
      "100%|██████████| 188/188 [00:33<00:00,  5.64it/s]\n"
     ]
    },
    {
     "name": "stdout",
     "output_type": "stream",
     "text": [
      "Avg Training Loss: 0.404786, Acc: 88.6636\n"
     ]
    },
    {
     "name": "stderr",
     "output_type": "stream",
     "text": [
      "100%|██████████| 63/63 [00:05<00:00, 10.60it/s]"
     ]
    },
    {
     "name": "stdout",
     "output_type": "stream",
     "text": [
      "Total Validation Loss: 1.260109, Acc: 79.3651\n"
     ]
    },
    {
     "name": "stderr",
     "output_type": "stream",
     "text": [
      "\n",
      "100%|██████████| 63/63 [00:05<00:00, 11.00it/s]\n"
     ]
    },
    {
     "name": "stdout",
     "output_type": "stream",
     "text": [
      "Total Testing Acc: 79.4147\n",
      "Epoch: 35\n"
     ]
    },
    {
     "name": "stderr",
     "output_type": "stream",
     "text": [
      "100%|██████████| 188/188 [00:32<00:00,  5.83it/s]\n"
     ]
    },
    {
     "name": "stdout",
     "output_type": "stream",
     "text": [
      "Avg Training Loss: 0.383932, Acc: 90.0598\n"
     ]
    },
    {
     "name": "stderr",
     "output_type": "stream",
     "text": [
      "100%|██████████| 63/63 [00:05<00:00, 10.96it/s]\n"
     ]
    },
    {
     "name": "stdout",
     "output_type": "stream",
     "text": [
      "Total Validation Loss: 1.363830, Acc: 79.6131\n"
     ]
    },
    {
     "name": "stderr",
     "output_type": "stream",
     "text": [
      "100%|██████████| 63/63 [00:06<00:00, 10.46it/s]\n"
     ]
    },
    {
     "name": "stdout",
     "output_type": "stream",
     "text": [
      "Total Testing Acc: 80.6052\n",
      "Epoch: 36\n"
     ]
    },
    {
     "name": "stderr",
     "output_type": "stream",
     "text": [
      "100%|██████████| 188/188 [00:29<00:00,  6.32it/s]\n"
     ]
    },
    {
     "name": "stdout",
     "output_type": "stream",
     "text": [
      "Avg Training Loss: 0.367709, Acc: 90.4422\n"
     ]
    },
    {
     "name": "stderr",
     "output_type": "stream",
     "text": [
      "100%|██████████| 63/63 [00:05<00:00, 10.62it/s]\n"
     ]
    },
    {
     "name": "stdout",
     "output_type": "stream",
     "text": [
      "Total Validation Loss: 1.337228, Acc: 77.2321\n"
     ]
    },
    {
     "name": "stderr",
     "output_type": "stream",
     "text": [
      "100%|██████████| 63/63 [00:06<00:00, 10.32it/s]\n"
     ]
    },
    {
     "name": "stdout",
     "output_type": "stream",
     "text": [
      "Total Testing Acc: 78.6210\n",
      "Epoch: 37\n"
     ]
    },
    {
     "name": "stderr",
     "output_type": "stream",
     "text": [
      "100%|██████████| 188/188 [00:29<00:00,  6.33it/s]\n"
     ]
    },
    {
     "name": "stdout",
     "output_type": "stream",
     "text": [
      "Avg Training Loss: 0.356555, Acc: 90.9408\n"
     ]
    },
    {
     "name": "stderr",
     "output_type": "stream",
     "text": [
      "100%|██████████| 63/63 [00:05<00:00, 10.66it/s]\n"
     ]
    },
    {
     "name": "stdout",
     "output_type": "stream",
     "text": [
      "Total Validation Loss: 1.257766, Acc: 78.5714\n"
     ]
    },
    {
     "name": "stderr",
     "output_type": "stream",
     "text": [
      "100%|██████████| 63/63 [00:05<00:00, 11.02it/s]\n"
     ]
    },
    {
     "name": "stdout",
     "output_type": "stream",
     "text": [
      "Total Testing Acc: 79.8115\n",
      "Epoch: 38\n"
     ]
    },
    {
     "name": "stderr",
     "output_type": "stream",
     "text": [
      "100%|██████████| 188/188 [00:31<00:00,  5.97it/s]\n"
     ]
    },
    {
     "name": "stdout",
     "output_type": "stream",
     "text": [
      "Avg Training Loss: 0.335971, Acc: 91.7387\n"
     ]
    },
    {
     "name": "stderr",
     "output_type": "stream",
     "text": [
      "100%|██████████| 63/63 [00:06<00:00, 10.35it/s]\n"
     ]
    },
    {
     "name": "stdout",
     "output_type": "stream",
     "text": [
      "Total Validation Loss: 1.249805, Acc: 78.9683\n"
     ]
    },
    {
     "name": "stderr",
     "output_type": "stream",
     "text": [
      "100%|██████████| 63/63 [00:05<00:00, 10.82it/s]\n"
     ]
    },
    {
     "name": "stdout",
     "output_type": "stream",
     "text": [
      "Total Testing Acc: 79.2659\n",
      "Epoch: 39\n"
     ]
    },
    {
     "name": "stderr",
     "output_type": "stream",
     "text": [
      "100%|██████████| 188/188 [00:31<00:00,  6.01it/s]"
     ]
    },
    {
     "name": "stdout",
     "output_type": "stream",
     "text": [
      "Avg Training Loss: 0.332888, Acc: 91.4062\n"
     ]
    },
    {
     "name": "stderr",
     "output_type": "stream",
     "text": [
      "\n",
      "100%|██████████| 63/63 [00:06<00:00, 10.28it/s]\n"
     ]
    },
    {
     "name": "stdout",
     "output_type": "stream",
     "text": [
      "Total Validation Loss: 1.286385, Acc: 78.9187\n"
     ]
    },
    {
     "name": "stderr",
     "output_type": "stream",
     "text": [
      "100%|██████████| 63/63 [00:06<00:00,  9.70it/s]"
     ]
    },
    {
     "name": "stdout",
     "output_type": "stream",
     "text": [
      "Total Testing Acc: 79.7619\n",
      "Epoch: 40\n"
     ]
    },
    {
     "name": "stderr",
     "output_type": "stream",
     "text": [
      "\n",
      "100%|██████████| 188/188 [00:31<00:00,  6.06it/s]\n"
     ]
    },
    {
     "name": "stdout",
     "output_type": "stream",
     "text": [
      "Avg Training Loss: 0.316623, Acc: 92.4368\n"
     ]
    },
    {
     "name": "stderr",
     "output_type": "stream",
     "text": [
      "100%|██████████| 63/63 [00:06<00:00, 10.15it/s]\n"
     ]
    },
    {
     "name": "stdout",
     "output_type": "stream",
     "text": [
      "Total Validation Loss: 1.265162, Acc: 77.5794\n"
     ]
    },
    {
     "name": "stderr",
     "output_type": "stream",
     "text": [
      "100%|██████████| 63/63 [00:06<00:00,  9.33it/s]"
     ]
    },
    {
     "name": "stdout",
     "output_type": "stream",
     "text": [
      "Total Testing Acc: 79.0675\n",
      "Epoch: 41\n"
     ]
    },
    {
     "name": "stderr",
     "output_type": "stream",
     "text": [
      "\n",
      "100%|██████████| 188/188 [00:30<00:00,  6.10it/s]\n"
     ]
    },
    {
     "name": "stdout",
     "output_type": "stream",
     "text": [
      "Avg Training Loss: 0.303047, Acc: 92.5033\n"
     ]
    },
    {
     "name": "stderr",
     "output_type": "stream",
     "text": [
      "100%|██████████| 63/63 [00:06<00:00,  9.42it/s]\n"
     ]
    },
    {
     "name": "stdout",
     "output_type": "stream",
     "text": [
      "Total Validation Loss: 1.415096, Acc: 77.0833\n"
     ]
    },
    {
     "name": "stderr",
     "output_type": "stream",
     "text": [
      "100%|██████████| 63/63 [00:06<00:00,  9.08it/s]\n"
     ]
    },
    {
     "name": "stdout",
     "output_type": "stream",
     "text": [
      "Total Testing Acc: 78.2242\n",
      "Epoch: 42\n"
     ]
    },
    {
     "name": "stderr",
     "output_type": "stream",
     "text": [
      "100%|██████████| 188/188 [00:33<00:00,  5.68it/s]"
     ]
    },
    {
     "name": "stdout",
     "output_type": "stream",
     "text": [
      "Avg Training Loss: 0.293810, Acc: 93.2347\n"
     ]
    },
    {
     "name": "stderr",
     "output_type": "stream",
     "text": [
      "\n",
      "100%|██████████| 63/63 [00:07<00:00,  8.46it/s]\n"
     ]
    },
    {
     "name": "stdout",
     "output_type": "stream",
     "text": [
      "Total Validation Loss: 1.415594, Acc: 80.2579\n"
     ]
    },
    {
     "name": "stderr",
     "output_type": "stream",
     "text": [
      "100%|██████████| 63/63 [00:07<00:00,  8.97it/s]\n"
     ]
    },
    {
     "name": "stdout",
     "output_type": "stream",
     "text": [
      "Total Testing Acc: 81.0516\n",
      "Epoch: 43\n"
     ]
    },
    {
     "name": "stderr",
     "output_type": "stream",
     "text": [
      "100%|██████████| 188/188 [00:32<00:00,  5.74it/s]\n"
     ]
    },
    {
     "name": "stdout",
     "output_type": "stream",
     "text": [
      "Avg Training Loss: 0.275820, Acc: 93.4840\n"
     ]
    },
    {
     "name": "stderr",
     "output_type": "stream",
     "text": [
      "100%|██████████| 63/63 [00:07<00:00,  8.10it/s]\n"
     ]
    },
    {
     "name": "stdout",
     "output_type": "stream",
     "text": [
      "Total Validation Loss: 1.463643, Acc: 77.6786\n"
     ]
    },
    {
     "name": "stderr",
     "output_type": "stream",
     "text": [
      "100%|██████████| 63/63 [00:06<00:00,  9.03it/s]\n"
     ]
    },
    {
     "name": "stdout",
     "output_type": "stream",
     "text": [
      "Total Testing Acc: 78.7202\n",
      "Epoch: 44\n"
     ]
    },
    {
     "name": "stderr",
     "output_type": "stream",
     "text": [
      "100%|██████████| 188/188 [00:29<00:00,  6.34it/s]"
     ]
    },
    {
     "name": "stdout",
     "output_type": "stream",
     "text": [
      "Avg Training Loss: 0.258850, Acc: 94.7141\n"
     ]
    },
    {
     "name": "stderr",
     "output_type": "stream",
     "text": [
      "\n",
      "100%|██████████| 63/63 [00:07<00:00,  8.96it/s]"
     ]
    },
    {
     "name": "stdout",
     "output_type": "stream",
     "text": [
      "Total Validation Loss: 1.338366, Acc: 77.6290\n"
     ]
    },
    {
     "name": "stderr",
     "output_type": "stream",
     "text": [
      "\n",
      "100%|██████████| 63/63 [00:06<00:00,  9.28it/s]"
     ]
    },
    {
     "name": "stdout",
     "output_type": "stream",
     "text": [
      "Total Testing Acc: 79.6131\n",
      "Epoch: 45\n"
     ]
    },
    {
     "name": "stderr",
     "output_type": "stream",
     "text": [
      "\n",
      "100%|██████████| 188/188 [00:20<00:00,  9.22it/s]\n"
     ]
    },
    {
     "name": "stdout",
     "output_type": "stream",
     "text": [
      "Avg Training Loss: 0.256149, Acc: 94.8138\n"
     ]
    },
    {
     "name": "stderr",
     "output_type": "stream",
     "text": [
      "100%|██████████| 63/63 [00:07<00:00,  8.64it/s]\n"
     ]
    },
    {
     "name": "stdout",
     "output_type": "stream",
     "text": [
      "Total Validation Loss: 1.401180, Acc: 79.0179\n"
     ]
    },
    {
     "name": "stderr",
     "output_type": "stream",
     "text": [
      "100%|██████████| 63/63 [00:07<00:00,  8.90it/s]"
     ]
    },
    {
     "name": "stdout",
     "output_type": "stream",
     "text": [
      "Total Testing Acc: 78.9187\n",
      "Epoch: 46\n"
     ]
    },
    {
     "name": "stderr",
     "output_type": "stream",
     "text": [
      "\n",
      "100%|██████████| 188/188 [00:38<00:00,  4.88it/s]\n"
     ]
    },
    {
     "name": "stdout",
     "output_type": "stream",
     "text": [
      "Avg Training Loss: 0.249620, Acc: 94.9468\n"
     ]
    },
    {
     "name": "stderr",
     "output_type": "stream",
     "text": [
      "100%|██████████| 63/63 [00:06<00:00,  9.86it/s]\n"
     ]
    },
    {
     "name": "stdout",
     "output_type": "stream",
     "text": [
      "Total Validation Loss: 1.346139, Acc: 79.9107\n"
     ]
    },
    {
     "name": "stderr",
     "output_type": "stream",
     "text": [
      "100%|██████████| 63/63 [00:06<00:00,  9.98it/s]\n"
     ]
    },
    {
     "name": "stdout",
     "output_type": "stream",
     "text": [
      "Total Testing Acc: 79.9107\n",
      "Epoch: 47\n"
     ]
    },
    {
     "name": "stderr",
     "output_type": "stream",
     "text": [
      "100%|██████████| 188/188 [00:29<00:00,  6.39it/s]\n"
     ]
    },
    {
     "name": "stdout",
     "output_type": "stream",
     "text": [
      "Avg Training Loss: 0.241236, Acc: 95.2460\n"
     ]
    },
    {
     "name": "stderr",
     "output_type": "stream",
     "text": [
      "100%|██████████| 63/63 [00:06<00:00, 10.18it/s]"
     ]
    },
    {
     "name": "stdout",
     "output_type": "stream",
     "text": [
      "Total Validation Loss: 1.377500, Acc: 79.1171\n"
     ]
    },
    {
     "name": "stderr",
     "output_type": "stream",
     "text": [
      "\n",
      "100%|██████████| 63/63 [00:06<00:00, 10.25it/s]\n"
     ]
    },
    {
     "name": "stdout",
     "output_type": "stream",
     "text": [
      "Total Testing Acc: 79.9603\n",
      "Epoch: 48\n"
     ]
    },
    {
     "name": "stderr",
     "output_type": "stream",
     "text": [
      "100%|██████████| 188/188 [00:29<00:00,  6.42it/s]\n"
     ]
    },
    {
     "name": "stdout",
     "output_type": "stream",
     "text": [
      "Avg Training Loss: 0.234835, Acc: 95.9608\n"
     ]
    },
    {
     "name": "stderr",
     "output_type": "stream",
     "text": [
      "100%|██████████| 63/63 [00:06<00:00, 10.01it/s]\n"
     ]
    },
    {
     "name": "stdout",
     "output_type": "stream",
     "text": [
      "Total Validation Loss: 1.506808, Acc: 77.4802\n"
     ]
    },
    {
     "name": "stderr",
     "output_type": "stream",
     "text": [
      "100%|██████████| 63/63 [00:06<00:00, 10.20it/s]"
     ]
    },
    {
     "name": "stdout",
     "output_type": "stream",
     "text": [
      "Total Testing Acc: 79.0675\n",
      "Epoch: 49\n"
     ]
    },
    {
     "name": "stderr",
     "output_type": "stream",
     "text": [
      "\n",
      "100%|██████████| 188/188 [00:28<00:00,  6.52it/s]\n"
     ]
    },
    {
     "name": "stdout",
     "output_type": "stream",
     "text": [
      "Avg Training Loss: 0.228225, Acc: 95.9109\n"
     ]
    },
    {
     "name": "stderr",
     "output_type": "stream",
     "text": [
      "100%|██████████| 63/63 [00:06<00:00, 10.40it/s]\n"
     ]
    },
    {
     "name": "stdout",
     "output_type": "stream",
     "text": [
      "Total Validation Loss: 1.392253, Acc: 80.7044\n"
     ]
    },
    {
     "name": "stderr",
     "output_type": "stream",
     "text": [
      "100%|██████████| 63/63 [00:06<00:00,  9.52it/s]\n"
     ]
    },
    {
     "name": "stdout",
     "output_type": "stream",
     "text": [
      "Total Testing Acc: 82.4405\n",
      "Epoch: 50\n"
     ]
    },
    {
     "name": "stderr",
     "output_type": "stream",
     "text": [
      "100%|██████████| 188/188 [00:29<00:00,  6.30it/s]\n"
     ]
    },
    {
     "name": "stdout",
     "output_type": "stream",
     "text": [
      "Avg Training Loss: 0.220716, Acc: 96.2600\n"
     ]
    },
    {
     "name": "stderr",
     "output_type": "stream",
     "text": [
      "100%|██████████| 63/63 [00:06<00:00,  9.91it/s]\n"
     ]
    },
    {
     "name": "stdout",
     "output_type": "stream",
     "text": [
      "Total Validation Loss: 1.413514, Acc: 80.7044\n"
     ]
    },
    {
     "name": "stderr",
     "output_type": "stream",
     "text": [
      "100%|██████████| 63/63 [00:06<00:00,  9.84it/s]"
     ]
    },
    {
     "name": "stdout",
     "output_type": "stream",
     "text": [
      "Total Testing Acc: 81.6964\n",
      "Epoch: 51\n"
     ]
    },
    {
     "name": "stderr",
     "output_type": "stream",
     "text": [
      "\n",
      "100%|██████████| 188/188 [00:37<00:00,  5.02it/s]"
     ]
    },
    {
     "name": "stdout",
     "output_type": "stream",
     "text": [
      "Avg Training Loss: 0.205335, Acc: 96.6257\n"
     ]
    },
    {
     "name": "stderr",
     "output_type": "stream",
     "text": [
      "\n",
      "100%|██████████| 63/63 [00:06<00:00,  9.49it/s]"
     ]
    },
    {
     "name": "stdout",
     "output_type": "stream",
     "text": [
      "Total Validation Loss: 1.598790, Acc: 79.2659\n"
     ]
    },
    {
     "name": "stderr",
     "output_type": "stream",
     "text": [
      "\n",
      "100%|██████████| 63/63 [00:06<00:00,  9.64it/s]\n"
     ]
    },
    {
     "name": "stdout",
     "output_type": "stream",
     "text": [
      "Total Testing Acc: 79.9107\n",
      "Epoch: 52\n"
     ]
    },
    {
     "name": "stderr",
     "output_type": "stream",
     "text": [
      "100%|██████████| 188/188 [00:41<00:00,  4.51it/s]"
     ]
    },
    {
     "name": "stdout",
     "output_type": "stream",
     "text": [
      "Avg Training Loss: 0.204215, Acc: 96.5426\n"
     ]
    },
    {
     "name": "stderr",
     "output_type": "stream",
     "text": [
      "\n",
      "100%|██████████| 63/63 [00:07<00:00,  8.93it/s]\n"
     ]
    },
    {
     "name": "stdout",
     "output_type": "stream",
     "text": [
      "Total Validation Loss: 1.515823, Acc: 79.1667\n"
     ]
    },
    {
     "name": "stderr",
     "output_type": "stream",
     "text": [
      "100%|██████████| 63/63 [00:06<00:00,  9.26it/s]\n"
     ]
    },
    {
     "name": "stdout",
     "output_type": "stream",
     "text": [
      "Total Testing Acc: 81.2500\n",
      "Epoch: 53\n"
     ]
    },
    {
     "name": "stderr",
     "output_type": "stream",
     "text": [
      "100%|██████████| 188/188 [00:38<00:00,  4.83it/s]"
     ]
    },
    {
     "name": "stdout",
     "output_type": "stream",
     "text": [
      "Avg Training Loss: 0.190494, Acc: 97.1410\n"
     ]
    },
    {
     "name": "stderr",
     "output_type": "stream",
     "text": [
      "\n",
      "100%|██████████| 63/63 [00:07<00:00,  8.30it/s]\n"
     ]
    },
    {
     "name": "stdout",
     "output_type": "stream",
     "text": [
      "Total Validation Loss: 1.509544, Acc: 78.8194\n"
     ]
    },
    {
     "name": "stderr",
     "output_type": "stream",
     "text": [
      "100%|██████████| 63/63 [00:07<00:00,  8.96it/s]\n"
     ]
    },
    {
     "name": "stdout",
     "output_type": "stream",
     "text": [
      "Total Testing Acc: 80.4563\n",
      "Epoch: 54\n"
     ]
    },
    {
     "name": "stderr",
     "output_type": "stream",
     "text": [
      "100%|██████████| 188/188 [00:40<00:00,  4.65it/s]\n"
     ]
    },
    {
     "name": "stdout",
     "output_type": "stream",
     "text": [
      "Avg Training Loss: 0.190763, Acc: 97.1410\n"
     ]
    },
    {
     "name": "stderr",
     "output_type": "stream",
     "text": [
      "100%|██████████| 63/63 [00:06<00:00,  9.14it/s]"
     ]
    },
    {
     "name": "stdout",
     "output_type": "stream",
     "text": [
      "Total Validation Loss: 1.406421, Acc: 78.6706\n"
     ]
    },
    {
     "name": "stderr",
     "output_type": "stream",
     "text": [
      "\n",
      "100%|██████████| 63/63 [00:06<00:00,  9.16it/s]"
     ]
    },
    {
     "name": "stdout",
     "output_type": "stream",
     "text": [
      "Total Testing Acc: 79.8611\n",
      "Epoch: 55\n"
     ]
    },
    {
     "name": "stderr",
     "output_type": "stream",
     "text": [
      "\n",
      "100%|██████████| 188/188 [00:45<00:00,  4.09it/s]"
     ]
    },
    {
     "name": "stdout",
     "output_type": "stream",
     "text": [
      "Avg Training Loss: 0.179911, Acc: 97.4900\n"
     ]
    },
    {
     "name": "stderr",
     "output_type": "stream",
     "text": [
      "\n",
      "100%|██████████| 63/63 [00:08<00:00,  7.72it/s]"
     ]
    },
    {
     "name": "stdout",
     "output_type": "stream",
     "text": [
      "Total Validation Loss: 1.456349, Acc: 79.7123\n"
     ]
    },
    {
     "name": "stderr",
     "output_type": "stream",
     "text": [
      "\n",
      "100%|██████████| 63/63 [00:07<00:00,  8.34it/s]\n"
     ]
    },
    {
     "name": "stdout",
     "output_type": "stream",
     "text": [
      "Total Testing Acc: 79.6131\n",
      "Epoch: 56\n"
     ]
    },
    {
     "name": "stderr",
     "output_type": "stream",
     "text": [
      "100%|██████████| 188/188 [00:39<00:00,  4.81it/s]\n"
     ]
    },
    {
     "name": "stdout",
     "output_type": "stream",
     "text": [
      "Avg Training Loss: 0.173283, Acc: 97.8723\n"
     ]
    },
    {
     "name": "stderr",
     "output_type": "stream",
     "text": [
      "100%|██████████| 63/63 [00:07<00:00,  8.75it/s]"
     ]
    },
    {
     "name": "stdout",
     "output_type": "stream",
     "text": [
      "Total Validation Loss: 1.544129, Acc: 79.9107\n"
     ]
    },
    {
     "name": "stderr",
     "output_type": "stream",
     "text": [
      "\n",
      "100%|██████████| 63/63 [00:06<00:00,  9.73it/s]\n"
     ]
    },
    {
     "name": "stdout",
     "output_type": "stream",
     "text": [
      "Total Testing Acc: 80.6052\n",
      "Epoch: 57\n"
     ]
    },
    {
     "name": "stderr",
     "output_type": "stream",
     "text": [
      "100%|██████████| 188/188 [00:27<00:00,  6.84it/s]\n"
     ]
    },
    {
     "name": "stdout",
     "output_type": "stream",
     "text": [
      "Avg Training Loss: 0.169820, Acc: 97.7560\n"
     ]
    },
    {
     "name": "stderr",
     "output_type": "stream",
     "text": [
      "100%|██████████| 63/63 [00:06<00:00,  9.08it/s]\n"
     ]
    },
    {
     "name": "stdout",
     "output_type": "stream",
     "text": [
      "Total Validation Loss: 1.419458, Acc: 78.2242\n"
     ]
    },
    {
     "name": "stderr",
     "output_type": "stream",
     "text": [
      "100%|██████████| 63/63 [00:06<00:00,  9.05it/s]\n"
     ]
    },
    {
     "name": "stdout",
     "output_type": "stream",
     "text": [
      "Total Testing Acc: 80.3571\n",
      "Epoch: 58\n"
     ]
    },
    {
     "name": "stderr",
     "output_type": "stream",
     "text": [
      "100%|██████████| 188/188 [00:40<00:00,  4.64it/s]\n"
     ]
    },
    {
     "name": "stdout",
     "output_type": "stream",
     "text": [
      "Avg Training Loss: 0.180553, Acc: 97.5066\n"
     ]
    },
    {
     "name": "stderr",
     "output_type": "stream",
     "text": [
      "100%|██████████| 63/63 [00:06<00:00,  9.30it/s]\n"
     ]
    },
    {
     "name": "stdout",
     "output_type": "stream",
     "text": [
      "Total Validation Loss: 1.365329, Acc: 80.3075\n"
     ]
    },
    {
     "name": "stderr",
     "output_type": "stream",
     "text": [
      "100%|██████████| 63/63 [00:06<00:00,  9.65it/s]\n"
     ]
    },
    {
     "name": "stdout",
     "output_type": "stream",
     "text": [
      "Total Testing Acc: 81.3492\n",
      "Epoch: 59\n"
     ]
    },
    {
     "name": "stderr",
     "output_type": "stream",
     "text": [
      "100%|██████████| 188/188 [00:43<00:00,  4.29it/s]\n"
     ]
    },
    {
     "name": "stdout",
     "output_type": "stream",
     "text": [
      "Avg Training Loss: 0.168604, Acc: 97.9721\n"
     ]
    },
    {
     "name": "stderr",
     "output_type": "stream",
     "text": [
      "100%|██████████| 63/63 [00:06<00:00, 10.49it/s]"
     ]
    },
    {
     "name": "stdout",
     "output_type": "stream",
     "text": [
      "Total Validation Loss: 1.354498, Acc: 79.2163\n"
     ]
    },
    {
     "name": "stderr",
     "output_type": "stream",
     "text": [
      "\n",
      "100%|██████████| 63/63 [00:06<00:00,  9.75it/s]\n"
     ]
    },
    {
     "name": "stdout",
     "output_type": "stream",
     "text": [
      "Total Testing Acc: 80.5556\n",
      "Epoch: 60\n"
     ]
    },
    {
     "name": "stderr",
     "output_type": "stream",
     "text": [
      "100%|██████████| 188/188 [00:45<00:00,  4.16it/s]\n"
     ]
    },
    {
     "name": "stdout",
     "output_type": "stream",
     "text": [
      "Avg Training Loss: 0.152170, Acc: 98.6203\n"
     ]
    },
    {
     "name": "stderr",
     "output_type": "stream",
     "text": [
      "100%|██████████| 63/63 [00:06<00:00,  9.18it/s]\n"
     ]
    },
    {
     "name": "stdout",
     "output_type": "stream",
     "text": [
      "Total Validation Loss: 1.333188, Acc: 80.5556\n"
     ]
    },
    {
     "name": "stderr",
     "output_type": "stream",
     "text": [
      "100%|██████████| 63/63 [00:07<00:00,  8.88it/s]\n"
     ]
    },
    {
     "name": "stdout",
     "output_type": "stream",
     "text": [
      "Total Testing Acc: 81.9940\n",
      "Epoch: 61\n"
     ]
    },
    {
     "name": "stderr",
     "output_type": "stream",
     "text": [
      "100%|██████████| 188/188 [00:38<00:00,  4.90it/s]"
     ]
    },
    {
     "name": "stdout",
     "output_type": "stream",
     "text": [
      "Avg Training Loss: 0.166886, Acc: 98.3378\n"
     ]
    },
    {
     "name": "stderr",
     "output_type": "stream",
     "text": [
      "\n",
      "100%|██████████| 63/63 [00:07<00:00,  8.72it/s]\n"
     ]
    },
    {
     "name": "stdout",
     "output_type": "stream",
     "text": [
      "Total Validation Loss: 1.423649, Acc: 79.4643\n"
     ]
    },
    {
     "name": "stderr",
     "output_type": "stream",
     "text": [
      "100%|██████████| 63/63 [00:06<00:00,  9.31it/s]"
     ]
    },
    {
     "name": "stdout",
     "output_type": "stream",
     "text": [
      "Total Testing Acc: 81.1508\n",
      "Epoch: 62\n"
     ]
    },
    {
     "name": "stderr",
     "output_type": "stream",
     "text": [
      "\n",
      "100%|██████████| 188/188 [00:39<00:00,  4.76it/s]"
     ]
    },
    {
     "name": "stdout",
     "output_type": "stream",
     "text": [
      "Avg Training Loss: 0.154377, Acc: 98.5206\n"
     ]
    },
    {
     "name": "stderr",
     "output_type": "stream",
     "text": [
      "\n",
      "100%|██████████| 63/63 [00:06<00:00,  9.63it/s]"
     ]
    },
    {
     "name": "stdout",
     "output_type": "stream",
     "text": [
      "Total Validation Loss: 1.390391, Acc: 79.8115\n"
     ]
    },
    {
     "name": "stderr",
     "output_type": "stream",
     "text": [
      "\n",
      "100%|██████████| 63/63 [00:06<00:00,  9.71it/s]"
     ]
    },
    {
     "name": "stdout",
     "output_type": "stream",
     "text": [
      "Total Testing Acc: 81.4484\n",
      "Epoch: 63\n"
     ]
    },
    {
     "name": "stderr",
     "output_type": "stream",
     "text": [
      "\n",
      "100%|██████████| 188/188 [00:43<00:00,  4.36it/s]"
     ]
    },
    {
     "name": "stdout",
     "output_type": "stream",
     "text": [
      "Avg Training Loss: 0.145324, Acc: 98.4874\n"
     ]
    },
    {
     "name": "stderr",
     "output_type": "stream",
     "text": [
      "\n",
      "100%|██████████| 63/63 [00:06<00:00,  9.51it/s]"
     ]
    },
    {
     "name": "stdout",
     "output_type": "stream",
     "text": [
      "Total Validation Loss: 1.688783, Acc: 79.8611\n"
     ]
    },
    {
     "name": "stderr",
     "output_type": "stream",
     "text": [
      "\n",
      "100%|██████████| 63/63 [00:06<00:00,  9.54it/s]"
     ]
    },
    {
     "name": "stdout",
     "output_type": "stream",
     "text": [
      "Total Testing Acc: 81.9940\n",
      "Epoch: 64\n"
     ]
    },
    {
     "name": "stderr",
     "output_type": "stream",
     "text": [
      "\n",
      "100%|██████████| 188/188 [00:35<00:00,  5.27it/s]"
     ]
    },
    {
     "name": "stdout",
     "output_type": "stream",
     "text": [
      "Avg Training Loss: 0.138497, Acc: 98.7866\n"
     ]
    },
    {
     "name": "stderr",
     "output_type": "stream",
     "text": [
      "\n",
      "100%|██████████| 63/63 [00:07<00:00,  8.37it/s]"
     ]
    },
    {
     "name": "stdout",
     "output_type": "stream",
     "text": [
      "Total Validation Loss: 1.470158, Acc: 80.1091\n"
     ]
    },
    {
     "name": "stderr",
     "output_type": "stream",
     "text": [
      "\n",
      "100%|██████████| 63/63 [00:07<00:00,  8.69it/s]\n"
     ]
    },
    {
     "name": "stdout",
     "output_type": "stream",
     "text": [
      "Total Testing Acc: 81.2004\n",
      "Epoch: 65\n"
     ]
    },
    {
     "name": "stderr",
     "output_type": "stream",
     "text": [
      "100%|██████████| 188/188 [00:38<00:00,  4.83it/s]\n"
     ]
    },
    {
     "name": "stdout",
     "output_type": "stream",
     "text": [
      "Avg Training Loss: 0.137718, Acc: 98.7201\n"
     ]
    },
    {
     "name": "stderr",
     "output_type": "stream",
     "text": [
      "100%|██████████| 63/63 [00:07<00:00,  8.44it/s]\n"
     ]
    },
    {
     "name": "stdout",
     "output_type": "stream",
     "text": [
      "Total Validation Loss: 1.676757, Acc: 79.1667\n"
     ]
    },
    {
     "name": "stderr",
     "output_type": "stream",
     "text": [
      "100%|██████████| 63/63 [00:07<00:00,  8.50it/s]"
     ]
    },
    {
     "name": "stdout",
     "output_type": "stream",
     "text": [
      "Total Testing Acc: 79.9107\n",
      "Epoch: 66\n"
     ]
    },
    {
     "name": "stderr",
     "output_type": "stream",
     "text": [
      "\n",
      "100%|██████████| 188/188 [00:32<00:00,  5.71it/s]"
     ]
    },
    {
     "name": "stdout",
     "output_type": "stream",
     "text": [
      "Avg Training Loss: 0.132432, Acc: 99.0525\n"
     ]
    },
    {
     "name": "stderr",
     "output_type": "stream",
     "text": [
      "\n",
      "100%|██████████| 63/63 [00:07<00:00,  8.72it/s]\n"
     ]
    },
    {
     "name": "stdout",
     "output_type": "stream",
     "text": [
      "Total Validation Loss: 1.628082, Acc: 78.3730\n"
     ]
    },
    {
     "name": "stderr",
     "output_type": "stream",
     "text": [
      "100%|██████████| 63/63 [00:06<00:00,  9.04it/s]\n"
     ]
    },
    {
     "name": "stdout",
     "output_type": "stream",
     "text": [
      "Total Testing Acc: 80.3571\n",
      "Epoch: 67\n"
     ]
    },
    {
     "name": "stderr",
     "output_type": "stream",
     "text": [
      "100%|██████████| 188/188 [00:28<00:00,  6.57it/s]"
     ]
    },
    {
     "name": "stdout",
     "output_type": "stream",
     "text": [
      "Avg Training Loss: 0.134950, Acc: 99.0027\n"
     ]
    },
    {
     "name": "stderr",
     "output_type": "stream",
     "text": [
      "\n",
      "100%|██████████| 63/63 [00:07<00:00,  8.92it/s]"
     ]
    },
    {
     "name": "stdout",
     "output_type": "stream",
     "text": [
      "Total Validation Loss: 1.324635, Acc: 81.3988\n"
     ]
    },
    {
     "name": "stderr",
     "output_type": "stream",
     "text": [
      "\n",
      "100%|██████████| 63/63 [00:06<00:00,  9.21it/s]"
     ]
    },
    {
     "name": "stdout",
     "output_type": "stream",
     "text": [
      "Total Testing Acc: 81.3988\n",
      "Epoch: 68\n"
     ]
    },
    {
     "name": "stderr",
     "output_type": "stream",
     "text": [
      "\n",
      "100%|██████████| 188/188 [00:33<00:00,  5.55it/s]"
     ]
    },
    {
     "name": "stdout",
     "output_type": "stream",
     "text": [
      "Avg Training Loss: 0.128112, Acc: 99.1523\n"
     ]
    },
    {
     "name": "stderr",
     "output_type": "stream",
     "text": [
      "\n",
      "100%|██████████| 63/63 [00:07<00:00,  8.65it/s]"
     ]
    },
    {
     "name": "stdout",
     "output_type": "stream",
     "text": [
      "Total Validation Loss: 1.474488, Acc: 79.5635\n"
     ]
    },
    {
     "name": "stderr",
     "output_type": "stream",
     "text": [
      "\n",
      "100%|██████████| 63/63 [00:07<00:00,  8.86it/s]"
     ]
    },
    {
     "name": "stdout",
     "output_type": "stream",
     "text": [
      "Total Testing Acc: 81.0516\n",
      "Epoch: 69\n"
     ]
    },
    {
     "name": "stderr",
     "output_type": "stream",
     "text": [
      "\n",
      "100%|██████████| 188/188 [00:36<00:00,  5.12it/s]"
     ]
    },
    {
     "name": "stdout",
     "output_type": "stream",
     "text": [
      "Avg Training Loss: 0.127570, Acc: 98.7866\n"
     ]
    },
    {
     "name": "stderr",
     "output_type": "stream",
     "text": [
      "\n",
      "100%|██████████| 63/63 [00:06<00:00,  9.73it/s]\n"
     ]
    },
    {
     "name": "stdout",
     "output_type": "stream",
     "text": [
      "Total Validation Loss: 1.447931, Acc: 79.1667\n"
     ]
    },
    {
     "name": "stderr",
     "output_type": "stream",
     "text": [
      "100%|██████████| 63/63 [00:06<00:00,  9.33it/s]"
     ]
    },
    {
     "name": "stdout",
     "output_type": "stream",
     "text": [
      "Total Testing Acc: 81.3492\n",
      "Epoch: 70\n"
     ]
    },
    {
     "name": "stderr",
     "output_type": "stream",
     "text": [
      "\n",
      "100%|██████████| 188/188 [00:33<00:00,  5.64it/s]\n"
     ]
    },
    {
     "name": "stdout",
     "output_type": "stream",
     "text": [
      "Avg Training Loss: 0.122992, Acc: 99.1689\n"
     ]
    },
    {
     "name": "stderr",
     "output_type": "stream",
     "text": [
      "100%|██████████| 63/63 [00:05<00:00, 10.92it/s]"
     ]
    },
    {
     "name": "stdout",
     "output_type": "stream",
     "text": [
      "Total Validation Loss: 1.340316, Acc: 80.7044\n"
     ]
    },
    {
     "name": "stderr",
     "output_type": "stream",
     "text": [
      "\n",
      "100%|██████████| 63/63 [00:06<00:00, 10.46it/s]\n"
     ]
    },
    {
     "name": "stdout",
     "output_type": "stream",
     "text": [
      "Total Testing Acc: 81.2996\n",
      "Epoch: 71\n"
     ]
    },
    {
     "name": "stderr",
     "output_type": "stream",
     "text": [
      "100%|██████████| 188/188 [00:32<00:00,  5.85it/s]\n"
     ]
    },
    {
     "name": "stdout",
     "output_type": "stream",
     "text": [
      "Avg Training Loss: 0.129486, Acc: 98.8697\n"
     ]
    },
    {
     "name": "stderr",
     "output_type": "stream",
     "text": [
      "100%|██████████| 63/63 [00:05<00:00, 11.11it/s]\n"
     ]
    },
    {
     "name": "stdout",
     "output_type": "stream",
     "text": [
      "Total Validation Loss: 1.398188, Acc: 80.3075\n"
     ]
    },
    {
     "name": "stderr",
     "output_type": "stream",
     "text": [
      "100%|██████████| 63/63 [00:05<00:00, 10.81it/s]"
     ]
    },
    {
     "name": "stdout",
     "output_type": "stream",
     "text": [
      "Total Testing Acc: 81.7956\n",
      "Epoch: 72\n"
     ]
    },
    {
     "name": "stderr",
     "output_type": "stream",
     "text": [
      "\n",
      "100%|██████████| 188/188 [00:36<00:00,  5.17it/s]"
     ]
    },
    {
     "name": "stdout",
     "output_type": "stream",
     "text": [
      "Avg Training Loss: 0.120674, Acc: 99.0027\n"
     ]
    },
    {
     "name": "stderr",
     "output_type": "stream",
     "text": [
      "\n",
      "100%|██████████| 63/63 [00:05<00:00, 10.57it/s]"
     ]
    },
    {
     "name": "stdout",
     "output_type": "stream",
     "text": [
      "Total Validation Loss: 1.397581, Acc: 79.0675\n"
     ]
    },
    {
     "name": "stderr",
     "output_type": "stream",
     "text": [
      "\n",
      "100%|██████████| 63/63 [00:06<00:00, 10.12it/s]"
     ]
    },
    {
     "name": "stdout",
     "output_type": "stream",
     "text": [
      "Total Testing Acc: 81.6468\n",
      "Epoch: 73\n"
     ]
    },
    {
     "name": "stderr",
     "output_type": "stream",
     "text": [
      "\n",
      "100%|██████████| 188/188 [00:34<00:00,  5.38it/s]\n"
     ]
    },
    {
     "name": "stdout",
     "output_type": "stream",
     "text": [
      "Avg Training Loss: 0.111792, Acc: 99.3684\n"
     ]
    },
    {
     "name": "stderr",
     "output_type": "stream",
     "text": [
      "100%|██████████| 63/63 [00:06<00:00, 10.12it/s]\n"
     ]
    },
    {
     "name": "stdout",
     "output_type": "stream",
     "text": [
      "Total Validation Loss: 1.299464, Acc: 82.3909\n"
     ]
    },
    {
     "name": "stderr",
     "output_type": "stream",
     "text": [
      "100%|██████████| 63/63 [00:06<00:00,  9.88it/s]"
     ]
    },
    {
     "name": "stdout",
     "output_type": "stream",
     "text": [
      "Total Testing Acc: 81.4484\n",
      "Epoch: 74\n"
     ]
    },
    {
     "name": "stderr",
     "output_type": "stream",
     "text": [
      "\n",
      "100%|██████████| 188/188 [00:34<00:00,  5.45it/s]\n"
     ]
    },
    {
     "name": "stdout",
     "output_type": "stream",
     "text": [
      "Avg Training Loss: 0.109670, Acc: 99.4016\n"
     ]
    },
    {
     "name": "stderr",
     "output_type": "stream",
     "text": [
      "100%|██████████| 63/63 [00:06<00:00,  9.79it/s]"
     ]
    },
    {
     "name": "stdout",
     "output_type": "stream",
     "text": [
      "Total Validation Loss: 1.230651, Acc: 81.6964\n"
     ]
    },
    {
     "name": "stderr",
     "output_type": "stream",
     "text": [
      "\n",
      "100%|██████████| 63/63 [00:06<00:00,  9.42it/s]\n"
     ]
    },
    {
     "name": "stdout",
     "output_type": "stream",
     "text": [
      "Total Testing Acc: 81.7956\n",
      "Epoch: 75\n"
     ]
    },
    {
     "name": "stderr",
     "output_type": "stream",
     "text": [
      "100%|██████████| 188/188 [00:35<00:00,  5.31it/s]\n"
     ]
    },
    {
     "name": "stdout",
     "output_type": "stream",
     "text": [
      "Avg Training Loss: 0.102190, Acc: 99.7008\n"
     ]
    },
    {
     "name": "stderr",
     "output_type": "stream",
     "text": [
      "100%|██████████| 63/63 [00:06<00:00, 10.25it/s]"
     ]
    },
    {
     "name": "stdout",
     "output_type": "stream",
     "text": [
      "Total Validation Loss: 1.153595, Acc: 81.9940\n"
     ]
    },
    {
     "name": "stderr",
     "output_type": "stream",
     "text": [
      "\n",
      "100%|██████████| 63/63 [00:05<00:00, 11.52it/s]"
     ]
    },
    {
     "name": "stdout",
     "output_type": "stream",
     "text": [
      "Total Testing Acc: 83.0853\n",
      "Epoch: 76\n"
     ]
    },
    {
     "name": "stderr",
     "output_type": "stream",
     "text": [
      "\n",
      "100%|██████████| 188/188 [00:36<00:00,  5.22it/s]\n"
     ]
    },
    {
     "name": "stdout",
     "output_type": "stream",
     "text": [
      "Avg Training Loss: 0.107712, Acc: 99.2686\n"
     ]
    },
    {
     "name": "stderr",
     "output_type": "stream",
     "text": [
      "100%|██████████| 63/63 [00:06<00:00,  9.69it/s]\n"
     ]
    },
    {
     "name": "stdout",
     "output_type": "stream",
     "text": [
      "Total Validation Loss: 1.367143, Acc: 82.4405\n"
     ]
    },
    {
     "name": "stderr",
     "output_type": "stream",
     "text": [
      "100%|██████████| 63/63 [00:06<00:00,  9.62it/s]"
     ]
    },
    {
     "name": "stdout",
     "output_type": "stream",
     "text": [
      "Total Testing Acc: 82.1925\n",
      "Epoch: 77\n"
     ]
    },
    {
     "name": "stderr",
     "output_type": "stream",
     "text": [
      "\n",
      "100%|██████████| 188/188 [00:32<00:00,  5.72it/s]\n"
     ]
    },
    {
     "name": "stdout",
     "output_type": "stream",
     "text": [
      "Avg Training Loss: 0.106266, Acc: 99.4847\n"
     ]
    },
    {
     "name": "stderr",
     "output_type": "stream",
     "text": [
      "100%|██████████| 63/63 [00:06<00:00,  9.39it/s]"
     ]
    },
    {
     "name": "stdout",
     "output_type": "stream",
     "text": [
      "Total Validation Loss: 1.422566, Acc: 78.8690\n"
     ]
    },
    {
     "name": "stderr",
     "output_type": "stream",
     "text": [
      "\n",
      "100%|██████████| 63/63 [00:07<00:00,  8.93it/s]"
     ]
    },
    {
     "name": "stdout",
     "output_type": "stream",
     "text": [
      "Total Testing Acc: 80.8532\n",
      "Epoch: 78\n"
     ]
    },
    {
     "name": "stderr",
     "output_type": "stream",
     "text": [
      "\n",
      "100%|██████████| 188/188 [00:37<00:00,  4.96it/s]\n"
     ]
    },
    {
     "name": "stdout",
     "output_type": "stream",
     "text": [
      "Avg Training Loss: 0.104272, Acc: 99.5013\n"
     ]
    },
    {
     "name": "stderr",
     "output_type": "stream",
     "text": [
      "100%|██████████| 63/63 [00:06<00:00, 10.36it/s]"
     ]
    },
    {
     "name": "stdout",
     "output_type": "stream",
     "text": [
      "Total Validation Loss: 1.311300, Acc: 81.0516\n"
     ]
    },
    {
     "name": "stderr",
     "output_type": "stream",
     "text": [
      "\n",
      "100%|██████████| 63/63 [00:06<00:00,  9.53it/s]\n"
     ]
    },
    {
     "name": "stdout",
     "output_type": "stream",
     "text": [
      "Total Testing Acc: 82.4901\n",
      "Epoch: 79\n"
     ]
    },
    {
     "name": "stderr",
     "output_type": "stream",
     "text": [
      "100%|██████████| 188/188 [00:39<00:00,  4.80it/s]"
     ]
    },
    {
     "name": "stdout",
     "output_type": "stream",
     "text": [
      "Avg Training Loss: 0.102096, Acc: 99.5180\n"
     ]
    },
    {
     "name": "stderr",
     "output_type": "stream",
     "text": [
      "\n",
      "100%|██████████| 63/63 [00:06<00:00,  9.91it/s]\n"
     ]
    },
    {
     "name": "stdout",
     "output_type": "stream",
     "text": [
      "Total Validation Loss: 1.265430, Acc: 81.7956\n"
     ]
    },
    {
     "name": "stderr",
     "output_type": "stream",
     "text": [
      "100%|██████████| 63/63 [00:06<00:00,  9.71it/s]\n"
     ]
    },
    {
     "name": "stdout",
     "output_type": "stream",
     "text": [
      "Total Testing Acc: 82.1925\n",
      "Epoch: 80\n"
     ]
    },
    {
     "name": "stderr",
     "output_type": "stream",
     "text": [
      "100%|██████████| 188/188 [00:37<00:00,  5.04it/s]"
     ]
    },
    {
     "name": "stdout",
     "output_type": "stream",
     "text": [
      "Avg Training Loss: 0.103825, Acc: 99.6011\n"
     ]
    },
    {
     "name": "stderr",
     "output_type": "stream",
     "text": [
      "\n",
      "100%|██████████| 63/63 [00:07<00:00,  8.93it/s]"
     ]
    },
    {
     "name": "stdout",
     "output_type": "stream",
     "text": [
      "Total Validation Loss: 1.457570, Acc: 82.1925\n"
     ]
    },
    {
     "name": "stderr",
     "output_type": "stream",
     "text": [
      "\n",
      "100%|██████████| 63/63 [00:06<00:00,  9.68it/s]\n"
     ]
    },
    {
     "name": "stdout",
     "output_type": "stream",
     "text": [
      "Total Testing Acc: 82.5397\n",
      "Epoch: 81\n"
     ]
    },
    {
     "name": "stderr",
     "output_type": "stream",
     "text": [
      "100%|██████████| 188/188 [00:40<00:00,  4.61it/s]"
     ]
    },
    {
     "name": "stdout",
     "output_type": "stream",
     "text": [
      "Avg Training Loss: 0.091970, Acc: 99.6676\n"
     ]
    },
    {
     "name": "stderr",
     "output_type": "stream",
     "text": [
      "\n",
      "100%|██████████| 63/63 [00:05<00:00, 10.73it/s]\n"
     ]
    },
    {
     "name": "stdout",
     "output_type": "stream",
     "text": [
      "Total Validation Loss: 1.233198, Acc: 82.3909\n"
     ]
    },
    {
     "name": "stderr",
     "output_type": "stream",
     "text": [
      "100%|██████████| 63/63 [00:04<00:00, 12.87it/s]\n"
     ]
    },
    {
     "name": "stdout",
     "output_type": "stream",
     "text": [
      "Total Testing Acc: 82.6885\n",
      "Epoch: 82\n"
     ]
    },
    {
     "name": "stderr",
     "output_type": "stream",
     "text": [
      "100%|██████████| 188/188 [00:34<00:00,  5.50it/s]\n"
     ]
    },
    {
     "name": "stdout",
     "output_type": "stream",
     "text": [
      "Avg Training Loss: 0.087633, Acc: 99.7340\n"
     ]
    },
    {
     "name": "stderr",
     "output_type": "stream",
     "text": [
      "100%|██████████| 63/63 [00:06<00:00,  9.32it/s]\n"
     ]
    },
    {
     "name": "stdout",
     "output_type": "stream",
     "text": [
      "Total Validation Loss: 1.308522, Acc: 80.8532\n"
     ]
    },
    {
     "name": "stderr",
     "output_type": "stream",
     "text": [
      "100%|██████████| 63/63 [00:06<00:00,  9.58it/s]"
     ]
    },
    {
     "name": "stdout",
     "output_type": "stream",
     "text": [
      "Total Testing Acc: 82.4901\n",
      "Epoch: 83\n"
     ]
    },
    {
     "name": "stderr",
     "output_type": "stream",
     "text": [
      "\n",
      "100%|██████████| 188/188 [00:32<00:00,  5.80it/s]\n"
     ]
    },
    {
     "name": "stdout",
     "output_type": "stream",
     "text": [
      "Avg Training Loss: 0.100707, Acc: 99.3684\n"
     ]
    },
    {
     "name": "stderr",
     "output_type": "stream",
     "text": [
      "100%|██████████| 63/63 [00:05<00:00, 10.82it/s]"
     ]
    },
    {
     "name": "stdout",
     "output_type": "stream",
     "text": [
      "Total Validation Loss: 1.252697, Acc: 81.6468\n"
     ]
    },
    {
     "name": "stderr",
     "output_type": "stream",
     "text": [
      "\n",
      "100%|██████████| 63/63 [00:06<00:00,  9.52it/s]"
     ]
    },
    {
     "name": "stdout",
     "output_type": "stream",
     "text": [
      "Total Testing Acc: 81.8948\n",
      "Epoch: 84\n"
     ]
    },
    {
     "name": "stderr",
     "output_type": "stream",
     "text": [
      "\n",
      "100%|██████████| 188/188 [00:31<00:00,  5.90it/s]\n"
     ]
    },
    {
     "name": "stdout",
     "output_type": "stream",
     "text": [
      "Avg Training Loss: 0.086335, Acc: 99.7340\n"
     ]
    },
    {
     "name": "stderr",
     "output_type": "stream",
     "text": [
      "100%|██████████| 63/63 [00:06<00:00, 10.37it/s]"
     ]
    },
    {
     "name": "stdout",
     "output_type": "stream",
     "text": [
      "Total Validation Loss: 1.397489, Acc: 79.4643\n"
     ]
    },
    {
     "name": "stderr",
     "output_type": "stream",
     "text": [
      "\n",
      "100%|██████████| 63/63 [00:05<00:00, 11.79it/s]\n"
     ]
    },
    {
     "name": "stdout",
     "output_type": "stream",
     "text": [
      "Total Testing Acc: 79.9603\n",
      "Epoch: 85\n"
     ]
    },
    {
     "name": "stderr",
     "output_type": "stream",
     "text": [
      "100%|██████████| 188/188 [00:29<00:00,  6.42it/s]\n"
     ]
    },
    {
     "name": "stdout",
     "output_type": "stream",
     "text": [
      "Avg Training Loss: 0.098255, Acc: 99.3684\n"
     ]
    },
    {
     "name": "stderr",
     "output_type": "stream",
     "text": [
      "100%|██████████| 63/63 [00:06<00:00, 10.38it/s]"
     ]
    },
    {
     "name": "stdout",
     "output_type": "stream",
     "text": [
      "Total Validation Loss: 1.221283, Acc: 81.9444\n"
     ]
    },
    {
     "name": "stderr",
     "output_type": "stream",
     "text": [
      "\n",
      "100%|██████████| 63/63 [00:06<00:00,  9.56it/s]\n"
     ]
    },
    {
     "name": "stdout",
     "output_type": "stream",
     "text": [
      "Total Testing Acc: 81.3492\n",
      "Epoch: 86\n"
     ]
    },
    {
     "name": "stderr",
     "output_type": "stream",
     "text": [
      "100%|██████████| 188/188 [00:36<00:00,  5.09it/s]\n"
     ]
    },
    {
     "name": "stdout",
     "output_type": "stream",
     "text": [
      "Avg Training Loss: 0.088111, Acc: 99.5346\n"
     ]
    },
    {
     "name": "stderr",
     "output_type": "stream",
     "text": [
      "100%|██████████| 63/63 [00:06<00:00,  9.61it/s]\n"
     ]
    },
    {
     "name": "stdout",
     "output_type": "stream",
     "text": [
      "Total Validation Loss: 1.436115, Acc: 81.0020\n"
     ]
    },
    {
     "name": "stderr",
     "output_type": "stream",
     "text": [
      "100%|██████████| 63/63 [00:06<00:00, 10.27it/s]\n"
     ]
    },
    {
     "name": "stdout",
     "output_type": "stream",
     "text": [
      "Total Testing Acc: 82.7877\n",
      "Epoch: 87\n"
     ]
    },
    {
     "name": "stderr",
     "output_type": "stream",
     "text": [
      "100%|██████████| 188/188 [00:32<00:00,  5.74it/s]"
     ]
    },
    {
     "name": "stdout",
     "output_type": "stream",
     "text": [
      "Avg Training Loss: 0.083052, Acc: 99.7008\n"
     ]
    },
    {
     "name": "stderr",
     "output_type": "stream",
     "text": [
      "\n",
      "100%|██████████| 63/63 [00:07<00:00,  8.63it/s]\n"
     ]
    },
    {
     "name": "stdout",
     "output_type": "stream",
     "text": [
      "Total Validation Loss: 1.285357, Acc: 81.8948\n"
     ]
    },
    {
     "name": "stderr",
     "output_type": "stream",
     "text": [
      "100%|██████████| 63/63 [00:06<00:00,  9.44it/s]\n"
     ]
    },
    {
     "name": "stdout",
     "output_type": "stream",
     "text": [
      "Total Testing Acc: 83.7798\n",
      "Epoch: 88\n"
     ]
    },
    {
     "name": "stderr",
     "output_type": "stream",
     "text": [
      "100%|██████████| 188/188 [00:32<00:00,  5.79it/s]\n"
     ]
    },
    {
     "name": "stdout",
     "output_type": "stream",
     "text": [
      "Avg Training Loss: 0.088322, Acc: 99.6509\n"
     ]
    },
    {
     "name": "stderr",
     "output_type": "stream",
     "text": [
      "100%|██████████| 63/63 [00:08<00:00,  7.36it/s]"
     ]
    },
    {
     "name": "stdout",
     "output_type": "stream",
     "text": [
      "Total Validation Loss: 1.253946, Acc: 82.1429\n"
     ]
    },
    {
     "name": "stderr",
     "output_type": "stream",
     "text": [
      "\n",
      "100%|██████████| 63/63 [00:06<00:00,  9.55it/s]"
     ]
    },
    {
     "name": "stdout",
     "output_type": "stream",
     "text": [
      "Total Testing Acc: 82.3413\n",
      "Epoch: 89\n"
     ]
    },
    {
     "name": "stderr",
     "output_type": "stream",
     "text": [
      "\n",
      "100%|██████████| 188/188 [00:32<00:00,  5.81it/s]\n"
     ]
    },
    {
     "name": "stdout",
     "output_type": "stream",
     "text": [
      "Avg Training Loss: 0.085322, Acc: 99.7340\n"
     ]
    },
    {
     "name": "stderr",
     "output_type": "stream",
     "text": [
      "100%|██████████| 63/63 [00:06<00:00,  9.86it/s]\n"
     ]
    },
    {
     "name": "stdout",
     "output_type": "stream",
     "text": [
      "Total Validation Loss: 1.307569, Acc: 83.1845\n"
     ]
    },
    {
     "name": "stderr",
     "output_type": "stream",
     "text": [
      "100%|██████████| 63/63 [00:06<00:00,  9.47it/s]"
     ]
    },
    {
     "name": "stdout",
     "output_type": "stream",
     "text": [
      "Total Testing Acc: 83.2837\n",
      "Epoch: 90\n"
     ]
    },
    {
     "name": "stderr",
     "output_type": "stream",
     "text": [
      "\n",
      "100%|██████████| 188/188 [00:32<00:00,  5.82it/s]\n"
     ]
    },
    {
     "name": "stdout",
     "output_type": "stream",
     "text": [
      "Avg Training Loss: 0.087467, Acc: 99.5678\n"
     ]
    },
    {
     "name": "stderr",
     "output_type": "stream",
     "text": [
      "100%|██████████| 63/63 [00:05<00:00, 10.51it/s]\n"
     ]
    },
    {
     "name": "stdout",
     "output_type": "stream",
     "text": [
      "Total Validation Loss: 1.381920, Acc: 81.2500\n"
     ]
    },
    {
     "name": "stderr",
     "output_type": "stream",
     "text": [
      "100%|██████████| 63/63 [00:06<00:00,  9.64it/s]\n"
     ]
    },
    {
     "name": "stdout",
     "output_type": "stream",
     "text": [
      "Total Testing Acc: 82.4901\n",
      "Epoch: 91\n"
     ]
    },
    {
     "name": "stderr",
     "output_type": "stream",
     "text": [
      "100%|██████████| 188/188 [00:37<00:00,  5.00it/s]"
     ]
    },
    {
     "name": "stdout",
     "output_type": "stream",
     "text": [
      "Avg Training Loss: 0.082880, Acc: 99.6011\n"
     ]
    },
    {
     "name": "stderr",
     "output_type": "stream",
     "text": [
      "\n",
      "100%|██████████| 63/63 [00:06<00:00,  9.07it/s]\n"
     ]
    },
    {
     "name": "stdout",
     "output_type": "stream",
     "text": [
      "Total Validation Loss: 1.249861, Acc: 82.3909\n"
     ]
    },
    {
     "name": "stderr",
     "output_type": "stream",
     "text": [
      "100%|██████████| 63/63 [00:06<00:00,  9.45it/s]\n"
     ]
    },
    {
     "name": "stdout",
     "output_type": "stream",
     "text": [
      "Total Testing Acc: 83.2341\n",
      "Epoch: 92\n"
     ]
    },
    {
     "name": "stderr",
     "output_type": "stream",
     "text": [
      "100%|██████████| 188/188 [00:33<00:00,  5.60it/s]\n"
     ]
    },
    {
     "name": "stdout",
     "output_type": "stream",
     "text": [
      "Avg Training Loss: 0.086638, Acc: 99.6676\n"
     ]
    },
    {
     "name": "stderr",
     "output_type": "stream",
     "text": [
      "100%|██████████| 63/63 [00:06<00:00,  9.28it/s]"
     ]
    },
    {
     "name": "stdout",
     "output_type": "stream",
     "text": [
      "Total Validation Loss: 1.229697, Acc: 82.3909\n"
     ]
    },
    {
     "name": "stderr",
     "output_type": "stream",
     "text": [
      "\n",
      "100%|██████████| 63/63 [00:06<00:00,  9.33it/s]"
     ]
    },
    {
     "name": "stdout",
     "output_type": "stream",
     "text": [
      "Total Testing Acc: 83.8294\n",
      "Epoch: 93\n"
     ]
    },
    {
     "name": "stderr",
     "output_type": "stream",
     "text": [
      "\n",
      "100%|██████████| 188/188 [00:34<00:00,  5.47it/s]\n"
     ]
    },
    {
     "name": "stdout",
     "output_type": "stream",
     "text": [
      "Avg Training Loss: 0.085170, Acc: 99.4348\n"
     ]
    },
    {
     "name": "stderr",
     "output_type": "stream",
     "text": [
      "100%|██████████| 63/63 [00:06<00:00, 10.03it/s]\n"
     ]
    },
    {
     "name": "stdout",
     "output_type": "stream",
     "text": [
      "Total Validation Loss: 1.253978, Acc: 82.1925\n"
     ]
    },
    {
     "name": "stderr",
     "output_type": "stream",
     "text": [
      "100%|██████████| 63/63 [00:06<00:00, 10.39it/s]"
     ]
    },
    {
     "name": "stdout",
     "output_type": "stream",
     "text": [
      "Total Testing Acc: 82.3909\n",
      "Epoch: 94\n"
     ]
    },
    {
     "name": "stderr",
     "output_type": "stream",
     "text": [
      "\n",
      "100%|██████████| 188/188 [00:29<00:00,  6.45it/s]\n"
     ]
    },
    {
     "name": "stdout",
     "output_type": "stream",
     "text": [
      "Avg Training Loss: 0.083102, Acc: 99.7673\n"
     ]
    },
    {
     "name": "stderr",
     "output_type": "stream",
     "text": [
      "100%|██████████| 63/63 [00:05<00:00, 11.43it/s]\n"
     ]
    },
    {
     "name": "stdout",
     "output_type": "stream",
     "text": [
      "Total Validation Loss: 1.310328, Acc: 82.9861\n"
     ]
    },
    {
     "name": "stderr",
     "output_type": "stream",
     "text": [
      "100%|██████████| 63/63 [00:05<00:00, 11.37it/s]"
     ]
    },
    {
     "name": "stdout",
     "output_type": "stream",
     "text": [
      "Total Testing Acc: 82.7877\n",
      "Epoch: 95\n"
     ]
    },
    {
     "name": "stderr",
     "output_type": "stream",
     "text": [
      "\n",
      "100%|██████████| 188/188 [00:34<00:00,  5.50it/s]\n"
     ]
    },
    {
     "name": "stdout",
     "output_type": "stream",
     "text": [
      "Avg Training Loss: 0.077078, Acc: 99.8005\n"
     ]
    },
    {
     "name": "stderr",
     "output_type": "stream",
     "text": [
      "100%|██████████| 63/63 [00:05<00:00, 10.81it/s]\n"
     ]
    },
    {
     "name": "stdout",
     "output_type": "stream",
     "text": [
      "Total Validation Loss: 1.111846, Acc: 83.5813\n"
     ]
    },
    {
     "name": "stderr",
     "output_type": "stream",
     "text": [
      "100%|██████████| 63/63 [00:06<00:00, 10.07it/s]\n"
     ]
    },
    {
     "name": "stdout",
     "output_type": "stream",
     "text": [
      "Total Testing Acc: 84.1270\n",
      "Epoch: 96\n"
     ]
    },
    {
     "name": "stderr",
     "output_type": "stream",
     "text": [
      "100%|██████████| 188/188 [00:35<00:00,  5.36it/s]\n"
     ]
    },
    {
     "name": "stdout",
     "output_type": "stream",
     "text": [
      "Avg Training Loss: 0.071806, Acc: 99.8005\n"
     ]
    },
    {
     "name": "stderr",
     "output_type": "stream",
     "text": [
      "100%|██████████| 63/63 [00:05<00:00, 10.82it/s]\n"
     ]
    },
    {
     "name": "stdout",
     "output_type": "stream",
     "text": [
      "Total Validation Loss: 1.385891, Acc: 82.1925\n"
     ]
    },
    {
     "name": "stderr",
     "output_type": "stream",
     "text": [
      "100%|██████████| 63/63 [00:05<00:00, 11.06it/s]\n"
     ]
    },
    {
     "name": "stdout",
     "output_type": "stream",
     "text": [
      "Total Testing Acc: 83.5317\n",
      "Epoch: 97\n"
     ]
    },
    {
     "name": "stderr",
     "output_type": "stream",
     "text": [
      "100%|██████████| 188/188 [00:38<00:00,  4.94it/s]\n"
     ]
    },
    {
     "name": "stdout",
     "output_type": "stream",
     "text": [
      "Avg Training Loss: 0.081618, Acc: 99.5678\n"
     ]
    },
    {
     "name": "stderr",
     "output_type": "stream",
     "text": [
      "100%|██████████| 63/63 [00:06<00:00, 10.35it/s]\n"
     ]
    },
    {
     "name": "stdout",
     "output_type": "stream",
     "text": [
      "Total Validation Loss: 1.198000, Acc: 83.7798\n"
     ]
    },
    {
     "name": "stderr",
     "output_type": "stream",
     "text": [
      "100%|██████████| 63/63 [00:06<00:00, 10.27it/s]\n"
     ]
    },
    {
     "name": "stdout",
     "output_type": "stream",
     "text": [
      "Total Testing Acc: 83.3829\n",
      "Epoch: 98\n"
     ]
    },
    {
     "name": "stderr",
     "output_type": "stream",
     "text": [
      "100%|██████████| 188/188 [00:39<00:00,  4.73it/s]\n"
     ]
    },
    {
     "name": "stdout",
     "output_type": "stream",
     "text": [
      "Avg Training Loss: 0.075988, Acc: 99.7839\n"
     ]
    },
    {
     "name": "stderr",
     "output_type": "stream",
     "text": [
      "100%|██████████| 63/63 [00:06<00:00,  9.81it/s]"
     ]
    },
    {
     "name": "stdout",
     "output_type": "stream",
     "text": [
      "Total Validation Loss: 1.220004, Acc: 82.4901\n"
     ]
    },
    {
     "name": "stderr",
     "output_type": "stream",
     "text": [
      "\n",
      "100%|██████████| 63/63 [00:06<00:00,  9.84it/s]"
     ]
    },
    {
     "name": "stdout",
     "output_type": "stream",
     "text": [
      "Total Testing Acc: 82.9365\n",
      "Epoch: 99\n"
     ]
    },
    {
     "name": "stderr",
     "output_type": "stream",
     "text": [
      "\n",
      "100%|██████████| 188/188 [00:38<00:00,  4.94it/s]\n"
     ]
    },
    {
     "name": "stdout",
     "output_type": "stream",
     "text": [
      "Avg Training Loss: 0.076975, Acc: 99.5678\n"
     ]
    },
    {
     "name": "stderr",
     "output_type": "stream",
     "text": [
      "100%|██████████| 63/63 [00:06<00:00,  9.48it/s]\n"
     ]
    },
    {
     "name": "stdout",
     "output_type": "stream",
     "text": [
      "Total Validation Loss: 1.188503, Acc: 82.9861\n"
     ]
    },
    {
     "name": "stderr",
     "output_type": "stream",
     "text": [
      "100%|██████████| 63/63 [00:06<00:00,  9.91it/s]\n"
     ]
    },
    {
     "name": "stdout",
     "output_type": "stream",
     "text": [
      "Total Testing Acc: 82.7877\n"
     ]
    }
   ],
   "source": [
    "args = {\n",
    "    'model': 'WReN',\n",
    "    'm': m\n",
    "}\n",
    "model = WReN(args).to(cuda)\n",
    "\n",
    "\n",
    "def train(epoch):\n",
    "    model.train()\n",
    "    train_loss = 0\n",
    "    accuracy = 0\n",
    "\n",
    "    loss_all = 0.0\n",
    "    acc_all = 0.0\n",
    "    counter = 0\n",
    "    train_iter = iter(trainloader)\n",
    "    for _ in tqdm(range(len(train_iter))):\n",
    "        counter += 1\n",
    "        image, target, meta_target = next(train_iter)\n",
    "        if cuda:\n",
    "            image = image.to(cuda)\n",
    "            target = target.to(cuda)\n",
    "            meta_target = meta_target.to(cuda)\n",
    "        loss, acc = model.train_(image, target, meta_target)\n",
    "        # print('Train: Epoch:{}, Batch:{}, Loss:{:.6f}, Acc:{:.4f}.'.format(epoch, batch_idx, loss, acc))\n",
    "        loss_all += loss\n",
    "        acc_all += acc\n",
    "    if counter > 0:\n",
    "        print(\"Avg Training Loss: {:.6f}, Acc: {:.4f}\".format(loss_all/float(counter), acc_all/float(counter)))\n",
    "    return loss_all/float(counter), acc_all/float(counter)\n",
    "\n",
    "def validate(epoch):\n",
    "    model.eval()\n",
    "    val_loss = 0\n",
    "    accuracy = 0\n",
    "\n",
    "    loss_all = 0.0\n",
    "    acc_all = 0.0\n",
    "    loss_all = 0.0\n",
    "    counter = 0\n",
    "    valid_iter = iter(validloader)\n",
    "    for _ in tqdm(range(len(valid_iter))):\n",
    "        counter += 1\n",
    "        image, target, meta_target = next(valid_iter)\n",
    "\n",
    "        if cuda:\n",
    "            image = image.to(cuda)\n",
    "            target = target.to(cuda)\n",
    "            meta_target = meta_target.to(cuda)\n",
    "        loss, acc = model.validate_(image, target, meta_target)\n",
    "        # print('Validate: Epoch:{}, Batch:{}, Loss:{:.6f}, Acc:{:.4f}.'.format(epoch, batch_idx, loss, acc)) \n",
    "        loss_all += loss\n",
    "        acc_all += acc\n",
    "        loss_all += loss\n",
    "    if counter > 0:\n",
    "        print(\"Total Validation Loss: {:.6f}, Acc: {:.4f}\".format(loss_all/float(counter), acc_all/float(counter)))\n",
    "    return loss_all/float(counter), acc_all/float(counter)\n",
    "   \n",
    "def test(epoch):\n",
    "    model.eval()\n",
    "    accuracy = 0\n",
    "\n",
    "    acc_all = 0.0\n",
    "    counter = 0\n",
    "    test_iter = iter(testloader)\n",
    "    for _ in tqdm(range(len(test_iter))):\n",
    "        counter += 1\n",
    "        image, target, meta_target = next(test_iter)\n",
    "        if cuda:\n",
    "            image = image.to(cuda)\n",
    "            target = target.to(cuda)\n",
    "            meta_target = meta_target.to(cuda)\n",
    "        acc = model.test_(image, target, meta_target)\n",
    "        # print('Test: Epoch:{}, Batch:{}, Acc:{:.4f}.'.format(epoch, batch_idx, acc))  \n",
    "        acc_all += acc\n",
    "    if counter > 0:\n",
    "        print(\"Total Testing Acc: {:.4f}\".format(acc_all / float(counter)))\n",
    "    return acc_all/float(counter)\n",
    "\n",
    "\n",
    "def main():\n",
    "    pp = pprint.PrettyPrinter(indent=4)\n",
    "    training_dict = {}\n",
    "    validation_dict = {}\n",
    "    testing_dict = {}\n",
    "    best_val_loss = float('inf')\n",
    "    for e in range(0, epoch):\n",
    "        print(\"Epoch: \" + str(e))\n",
    "        training_dict[e] = {}\n",
    "        validation_dict[e] = {}\n",
    "        testing_dict[e] = {}\n",
    "\n",
    "        train_loss, train_acc = train(e)\n",
    "        training_dict[e]['train_loss'] = train_loss\n",
    "        training_dict[e]['train_acc'] = train_acc\n",
    "\n",
    "        val_loss, val_acc = validate(e)\n",
    "        validation_dict[e]['val_loss'] = val_loss\n",
    "        validation_dict[e]['val_acc'] = val_acc\n",
    "\n",
    "        test_acc = test(e)\n",
    "        testing_dict[e]['test_acc'] = test_acc\n",
    "        \"\"\"\n",
    "        # early stopping \n",
    "        if e > 0: \n",
    "            if val_loss <= best_val_loss: \n",
    "                best_val_loss = val_loss\n",
    "                best_epoch = e\n",
    "                es = 0\n",
    "                torch.save(model.state_dict(), \"model_\" + str(e) + 'weight.pt')\n",
    "            else:\n",
    "                es += 1\n",
    "                print(\"Counter {} of 10\".format(es))\n",
    "                # patience\n",
    "                if es > 9: \n",
    "                    print(\"Early stopping with minimized val loss: \", best_val_loss, \"and val_loss for this epoch: \", val_loss, \"...\")\n",
    "                    break \n",
    "\n",
    "        loss = {'train':train_loss, 'val':val_loss}\n",
    "        acc = {'train':train_acc, 'val':val_acc, 'test':test_acc}\n",
    "        \"\"\"\n",
    "        #log.write_scalars('Loss', loss, e)\n",
    "        #log.write_scalars('Accuracy', acc, e)\n",
    "    return training_dict, validation_dict, testing_dict, best_epoch  \n",
    "training_dict, validation_dict, testing_dict, best_epoch = main()"
   ]
  },
  {
   "cell_type": "code",
   "execution_count": 14,
   "metadata": {
    "colab": {
     "base_uri": "https://localhost:8080/"
    },
    "id": "sWSf4yNLTC52",
    "outputId": "2ca5cef4-09dd-460d-f708-0a690f62466d",
    "scrolled": true
   },
   "outputs": [
    {
     "name": "stdout",
     "output_type": "stream",
     "text": [
      "tensor([[[[ 0.1454, -1.3645],\n",
      "          [-0.7296, -1.1648],\n",
      "          [ 0.2574,  1.4650]],\n",
      "\n",
      "         [[ 0.5722, -0.4019],\n",
      "          [-1.8658, -1.1450],\n",
      "          [ 2.2225,  0.7787]],\n",
      "\n",
      "         [[-0.3301,  0.1229],\n",
      "          [ 0.1318, -1.3580],\n",
      "          [ 1.8859,  0.7618]]]])\n",
      "tensor([[[[ 0.1454, -1.3645],\n",
      "          [ 0.5722, -0.4019],\n",
      "          [-0.3301,  0.1229]],\n",
      "\n",
      "         [[-0.7296, -1.1648],\n",
      "          [-1.8658, -1.1450],\n",
      "          [ 0.1318, -1.3580]],\n",
      "\n",
      "         [[ 0.2574,  1.4650],\n",
      "          [ 2.2225,  0.7787],\n",
      "          [ 1.8859,  0.7618]]]])\n",
      "tensor([[[[ 0.1454, -1.3645,  0.1454, -1.3645],\n",
      "          [-0.7296, -1.1648, -0.7296, -1.1648],\n",
      "          [ 0.2574,  1.4650,  0.2574,  1.4650]],\n",
      "\n",
      "         [[ 0.5722, -0.4019,  0.5722, -0.4019],\n",
      "          [-1.8658, -1.1450, -1.8658, -1.1450],\n",
      "          [ 2.2225,  0.7787,  2.2225,  0.7787]],\n",
      "\n",
      "         [[-0.3301,  0.1229, -0.3301,  0.1229],\n",
      "          [ 0.1318, -1.3580,  0.1318, -1.3580],\n",
      "          [ 1.8859,  0.7618,  1.8859,  0.7618]],\n",
      "\n",
      "         [[-0.3301,  0.1229,  0.1454, -1.3645],\n",
      "          [ 0.1318, -1.3580, -0.7296, -1.1648],\n",
      "          [ 1.8859,  0.7618,  0.2574,  1.4650]],\n",
      "\n",
      "         [[ 0.1454, -1.3645,  0.5722, -0.4019],\n",
      "          [-0.7296, -1.1648, -1.8658, -1.1450],\n",
      "          [ 0.2574,  1.4650,  2.2225,  0.7787]],\n",
      "\n",
      "         [[ 0.5722, -0.4019, -0.3301,  0.1229],\n",
      "          [-1.8658, -1.1450,  0.1318, -1.3580],\n",
      "          [ 2.2225,  0.7787,  1.8859,  0.7618]],\n",
      "\n",
      "         [[-0.3301,  0.1229,  0.5722, -0.4019],\n",
      "          [ 0.1318, -1.3580, -1.8658, -1.1450],\n",
      "          [ 1.8859,  0.7618,  2.2225,  0.7787]],\n",
      "\n",
      "         [[ 0.1454, -1.3645, -0.3301,  0.1229],\n",
      "          [-0.7296, -1.1648,  0.1318, -1.3580],\n",
      "          [ 0.2574,  1.4650,  1.8859,  0.7618]],\n",
      "\n",
      "         [[ 0.5722, -0.4019,  0.1454, -1.3645],\n",
      "          [-1.8658, -1.1450, -0.7296, -1.1648],\n",
      "          [ 2.2225,  0.7787,  0.2574,  1.4650]],\n",
      "\n",
      "         [[ 0.1454, -1.3645,  0.1454, -1.3645],\n",
      "          [ 0.5722, -0.4019,  0.5722, -0.4019],\n",
      "          [-0.3301,  0.1229, -0.3301,  0.1229]],\n",
      "\n",
      "         [[-0.7296, -1.1648, -0.7296, -1.1648],\n",
      "          [-1.8658, -1.1450, -1.8658, -1.1450],\n",
      "          [ 0.1318, -1.3580,  0.1318, -1.3580]],\n",
      "\n",
      "         [[ 0.2574,  1.4650,  0.2574,  1.4650],\n",
      "          [ 2.2225,  0.7787,  2.2225,  0.7787],\n",
      "          [ 1.8859,  0.7618,  1.8859,  0.7618]],\n",
      "\n",
      "         [[ 0.2574,  1.4650,  0.1454, -1.3645],\n",
      "          [ 2.2225,  0.7787,  0.5722, -0.4019],\n",
      "          [ 1.8859,  0.7618, -0.3301,  0.1229]],\n",
      "\n",
      "         [[ 0.1454, -1.3645, -0.7296, -1.1648],\n",
      "          [ 0.5722, -0.4019, -1.8658, -1.1450],\n",
      "          [-0.3301,  0.1229,  0.1318, -1.3580]],\n",
      "\n",
      "         [[-0.7296, -1.1648,  0.2574,  1.4650],\n",
      "          [-1.8658, -1.1450,  2.2225,  0.7787],\n",
      "          [ 0.1318, -1.3580,  1.8859,  0.7618]],\n",
      "\n",
      "         [[ 0.2574,  1.4650, -0.7296, -1.1648],\n",
      "          [ 2.2225,  0.7787, -1.8658, -1.1450],\n",
      "          [ 1.8859,  0.7618,  0.1318, -1.3580]],\n",
      "\n",
      "         [[ 0.1454, -1.3645,  0.2574,  1.4650],\n",
      "          [ 0.5722, -0.4019,  2.2225,  0.7787],\n",
      "          [-0.3301,  0.1229,  1.8859,  0.7618]],\n",
      "\n",
      "         [[-0.7296, -1.1648,  0.1454, -1.3645],\n",
      "          [-1.8658, -1.1450,  0.5722, -0.4019],\n",
      "          [ 0.1318, -1.3580, -0.3301,  0.1229]]]])\n",
      "torch.Size([1, 18, 3, 4])\n"
     ]
    }
   ],
   "source": [
    "## experimentation\n",
    "\n",
    "x = torch.randn(1,3,3,2)\n",
    "print(x)\n",
    "y = torch.roll(x,1,1)\n",
    "z = torch.roll(y,1,1)\n",
    "a = x.transpose(1,2)\n",
    "print(a)\n",
    "b = torch.roll(a,1,1)\n",
    "c = torch.roll(b,1,1)\n",
    "w = torch.cat((torch.cat((x,x),3), torch.cat((y,x),3), torch.cat((y,z),3), torch.cat((a,a),3), torch.cat((b,a),3), torch.cat((b,c),3)),1)\n",
    "print(w)\n",
    "print(w.shape)"
   ]
  },
  {
   "cell_type": "code",
   "execution_count": 15,
   "metadata": {
    "id": "BS6skAYIUPKv"
   },
   "outputs": [
    {
     "name": "stdout",
     "output_type": "stream",
     "text": [
      "tensor([[1, 2, 3, 1, 2, 3],\n",
      "        [4, 5, 6, 4, 5, 6],\n",
      "        [7, 8, 9, 7, 8, 9],\n",
      "        [7, 8, 9, 1, 2, 3],\n",
      "        [1, 2, 3, 4, 5, 6],\n",
      "        [4, 5, 6, 7, 8, 9],\n",
      "        [1, 2, 3, 4, 5, 6],\n",
      "        [4, 5, 6, 7, 8, 9],\n",
      "        [7, 8, 9, 1, 2, 3]])\n"
     ]
    }
   ],
   "source": [
    "## experimentation\n",
    "x = torch.tensor([[1,2,3],[4,5,6],[7,8,9]])\n",
    "y = torch.roll(x,1,0)\n",
    "z = torch.roll(y,1,0)\n",
    "w = torch.cat((torch.cat((x,x),1), torch.cat((y,x),1), torch.cat((x,z),1)),0)\n",
    "print(w)"
   ]
  },
  {
   "cell_type": "code",
   "execution_count": 16,
   "metadata": {
    "id": "NTdj0m-LIKZt"
   },
   "outputs": [
    {
     "name": "stdout",
     "output_type": "stream",
     "text": [
      "tensor([[1, 2, 3, 1, 2, 3],\n",
      "        [4, 5, 6, 4, 5, 6],\n",
      "        [7, 8, 9, 7, 8, 9],\n",
      "        [7, 8, 9, 1, 2, 3],\n",
      "        [1, 2, 3, 4, 5, 6],\n",
      "        [4, 5, 6, 7, 8, 9],\n",
      "        [7, 8, 9, 4, 5, 6],\n",
      "        [1, 2, 3, 7, 8, 9],\n",
      "        [4, 5, 6, 1, 2, 3],\n",
      "        [1, 4, 7, 1, 4, 7],\n",
      "        [2, 5, 8, 2, 5, 8],\n",
      "        [3, 6, 9, 3, 6, 9],\n",
      "        [3, 6, 9, 1, 4, 7],\n",
      "        [1, 4, 7, 2, 5, 8],\n",
      "        [2, 5, 8, 3, 6, 9],\n",
      "        [3, 6, 9, 2, 5, 8],\n",
      "        [1, 4, 7, 3, 6, 9],\n",
      "        [2, 5, 8, 1, 4, 7]])\n"
     ]
    }
   ],
   "source": [
    "## experimentation\n",
    "x = torch.tensor([[1,2,3],[4,5,6],[7,8,9]])\n",
    "y = torch.roll(x,1,0)\n",
    "z = torch.roll(y,1,0)\n",
    "a = x.transpose(0,1)\n",
    "b = torch.roll(a,1,0)\n",
    "c = torch.roll(b,1,0)\n",
    "w = torch.cat((torch.cat((x,x),1), torch.cat((y,x),1), torch.cat((y,z),1), torch.cat((a,a),1), torch.cat((b,a),1), torch.cat((b,c),1)),0)\n",
    "print(w)"
   ]
  },
  {
   "cell_type": "code",
   "execution_count": 17,
   "metadata": {
    "colab": {
     "base_uri": "https://localhost:8080/"
    },
    "id": "PCCstq8G4lIN",
    "outputId": "ad49afa8-08fc-4ff2-b0c6-a05e756aab8f"
   },
   "outputs": [
    {
     "name": "stdout",
     "output_type": "stream",
     "text": [
      "tensor([[[[-7.3762e-01,  8.5893e-01, -7.3762e-01,  8.5893e-01],\n",
      "          [-7.3762e-01,  8.5893e-01,  1.2347e+00, -8.1424e-01],\n",
      "          [-7.3762e-01,  8.5893e-01, -3.0824e-01, -5.1023e-01],\n",
      "          [-7.3762e-01,  8.5893e-01,  1.9998e+00, -3.4581e-01],\n",
      "          [-7.3762e-01,  8.5893e-01, -3.0502e-01,  8.5417e-04],\n",
      "          [-7.3762e-01,  8.5893e-01,  5.8893e-01, -2.5398e-01],\n",
      "          [-7.3762e-01,  8.5893e-01, -1.2917e+00, -2.0824e-01],\n",
      "          [-7.3762e-01,  8.5893e-01, -2.2918e-02, -8.7904e-01],\n",
      "          [-7.3762e-01,  8.5893e-01,  4.9258e-01,  6.9306e-01]],\n",
      "\n",
      "         [[ 1.2347e+00, -8.1424e-01, -7.3762e-01,  8.5893e-01],\n",
      "          [ 1.2347e+00, -8.1424e-01,  1.2347e+00, -8.1424e-01],\n",
      "          [ 1.2347e+00, -8.1424e-01, -3.0824e-01, -5.1023e-01],\n",
      "          [ 1.2347e+00, -8.1424e-01,  1.9998e+00, -3.4581e-01],\n",
      "          [ 1.2347e+00, -8.1424e-01, -3.0502e-01,  8.5417e-04],\n",
      "          [ 1.2347e+00, -8.1424e-01,  5.8893e-01, -2.5398e-01],\n",
      "          [ 1.2347e+00, -8.1424e-01, -1.2917e+00, -2.0824e-01],\n",
      "          [ 1.2347e+00, -8.1424e-01, -2.2918e-02, -8.7904e-01],\n",
      "          [ 1.2347e+00, -8.1424e-01,  4.9258e-01,  6.9306e-01]],\n",
      "\n",
      "         [[-3.0824e-01, -5.1023e-01, -7.3762e-01,  8.5893e-01],\n",
      "          [-3.0824e-01, -5.1023e-01,  1.2347e+00, -8.1424e-01],\n",
      "          [-3.0824e-01, -5.1023e-01, -3.0824e-01, -5.1023e-01],\n",
      "          [-3.0824e-01, -5.1023e-01,  1.9998e+00, -3.4581e-01],\n",
      "          [-3.0824e-01, -5.1023e-01, -3.0502e-01,  8.5417e-04],\n",
      "          [-3.0824e-01, -5.1023e-01,  5.8893e-01, -2.5398e-01],\n",
      "          [-3.0824e-01, -5.1023e-01, -1.2917e+00, -2.0824e-01],\n",
      "          [-3.0824e-01, -5.1023e-01, -2.2918e-02, -8.7904e-01],\n",
      "          [-3.0824e-01, -5.1023e-01,  4.9258e-01,  6.9306e-01]],\n",
      "\n",
      "         [[ 1.9998e+00, -3.4581e-01, -7.3762e-01,  8.5893e-01],\n",
      "          [ 1.9998e+00, -3.4581e-01,  1.2347e+00, -8.1424e-01],\n",
      "          [ 1.9998e+00, -3.4581e-01, -3.0824e-01, -5.1023e-01],\n",
      "          [ 1.9998e+00, -3.4581e-01,  1.9998e+00, -3.4581e-01],\n",
      "          [ 1.9998e+00, -3.4581e-01, -3.0502e-01,  8.5417e-04],\n",
      "          [ 1.9998e+00, -3.4581e-01,  5.8893e-01, -2.5398e-01],\n",
      "          [ 1.9998e+00, -3.4581e-01, -1.2917e+00, -2.0824e-01],\n",
      "          [ 1.9998e+00, -3.4581e-01, -2.2918e-02, -8.7904e-01],\n",
      "          [ 1.9998e+00, -3.4581e-01,  4.9258e-01,  6.9306e-01]],\n",
      "\n",
      "         [[-3.0502e-01,  8.5417e-04, -7.3762e-01,  8.5893e-01],\n",
      "          [-3.0502e-01,  8.5417e-04,  1.2347e+00, -8.1424e-01],\n",
      "          [-3.0502e-01,  8.5417e-04, -3.0824e-01, -5.1023e-01],\n",
      "          [-3.0502e-01,  8.5417e-04,  1.9998e+00, -3.4581e-01],\n",
      "          [-3.0502e-01,  8.5417e-04, -3.0502e-01,  8.5417e-04],\n",
      "          [-3.0502e-01,  8.5417e-04,  5.8893e-01, -2.5398e-01],\n",
      "          [-3.0502e-01,  8.5417e-04, -1.2917e+00, -2.0824e-01],\n",
      "          [-3.0502e-01,  8.5417e-04, -2.2918e-02, -8.7904e-01],\n",
      "          [-3.0502e-01,  8.5417e-04,  4.9258e-01,  6.9306e-01]],\n",
      "\n",
      "         [[ 5.8893e-01, -2.5398e-01, -7.3762e-01,  8.5893e-01],\n",
      "          [ 5.8893e-01, -2.5398e-01,  1.2347e+00, -8.1424e-01],\n",
      "          [ 5.8893e-01, -2.5398e-01, -3.0824e-01, -5.1023e-01],\n",
      "          [ 5.8893e-01, -2.5398e-01,  1.9998e+00, -3.4581e-01],\n",
      "          [ 5.8893e-01, -2.5398e-01, -3.0502e-01,  8.5417e-04],\n",
      "          [ 5.8893e-01, -2.5398e-01,  5.8893e-01, -2.5398e-01],\n",
      "          [ 5.8893e-01, -2.5398e-01, -1.2917e+00, -2.0824e-01],\n",
      "          [ 5.8893e-01, -2.5398e-01, -2.2918e-02, -8.7904e-01],\n",
      "          [ 5.8893e-01, -2.5398e-01,  4.9258e-01,  6.9306e-01]],\n",
      "\n",
      "         [[-1.2917e+00, -2.0824e-01, -7.3762e-01,  8.5893e-01],\n",
      "          [-1.2917e+00, -2.0824e-01,  1.2347e+00, -8.1424e-01],\n",
      "          [-1.2917e+00, -2.0824e-01, -3.0824e-01, -5.1023e-01],\n",
      "          [-1.2917e+00, -2.0824e-01,  1.9998e+00, -3.4581e-01],\n",
      "          [-1.2917e+00, -2.0824e-01, -3.0502e-01,  8.5417e-04],\n",
      "          [-1.2917e+00, -2.0824e-01,  5.8893e-01, -2.5398e-01],\n",
      "          [-1.2917e+00, -2.0824e-01, -1.2917e+00, -2.0824e-01],\n",
      "          [-1.2917e+00, -2.0824e-01, -2.2918e-02, -8.7904e-01],\n",
      "          [-1.2917e+00, -2.0824e-01,  4.9258e-01,  6.9306e-01]],\n",
      "\n",
      "         [[-2.2918e-02, -8.7904e-01, -7.3762e-01,  8.5893e-01],\n",
      "          [-2.2918e-02, -8.7904e-01,  1.2347e+00, -8.1424e-01],\n",
      "          [-2.2918e-02, -8.7904e-01, -3.0824e-01, -5.1023e-01],\n",
      "          [-2.2918e-02, -8.7904e-01,  1.9998e+00, -3.4581e-01],\n",
      "          [-2.2918e-02, -8.7904e-01, -3.0502e-01,  8.5417e-04],\n",
      "          [-2.2918e-02, -8.7904e-01,  5.8893e-01, -2.5398e-01],\n",
      "          [-2.2918e-02, -8.7904e-01, -1.2917e+00, -2.0824e-01],\n",
      "          [-2.2918e-02, -8.7904e-01, -2.2918e-02, -8.7904e-01],\n",
      "          [-2.2918e-02, -8.7904e-01,  4.9258e-01,  6.9306e-01]],\n",
      "\n",
      "         [[ 4.9258e-01,  6.9306e-01, -7.3762e-01,  8.5893e-01],\n",
      "          [ 4.9258e-01,  6.9306e-01,  1.2347e+00, -8.1424e-01],\n",
      "          [ 4.9258e-01,  6.9306e-01, -3.0824e-01, -5.1023e-01],\n",
      "          [ 4.9258e-01,  6.9306e-01,  1.9998e+00, -3.4581e-01],\n",
      "          [ 4.9258e-01,  6.9306e-01, -3.0502e-01,  8.5417e-04],\n",
      "          [ 4.9258e-01,  6.9306e-01,  5.8893e-01, -2.5398e-01],\n",
      "          [ 4.9258e-01,  6.9306e-01, -1.2917e+00, -2.0824e-01],\n",
      "          [ 4.9258e-01,  6.9306e-01, -2.2918e-02, -8.7904e-01],\n",
      "          [ 4.9258e-01,  6.9306e-01,  4.9258e-01,  6.9306e-01]]]])\n",
      "tensor([[[-6.6386e+00,  7.7304e+00,  1.6505e+00, -1.4587e+00],\n",
      "         [ 1.1112e+01, -7.3281e+00,  1.6505e+00, -1.4587e+00],\n",
      "         [-2.7742e+00, -4.5921e+00,  1.6505e+00, -1.4587e+00],\n",
      "         [ 1.7998e+01, -3.1123e+00,  1.6505e+00, -1.4587e+00],\n",
      "         [-2.7451e+00,  7.6875e-03,  1.6505e+00, -1.4587e+00],\n",
      "         [ 5.3003e+00, -2.2858e+00,  1.6505e+00, -1.4587e+00],\n",
      "         [-1.1626e+01, -1.8742e+00,  1.6505e+00, -1.4587e+00],\n",
      "         [-2.0626e-01, -7.9114e+00,  1.6505e+00, -1.4587e+00],\n",
      "         [ 4.4332e+00,  6.2375e+00,  1.6505e+00, -1.4587e+00]]])\n",
      "tensor([[[ 1.6505e+00, -1.4587e+00, -6.6386e+00,  7.7304e+00],\n",
      "         [ 1.6505e+00, -1.4587e+00,  1.1112e+01, -7.3281e+00],\n",
      "         [ 1.6505e+00, -1.4587e+00, -2.7742e+00, -4.5921e+00],\n",
      "         [ 1.6505e+00, -1.4587e+00,  1.7998e+01, -3.1123e+00],\n",
      "         [ 1.6505e+00, -1.4587e+00, -2.7451e+00,  7.6875e-03],\n",
      "         [ 1.6505e+00, -1.4587e+00,  5.3003e+00, -2.2858e+00],\n",
      "         [ 1.6505e+00, -1.4587e+00, -1.1626e+01, -1.8742e+00],\n",
      "         [ 1.6505e+00, -1.4587e+00, -2.0626e-01, -7.9114e+00],\n",
      "         [ 1.6505e+00, -1.4587e+00,  4.4332e+00,  6.2375e+00]]])\n",
      "torch.Size([1, 9, 4])\n",
      "torch.Size([1, 9, 4])\n"
     ]
    }
   ],
   "source": [
    "#experimentation\n",
    "x = torch.randn(1,1,9,2)\n",
    "#print(x)\n",
    "x = x.expand(1,9,9,2)\n",
    "y = x.transpose(1,2)\n",
    "#print(x)\n",
    "z = torch.cat((y,x),3)\n",
    "print(z)\n",
    "#print(z.size())\n",
    "s = z.sum(dim=2)\n",
    "t = z.sum(dim=1)\n",
    "print(s)\n",
    "print(t)\n",
    "print(s.shape)\n",
    "print(t.shape)"
   ]
  },
  {
   "cell_type": "code",
   "execution_count": 18,
   "metadata": {
    "id": "J5pm_igacAUv"
   },
   "outputs": [],
   "source": [
    "import pandas as pd\n",
    "import matplotlib.pyplot as plt"
   ]
  },
  {
   "cell_type": "code",
   "execution_count": 19,
   "metadata": {
    "id": "n2zlDnQI2XaK"
   },
   "outputs": [
    {
     "name": "stdout",
     "output_type": "stream",
     "text": [
      "Best Epoch: \n",
      "0\n"
     ]
    }
   ],
   "source": [
    "print(\"Best Epoch: \")\n",
    "print(best_epoch)"
   ]
  },
  {
   "cell_type": "code",
   "execution_count": 20,
   "metadata": {
    "id": "ZnPUI3DyVNuL"
   },
   "outputs": [
    {
     "data": {
      "image/png": "[encoded data removed]",
      "text/plain": [
       "<Figure size 720x576 with 1 Axes>"
      ]
     },
     "metadata": {
      "needs_background": "light"
     },
     "output_type": "display_data"
    }
   ],
   "source": [
    "df_training_temp = pd.DataFrame(training_dict)\n",
    "df_training = df_training_temp.transpose()\n",
    "df_training.plot(figsize=(10,8))\n",
    "plt.axvline(x=best_epoch)\n",
    "plt.show()"
   ]
  },
  {
   "cell_type": "code",
   "execution_count": 21,
   "metadata": {
    "id": "pQChMaf3Yl_I"
   },
   "outputs": [
    {
     "name": "stdout",
     "output_type": "stream",
     "text": [
      "Best Epoch Training Data: \n",
      "Training Loss: \n",
      "2.1082621686002043\n",
      "Training Accuracy\n",
      "13.09840425531915\n"
     ]
    }
   ],
   "source": [
    "print(\"Best Epoch Training Data: \")\n",
    "print(\"Training Loss: \")\n",
    "print(str(training_dict[best_epoch]['train_loss']))\n",
    "print(\"Training Accuracy\")\n",
    "print(str(training_dict[best_epoch]['train_acc']))\n"
   ]
  },
  {
   "cell_type": "code",
   "execution_count": 22,
   "metadata": {
    "id": "w7EC8BOeb6tW"
   },
   "outputs": [
    {
     "data": {
      "image/png": "[encoded data removed]",
      "text/plain": [
       "<Figure size 720x576 with 1 Axes>"
      ]
     },
     "metadata": {
      "needs_background": "light"
     },
     "output_type": "display_data"
    }
   ],
   "source": [
    "df_validation_temp = pd.DataFrame(validation_dict)\n",
    "df_validation = df_validation_temp.transpose()\n",
    "df_validation.plot(figsize=(10,8))\n",
    "plt.axvline(x=best_epoch)\n",
    "plt.show()"
   ]
  },
  {
   "cell_type": "code",
   "execution_count": 23,
   "metadata": {
    "id": "mIc-omoYZAZb"
   },
   "outputs": [
    {
     "name": "stdout",
     "output_type": "stream",
     "text": [
      "Best Epoch Validation Data: \n",
      "Validation Loss: \n",
      "4.159022126879011\n",
      "Validation Accuracy\n",
      "13.343253968253968\n"
     ]
    }
   ],
   "source": [
    "print(\"Best Epoch Validation Data: \")\n",
    "print(\"Validation Loss: \")\n",
    "print(str(validation_dict[best_epoch]['val_loss']))\n",
    "print(\"Validation Accuracy\")\n",
    "print(str(validation_dict[best_epoch]['val_acc']))"
   ]
  },
  {
   "cell_type": "code",
   "execution_count": 24,
   "metadata": {
    "id": "Q4hIXh0xcJP0"
   },
   "outputs": [
    {
     "data": {
      "image/png": "[encoded data removed]",
      "text/plain": [
       "<Figure size 720x576 with 1 Axes>"
      ]
     },
     "metadata": {
      "needs_background": "light"
     },
     "output_type": "display_data"
    }
   ],
   "source": [
    "df_testing_temp = pd.DataFrame(testing_dict)\n",
    "df_testing = df_testing_temp.transpose()\n",
    "df_testing.plot(figsize=(10,8))\n",
    "plt.axvline(x=best_epoch)\n",
    "plt.show()"
   ]
  },
  {
   "cell_type": "code",
   "execution_count": 25,
   "metadata": {
    "id": "UKCqZuTBZEKY"
   },
   "outputs": [
    {
     "name": "stdout",
     "output_type": "stream",
     "text": [
      "Best Epoch Testing Data: \n",
      "Test Accuracy\n",
      "{0: {'test_acc': 12.152777777777779}, 1: {'test_acc': 12.797619047619047}, 2: {'test_acc': 16.964285714285715}, 3: {'test_acc': 24.206349206349206}, 4: {'test_acc': 26.19047619047619}, 5: {'test_acc': 30.803571428571427}, 6: {'test_acc': 33.28373015873016}, 7: {'test_acc': 36.40873015873016}, 8: {'test_acc': 36.06150793650794}, 9: {'test_acc': 41.220238095238095}, 10: {'test_acc': 44.99007936507937}, 11: {'test_acc': 55.60515873015873}, 12: {'test_acc': 63.095238095238095}, 13: {'test_acc': 66.76587301587301}, 14: {'test_acc': 65.625}, 15: {'test_acc': 72.96626984126983}, 16: {'test_acc': 70.93253968253968}, 17: {'test_acc': 72.37103174603175}, 18: {'test_acc': 74.75198412698413}, 19: {'test_acc': 73.11507936507937}, 20: {'test_acc': 75.24801587301587}, 21: {'test_acc': 76.48809523809524}, 22: {'test_acc': 76.48809523809524}, 23: {'test_acc': 77.38095238095238}, 24: {'test_acc': 75.89285714285714}, 25: {'test_acc': 77.43055555555556}, 26: {'test_acc': 77.67857142857143}, 27: {'test_acc': 78.62103174603175}, 28: {'test_acc': 77.08333333333333}, 29: {'test_acc': 76.83531746031746}, 30: {'test_acc': 79.21626984126983}, 31: {'test_acc': 76.58730158730158}, 32: {'test_acc': 78.57142857142857}, 33: {'test_acc': 78.96825396825396}, 34: {'test_acc': 79.41468253968254}, 35: {'test_acc': 80.60515873015873}, 36: {'test_acc': 78.62103174603175}, 37: {'test_acc': 79.81150793650794}, 38: {'test_acc': 79.26587301587301}, 39: {'test_acc': 79.76190476190476}, 40: {'test_acc': 79.06746031746032}, 41: {'test_acc': 78.22420634920636}, 42: {'test_acc': 81.0515873015873}, 43: {'test_acc': 78.7202380952381}, 44: {'test_acc': 79.61309523809524}, 45: {'test_acc': 78.9186507936508}, 46: {'test_acc': 79.91071428571429}, 47: {'test_acc': 79.96031746031746}, 48: {'test_acc': 79.06746031746032}, 49: {'test_acc': 82.44047619047619}, 50: {'test_acc': 81.69642857142857}, 51: {'test_acc': 79.91071428571429}, 52: {'test_acc': 81.25}, 53: {'test_acc': 80.4563492063492}, 54: {'test_acc': 79.86111111111111}, 55: {'test_acc': 79.61309523809524}, 56: {'test_acc': 80.60515873015873}, 57: {'test_acc': 80.35714285714286}, 58: {'test_acc': 81.34920634920636}, 59: {'test_acc': 80.55555555555556}, 60: {'test_acc': 81.99404761904762}, 61: {'test_acc': 81.15079365079364}, 62: {'test_acc': 81.4484126984127}, 63: {'test_acc': 81.99404761904762}, 64: {'test_acc': 81.20039682539682}, 65: {'test_acc': 79.91071428571429}, 66: {'test_acc': 80.35714285714286}, 67: {'test_acc': 81.39880952380952}, 68: {'test_acc': 81.0515873015873}, 69: {'test_acc': 81.34920634920636}, 70: {'test_acc': 81.29960317460318}, 71: {'test_acc': 81.79563492063492}, 72: {'test_acc': 81.64682539682539}, 73: {'test_acc': 81.4484126984127}, 74: {'test_acc': 81.79563492063492}, 75: {'test_acc': 83.08531746031746}, 76: {'test_acc': 82.19246031746032}, 77: {'test_acc': 80.85317460317461}, 78: {'test_acc': 82.49007936507937}, 79: {'test_acc': 82.19246031746032}, 80: {'test_acc': 82.53968253968254}, 81: {'test_acc': 82.68849206349206}, 82: {'test_acc': 82.49007936507937}, 83: {'test_acc': 81.89484126984127}, 84: {'test_acc': 79.96031746031746}, 85: {'test_acc': 81.34920634920636}, 86: {'test_acc': 82.78769841269842}, 87: {'test_acc': 83.7797619047619}, 88: {'test_acc': 82.34126984126983}, 89: {'test_acc': 83.28373015873017}, 90: {'test_acc': 82.49007936507937}, 91: {'test_acc': 83.23412698412699}, 92: {'test_acc': 83.82936507936508}, 93: {'test_acc': 82.39087301587301}, 94: {'test_acc': 82.78769841269842}, 95: {'test_acc': 84.12698412698413}, 96: {'test_acc': 83.53174603174604}, 97: {'test_acc': 83.3829365079365}, 98: {'test_acc': 82.93650793650794}, 99: {'test_acc': 82.78769841269842}}\n",
      "12.152777777777779\n",
      "84.12698412698413\n"
     ]
    }
   ],
   "source": [
    "print(\"Best Epoch Testing Data: \")\n",
    "print(\"Test Accuracy\")\n",
    "print(testing_dict)\n",
    "print(str(testing_dict[best_epoch]['test_acc']))\n",
    "epochs = testing_dict.values()\n",
    "print(max([e['test_acc'] for e in epochs]))"
   ]
  },
  {
   "cell_type": "code",
   "execution_count": null,
   "metadata": {},
   "outputs": [],
   "source": []
  }
 ],
 "metadata": {
  "accelerator": "GPU",
  "colab": {
   "collapsed_sections": [],
   "name": " Final-Model-Center MLRN extension + cols",
   "provenance": []
  },
  "kernelspec": {
   "display_name": "Python 3 (ipykernel)",
   "language": "python",
   "name": "python3"
  },
  "language_info": {
   "codemirror_mode": {
    "name": "ipython",
    "version": 3
   },
   "file_extension": ".py",
   "mimetype": "text/x-python",
   "name": "python",
   "nbconvert_exporter": "python",
   "pygments_lexer": "ipython3",
   "version": "3.9.5"
  }
 },
 "nbformat": 4,
 "nbformat_minor": 1
}
