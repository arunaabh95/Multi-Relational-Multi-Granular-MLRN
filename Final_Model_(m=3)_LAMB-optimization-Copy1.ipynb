{
 "cells": [
  {
   "cell_type": "code",
   "execution_count": 1,
   "metadata": {
    "colab": {
     "base_uri": "https://localhost:8080/"
    },
    "id": "M5Cf6wxEttIk",
    "outputId": "3da36e6a-dcce-418d-a7be-f8bc82d00859"
   },
   "outputs": [],
   "source": [
    "#!pip install PIL\n",
    "#!pip install tensorboardX"
   ]
  },
  {
   "cell_type": "code",
   "execution_count": 2,
   "metadata": {
    "id": "gDfKoa4aImUX"
   },
   "outputs": [],
   "source": [
    "import os\n",
    "import glob\n",
    "import numpy as np\n",
    "from PIL import Image\n",
    "import torch\n",
    "from torch.utils.data import Dataset, DataLoader\n",
    "from torchvision import transforms, utils\n",
    "from tqdm import tqdm\n",
    "import torch.optim as optim\n",
    "import torch.nn as nn\n",
    "import torch.nn.functional as F\n",
    "import pprint\n",
    "import math\n",
    "from lamb import Lamb"
   ]
  },
  {
   "cell_type": "code",
   "execution_count": 3,
   "metadata": {
    "colab": {
     "base_uri": "https://localhost:8080/"
    },
    "id": "pOnkh4p-mKf4",
    "outputId": "e55eb3ed-274b-4599-9fa2-1076c5071f4c"
   },
   "outputs": [],
   "source": [
    "#from google.colab import drive\n",
    "#drive.mount('/content/drive')"
   ]
  },
  {
   "cell_type": "code",
   "execution_count": 4,
   "metadata": {
    "colab": {
     "base_uri": "https://localhost:8080/"
    },
    "id": "BQMSACa5HQWz",
    "outputId": "1ba3574f-1c3e-4739-b826-45d2e856a0df"
   },
   "outputs": [
    {
     "name": "stdout",
     "output_type": "stream",
     "text": [
      "cuda:5\n"
     ]
    }
   ],
   "source": [
    "#Constants\n",
    "dataset_path = './Data-L'\n",
    "batch_size = 32\n",
    "epoch = 150\n",
    "load_workers = 2 \n",
    "lr = 1e-3\n",
    "weight_decay = 1e-5\n",
    "cuda = torch.device(\"cuda:5\")\n",
    "print(cuda)\n",
    "best_epoch = 0\n",
    "tag = 1\n",
    "meta_beta = 10.0\n",
    "m = 3"
   ]
  },
  {
   "cell_type": "code",
   "execution_count": 5,
   "metadata": {
    "id": "RCD2Z9Oub1Pa"
   },
   "outputs": [],
   "source": [
    "figure_configuration_names = ['center_single', 'distribute_four', 'in_distribute_four_out_center_single', 'left_center_single_right_center_single']\n",
    "#figure_configuration_names = ['center_single']\n",
    "\n",
    "class ToTensor(object):\n",
    "    def __call__(self, sample):\n",
    "        return torch.tensor(sample, dtype=torch.float32)\n",
    "\n",
    "class RAVENdataset(Dataset):\n",
    "    def __init__(self, root_dir, dataset_type, figure_configurations, img_size, transform=None, shuffle=False):\n",
    "        self.root_dir = root_dir\n",
    "        self.transform = transform\n",
    "        self.file_names = []\n",
    "        for idx in figure_configurations:\n",
    "            tmp = [f for f in glob.glob(os.path.join(root_dir, figure_configuration_names[idx], \"*.npz\")) if dataset_type in os.path.basename(f)]\n",
    "            self.file_names += tmp\n",
    "        self.img_size = img_size   \n",
    "        self.shuffle = shuffle\n",
    "        self.switch = [3,4,5,0,1,2,6,7]         \n",
    "\n",
    "    def __len__(self):\n",
    "        return len(self.file_names)\n",
    "\n",
    "    def __getitem__(self, idx):\n",
    "        data_path = self.file_names[idx]\n",
    "        data = np.load(data_path)\n",
    "        image = data[\"image\"].reshape(16, 160, 160)\n",
    "        target = data[\"target\"]\n",
    "        meta_target = data[\"meta_target\"]\n",
    "\n",
    "        if self.shuffle:\n",
    "            context = image[:8, :, :]\n",
    "            choices = image[8:, :, :]\n",
    "            indices = np.arange(8)\n",
    "            np.random.shuffle(indices)\n",
    "            new_target = np.where(indices == target)[0][0]\n",
    "            new_choices = choices[indices, :, :]\n",
    "            switch_2_rows = np.random.rand()            \n",
    "            if switch_2_rows < 0.5:                \n",
    "                context = context[self.switch, :, :]\n",
    "            image = np.concatenate((context, new_choices))\n",
    "            target = new_target\n",
    "\n",
    "        resize_image = []\n",
    "        for idx in range(0, 16):\n",
    "            resize_image.append(np.array(Image.fromarray(image[idx,:,:]).resize([self.img_size, self.img_size])))\n",
    "            #resize_image.append(misc.imresize(image[idx,:,:], (self.img_size, self.img_size)))\n",
    "        resize_image = np.stack(resize_image) \n",
    "\n",
    "        del data\n",
    "        if self.transform:\n",
    "            resize_image = self.transform(resize_image)           \n",
    "            target = torch.tensor(target, dtype=torch.long)\n",
    "            meta_target = self.transform(meta_target) \n",
    "\n",
    "        return resize_image, target, meta_target"
   ]
  },
  {
   "cell_type": "code",
   "execution_count": 6,
   "metadata": {
    "colab": {
     "base_uri": "https://localhost:8080/"
    },
    "id": "qIuVZo4wnF6x",
    "outputId": "9a071878-12dd-4156-b45a-9ba6d197d3bd"
   },
   "outputs": [
    {
     "name": "stdout",
     "output_type": "stream",
     "text": [
      "./Data-L\n"
     ]
    }
   ],
   "source": [
    "    img_size = 80\n",
    "    train_figure_configurations = [0]\n",
    "    val_figure_configurations = train_figure_configurations\n",
    "    test_figure_configurations = [0]\n",
    "    print(dataset_path)\n",
    "    train = RAVENdataset(dataset_path, \"train\", train_figure_configurations, img_size, transform=transforms.Compose([ToTensor()]), shuffle = True)\n",
    "    valid = RAVENdataset(dataset_path, \"val\", val_figure_configurations, img_size, transform=transforms.Compose([ToTensor()]))\n",
    "    test = RAVENdataset(dataset_path, \"test\", test_figure_configurations, img_size, transform=transforms.Compose([ToTensor()]))\n",
    "  "
   ]
  },
  {
   "cell_type": "code",
   "execution_count": 7,
   "metadata": {
    "id": "C5BhbCh3txmC"
   },
   "outputs": [],
   "source": [
    "trainloader = DataLoader(train, batch_size=batch_size, shuffle=True, num_workers=load_workers)\n",
    "validloader = DataLoader(valid, batch_size=batch_size, shuffle=False, num_workers=load_workers)\n",
    "testloader = DataLoader(test, batch_size=batch_size, shuffle=False, num_workers=load_workers)"
   ]
  },
  {
   "cell_type": "code",
   "execution_count": 8,
   "metadata": {
    "id": "60Nb5tb-Izt5"
   },
   "outputs": [],
   "source": [
    "# model adapted from WReN and MLRN code: \n",
    "# WReN: https://github.com/Fen9/WReN/tree/master/models\n",
    "# MLRN: https://arxiv.org/abs/2003.11608"
   ]
  },
  {
   "cell_type": "code",
   "execution_count": 9,
   "metadata": {
    "id": "wyIsNy6WAHX1"
   },
   "outputs": [],
   "source": [
    "def getCombinations(inputTensor, N, c, d):#input shape=(batch_size, obj_count, obj_dim) #batch_size=N, obj_count=c, obj_dim=d\n",
    "    tensorA = inputTensor.reshape(N, 3, 3, d)\n",
    "    tensorB = torch.roll(tensorA,1,1)\n",
    "    tensorC = torch.roll(tensorB,1,1)\n",
    "    tensorX = tensorA.transpose(1,2)\n",
    "    tensorY = torch.roll(tensorX,1,1)\n",
    "    tensorZ = torch.roll(tensorY,1,1)\n",
    "    return torch.cat((torch.cat((tensorA,tensorA),3), torch.cat((tensorB,tensorA),3), torch.cat((tensorB,tensorC),3), \n",
    "                      torch.cat((tensorX,tensorX),3), torch.cat((tensorY,tensorX),3), torch.cat((tensorY,tensorZ),3)),1)\n",
    "    \n",
    "\n",
    "def getSecondaryCombinations(inputTensor, N, c, d):\n",
    "  tensorA = inputTensor.reshape(N,1,c,d).expand(N,c,c,d)\n",
    "  tensorB = tensorA.transpose(1, 2)\n",
    "\n",
    "  return torch.cat((tensorB, tensorA), 3)"
   ]
  },
  {
   "cell_type": "code",
   "execution_count": 10,
   "metadata": {},
   "outputs": [],
   "source": [
    "## Optimizer related changes\n",
    "def add_module_params_with_decay(module, weight_decay, param_groups):\n",
    "    group_with_decay= []\n",
    "    group_without_decay = []\n",
    "    for name, param in module.named_parameters():\n",
    "        if not param.requires_grad: continue\n",
    "        if name == 'bias' or name.endswith('bias'):\n",
    "            group_without_decay.append(param)\n",
    "        else:\n",
    "            group_with_decay.append(param)\n",
    "    param_groups.append({\"params\": group_with_decay, \"weight_decay\":weight_decay})\n",
    "    param_groups.append({\"params\": group_without_decay})\n",
    "\n",
    "optimizer_param_groups = []"
   ]
  },
  {
   "cell_type": "code",
   "execution_count": 11,
   "metadata": {
    "id": "_G9cL6SAu4Ew"
   },
   "outputs": [],
   "source": [
    "class BasicModel(nn.Module):\n",
    "    def __init__(self, args):\n",
    "        super(BasicModel, self).__init__()\n",
    "        self.name = args['model']\n",
    "\n",
    "    def load_model(self, path, epoch):\n",
    "        self.state_dict = torch.load(path+'{}_epoch_{}.pth'.format(self.name, epoch))\n",
    "\n",
    "    def save_model(self, path, epoch):\n",
    "        torch.save(self.state_dict(), path+'{}_epoch_{}.pth'.format(self.name, epoch))\n",
    "\n",
    "    def compute_loss(self, output, target, meta_target):\n",
    "        pass\n",
    "\n",
    "    def train_(self, input, target, meta_target):\n",
    "        self.optimizer.zero_grad()\n",
    "        output = self(input)\n",
    "        loss = self.compute_loss(output, target, meta_target)\n",
    "        loss.backward()\n",
    "        self.optimizer.step()\n",
    "        pred = output[0].data.max(1)[1]\n",
    "        correct = pred.eq(target.data).cpu().sum().numpy()\n",
    "        accuracy = correct * 100. / target.size()[0]\n",
    "        return loss.item(), accuracy\n",
    "\n",
    "    def validate_(self, input, target, meta_target):\n",
    "        output = self(input)\n",
    "        loss = self.compute_loss(output, target, meta_target)\n",
    "        pred = output[0].data.max(1)[1]\n",
    "        correct = pred.eq(target.data).cpu().sum().numpy()\n",
    "        accuracy = correct * 100. / target.size()[0]\n",
    "        return loss.item(), accuracy\n",
    "\n",
    "    def test_(self, input, target, meta_target):\n",
    "        output = self(input)\n",
    "        pred = output[0].data.max(1)[1]\n",
    "        correct = pred.eq(target.data).cpu().sum().numpy()\n",
    "        accuracy = correct * 100. / target.size()[0]\n",
    "        return accuracy"
   ]
  },
  {
   "cell_type": "code",
   "execution_count": 12,
   "metadata": {
    "id": "kn5e81NgQuJW"
   },
   "outputs": [],
   "source": [
    "class WReN(BasicModel):\n",
    "    def __init__(self, args):\n",
    "        super(WReN, self).__init__(args)\n",
    "        self.relation_network_depth = args['m']\n",
    "\n",
    "        self.g_dim = 512\n",
    "        self.h_dim = 256\n",
    "        self.f_dim = 256\n",
    "\n",
    "        self.use_mag_enc = True #switch between scalar input and magnitude encoded input\n",
    "        self.mag_enc_type_relu = False #switch between gaussian magnitude encoding and relu based magnitude encoding\n",
    "\n",
    "        self.magnitude_encoding_dim = 20\n",
    "        #model\n",
    "        #magnitude encoding\n",
    "        self.input_scale = 2.0/255.0\n",
    "        self.input_offset = -1.0\n",
    "        std_dev = 0.28\n",
    "        self.input_encoding_variance_inv = 1.0 / (math.sqrt(2.0) * std_dev)\n",
    "        self.normalization_factor = 1.0 / (math.sqrt(2*math.pi) * std_dev)\n",
    "        self.mag_scale = torch.nn.Parameter(torch.linspace(-1.0, 1.0, steps=self.magnitude_encoding_dim), requires_grad=False)\n",
    "\n",
    "        if self.use_mag_enc:\n",
    "            conv_input_dim = self.magnitude_encoding_dim\n",
    "        else:\n",
    "            conv_input_dim = 1\n",
    "\n",
    "        self.conv = torch.nn.Sequential(\n",
    "            torch.nn.Conv2d(conv_input_dim, 32, 3, stride=2), \n",
    "            torch.nn.LeakyReLU(),\n",
    "            torch.nn.Conv2d(32, 32, 3, stride=2), \n",
    "            torch.nn.LeakyReLU(),\n",
    "            torch.nn.Conv2d(32, 32, 3, stride=2), \n",
    "            torch.nn.LeakyReLU(),\n",
    "            torch.nn.Conv2d(32, 32, 3, stride=2), \n",
    "            torch.nn.LeakyReLU()\n",
    "        )\n",
    "        self.post_cnn_linear = torch.nn.Linear(32*4*4, 256-9)\n",
    "\n",
    "        self.tag_matrix = torch.nn.Parameter(torch.eye(9).repeat(8, 1), requires_grad=False)\n",
    "\n",
    "        self.g = torch.nn.Sequential(\n",
    "                torch.nn.Linear(2*256, self.g_dim), \n",
    "                torch.nn.LeakyReLU(),\n",
    "                torch.nn.Linear(self.g_dim, self.g_dim), \n",
    "                torch.nn.LeakyReLU(),\n",
    "                torch.nn.Linear(self.g_dim, self.g_dim), \n",
    "                torch.nn.LeakyReLU(),\n",
    "                torch.nn.Linear(self.g_dim, self.h_dim), \n",
    "                torch.nn.LeakyReLU()\n",
    "            )\n",
    "\n",
    "        h = []\n",
    "        for i in range(m):\n",
    "            rel_layer_func = torch.nn.Sequential(\n",
    "                torch.nn.Linear(2*self.h_dim, self.h_dim), \n",
    "                torch.nn.LeakyReLU(),\n",
    "                torch.nn.Linear(self.h_dim, self.h_dim), \n",
    "                torch.nn.LeakyReLU(),\n",
    "                torch.nn.Linear(self.h_dim, self.h_dim), \n",
    "                torch.nn.LeakyReLU()\n",
    "            )\n",
    "            h.append(rel_layer_func)\n",
    "\n",
    "        self.h = torch.nn.ModuleList(h)\n",
    "\n",
    "        f_in_dim = self.h_dim\n",
    "        self.f = torch.nn.Sequential(\n",
    "                torch.nn.Linear(f_in_dim, self.f_dim), \n",
    "                torch.nn.LeakyReLU(),\n",
    "                torch.nn.Linear(self.f_dim, self.f_dim), \n",
    "                torch.nn.LeakyReLU()\n",
    "            )\n",
    "\n",
    "        self.f_final = torch.nn.Linear(self.f_dim, 1)\n",
    "        self.optimizer = None\n",
    "        self.initialize_optimizer()\n",
    "        \n",
    "        \n",
    "    def initialize_optimizer(self):\n",
    "        add_module_params_with_decay(self.conv, weight_decay, optimizer_param_groups)\n",
    "        add_module_params_with_decay(self.post_cnn_linear,  weight_decay, optimizer_param_groups)\n",
    "        add_module_params_with_decay(self.g, weight_decay, optimizer_param_groups)\n",
    "        add_module_params_with_decay(self.h, weight_decay, optimizer_param_groups)\n",
    "        add_module_params_with_decay(self.f, weight_decay, optimizer_param_groups)\n",
    "        add_module_params_with_decay(self.f_final, weight_decay,optimizer_param_groups)\n",
    "        \n",
    "        self.optimizer = Lamb(optimizer_param_groups, lr=lr)\n",
    "\n",
    "\n",
    "    def compute_loss(self, output, target, meta_target):\n",
    "      lossFunc = torch.nn.CrossEntropyLoss()\n",
    "      answer = output[0]\n",
    "      activation_loss = output[1]\n",
    "      loss = lossFunc(answer,target) + activation_loss * 2e-3\n",
    "      return loss\n",
    "\n",
    "    def forward(self, batch):\n",
    "        batch_size = batch.size()[0]\n",
    "        #Panel preprocessor CNN\n",
    "        batch_flat = batch.reshape(batch_size*16, 1, 80, 80)\n",
    "\n",
    "        if self.use_mag_enc:\n",
    "            with torch.no_grad():\n",
    "                #magnitude encoding\n",
    "                batch_flat = batch_flat.transpose(1, 3)\n",
    "                if self.mag_enc_type_relu:\n",
    "                    #first order\n",
    "                    batch_flat = batch_flat.add_(255/self.magnitude_encoding_dim)\n",
    "                    batch_flat = torch.nn.functional.relu_(batch_flat.mul_(self.input_scale).add_(self.input_offset).add(-self.mag_scale))\n",
    "                    #second order\n",
    "                    batch_flat = torch.cat((batch_flat[:, :, :, :-1] - 2*batch_flat[:, :, :, 1:], batch_flat[:, :, :, -1].unsqueeze(dim=-1)), dim=-1).mul_(self.magnitude_encoding_dim/2)\n",
    "                    batch_flat = torch.nn.functional.relu_(batch_flat)\n",
    "                else:\n",
    "                    batch_flat = batch_flat.mul_(self.input_scale).add_(self.input_offset).tanh_().add(self.mag_scale).mul_(self.input_encoding_variance_inv).pow_(2).mul_(-1).exp_().mul_(self.normalization_factor)\n",
    "                batch_flat = batch_flat.transpose(3, 1)\n",
    "\n",
    "        conv_out = self.conv(batch_flat)\n",
    "        #scatter context\n",
    "        objectsWithoutPos = self.post_cnn_linear(conv_out.reshape(batch_size*16, -1))\n",
    "        panel_vectors = objectsWithoutPos.reshape(batch_size, 16, 256-9)\n",
    "        given, option1, option2, option3, option4, option5, option6, option7, option8 = panel_vectors.split((8, 1, 1, 1, 1, 1, 1, 1, 1), dim=1)\n",
    "        optionsWithContext = torch.cat((\n",
    "            given, option1, \n",
    "            given, option2, \n",
    "            given, option3, \n",
    "            given, option4, \n",
    "            given, option5, \n",
    "            given, option6, \n",
    "            given, option7, \n",
    "            given, option8\n",
    "        ), 1)\n",
    "        optionsWithoutPos = optionsWithContext.reshape(batch_size*8*9, 256-9)\n",
    "        objects = torch.cat((optionsWithoutPos, self.tag_matrix.repeat(batch_size, 1)), dim=1).reshape(batch_size*8, 9, 256-9+9)\n",
    "\n",
    "        #MLRN\n",
    "        objRows = getCombinations(objects, batch_size*8, 9, 256)\n",
    "        objRows = objRows.reshape(batch_size*8*(18*3), 2*256)\n",
    "\n",
    "        gResult = self.g(objRows)#apply MLP\n",
    "\n",
    "        prev_result = gResult\n",
    "        prev_dim = self.h_dim\n",
    "        prev_result_2d = prev_result.reshape(batch_size*8, 18, 3, prev_dim)\n",
    "        sum_j = prev_result_2d.sum(dim=2)\n",
    "        for i, h_layer in enumerate(self.h):\n",
    "            residual = sum_j\n",
    "            intermed_obj_row_pairs = getSecondaryCombinations(sum_j, batch_size*8, 18, prev_dim)\n",
    "            intermed_obj_pairs = intermed_obj_row_pairs.reshape(batch_size*8*(18*18), 2*prev_dim)\n",
    "            prev_result = h_layer(intermed_obj_pairs)#apply MLP\n",
    "            prev_dim = self.h_dim\n",
    "            prev_result_2d = prev_result.reshape(batch_size*8, 18, 18, prev_dim)\n",
    "            sum_j = prev_result_2d.sum(dim=2)\n",
    "\n",
    "        hSum = sum_j.sum(dim=1)\n",
    "        result = self.f_final(self.f(hSum))#pre-softmax scores for every possible answer\n",
    "\n",
    "        answer = result.reshape(batch_size, 8)\n",
    "\n",
    "        #attempt to stabilize training (avoiding inf value activations in last layers) \n",
    "        activation_loss = hSum.pow(2).mean() + result.pow(2).mean()\n",
    "\n",
    "        return answer, activation_loss"
   ]
  },
  {
   "cell_type": "code",
   "execution_count": 13,
   "metadata": {
    "colab": {
     "base_uri": "https://localhost:8080/",
     "height": 486
    },
    "id": "DG85n71rm5-e",
    "outputId": "6b02201d-0f6a-4bc3-9b5d-456d51e03d0e"
   },
   "outputs": [
    {
     "name": "stdout",
     "output_type": "stream",
     "text": [
      "Epoch: 0\n"
     ]
    },
    {
     "name": "stderr",
     "output_type": "stream",
     "text": [
      "  0%|          | 0/188 [00:00<?, ?it/s]/common/home/ap1933/lamb.py:96: UserWarning: This overload of add_ is deprecated:\n",
      "\tadd_(Number alpha, Tensor other)\n",
      "Consider using one of the following signatures instead:\n",
      "\tadd_(Tensor other, *, Number alpha) (Triggered internally at  ../torch/csrc/utils/python_arg_parser.cpp:1055.)\n",
      "  exp_avg.mul_(beta1).add_(1 - beta1, grad)\n",
      "100%|██████████| 188/188 [00:28<00:00,  6.70it/s]\n"
     ]
    },
    {
     "name": "stdout",
     "output_type": "stream",
     "text": [
      "Avg Training Loss: 2.107548, Acc: 12.8823\n"
     ]
    },
    {
     "name": "stderr",
     "output_type": "stream",
     "text": [
      "100%|██████████| 63/63 [00:06<00:00, 10.08it/s]\n"
     ]
    },
    {
     "name": "stdout",
     "output_type": "stream",
     "text": [
      "Total Validation Loss: 4.159043, Acc: 11.9048\n"
     ]
    },
    {
     "name": "stderr",
     "output_type": "stream",
     "text": [
      "100%|██████████| 63/63 [00:04<00:00, 14.43it/s]\n"
     ]
    },
    {
     "name": "stdout",
     "output_type": "stream",
     "text": [
      "Total Testing Acc: 12.4008\n",
      "Epoch: 1\n"
     ]
    },
    {
     "name": "stderr",
     "output_type": "stream",
     "text": [
      "100%|██████████| 188/188 [00:34<00:00,  5.48it/s]\n"
     ]
    },
    {
     "name": "stdout",
     "output_type": "stream",
     "text": [
      "Avg Training Loss: 2.079526, Acc: 13.0319\n"
     ]
    },
    {
     "name": "stderr",
     "output_type": "stream",
     "text": [
      "100%|██████████| 63/63 [00:03<00:00, 15.77it/s]\n"
     ]
    },
    {
     "name": "stdout",
     "output_type": "stream",
     "text": [
      "Total Validation Loss: 4.159113, Acc: 13.5417\n"
     ]
    },
    {
     "name": "stderr",
     "output_type": "stream",
     "text": [
      "100%|██████████| 63/63 [00:04<00:00, 15.42it/s]"
     ]
    },
    {
     "name": "stdout",
     "output_type": "stream",
     "text": [
      "Total Testing Acc: 12.9960\n",
      "Epoch: 2\n"
     ]
    },
    {
     "name": "stderr",
     "output_type": "stream",
     "text": [
      "\n",
      "100%|██████████| 188/188 [00:35<00:00,  5.26it/s]\n"
     ]
    },
    {
     "name": "stdout",
     "output_type": "stream",
     "text": [
      "Avg Training Loss: 2.079537, Acc: 12.1676\n"
     ]
    },
    {
     "name": "stderr",
     "output_type": "stream",
     "text": [
      "100%|██████████| 63/63 [00:04<00:00, 14.45it/s]"
     ]
    },
    {
     "name": "stdout",
     "output_type": "stream",
     "text": [
      "Total Validation Loss: 4.155762, Acc: 12.6488\n"
     ]
    },
    {
     "name": "stderr",
     "output_type": "stream",
     "text": [
      "\n",
      "100%|██████████| 63/63 [00:05<00:00, 10.73it/s]\n"
     ]
    },
    {
     "name": "stdout",
     "output_type": "stream",
     "text": [
      "Total Testing Acc: 14.0873\n",
      "Epoch: 3\n"
     ]
    },
    {
     "name": "stderr",
     "output_type": "stream",
     "text": [
      "100%|██████████| 188/188 [00:29<00:00,  6.40it/s]\n"
     ]
    },
    {
     "name": "stdout",
     "output_type": "stream",
     "text": [
      "Avg Training Loss: 2.069051, Acc: 14.6609\n"
     ]
    },
    {
     "name": "stderr",
     "output_type": "stream",
     "text": [
      "100%|██████████| 63/63 [00:05<00:00, 10.71it/s]\n"
     ]
    },
    {
     "name": "stdout",
     "output_type": "stream",
     "text": [
      "Total Validation Loss: 4.112925, Acc: 15.8730\n"
     ]
    },
    {
     "name": "stderr",
     "output_type": "stream",
     "text": [
      "100%|██████████| 63/63 [00:05<00:00, 10.78it/s]\n"
     ]
    },
    {
     "name": "stdout",
     "output_type": "stream",
     "text": [
      "Total Testing Acc: 17.9067\n",
      "Epoch: 4\n"
     ]
    },
    {
     "name": "stderr",
     "output_type": "stream",
     "text": [
      "100%|██████████| 188/188 [00:23<00:00,  8.05it/s]\n"
     ]
    },
    {
     "name": "stdout",
     "output_type": "stream",
     "text": [
      "Avg Training Loss: 2.045396, Acc: 17.4368\n"
     ]
    },
    {
     "name": "stderr",
     "output_type": "stream",
     "text": [
      "100%|██████████| 63/63 [00:04<00:00, 12.66it/s]\n"
     ]
    },
    {
     "name": "stdout",
     "output_type": "stream",
     "text": [
      "Total Validation Loss: 4.066026, Acc: 17.9067\n"
     ]
    },
    {
     "name": "stderr",
     "output_type": "stream",
     "text": [
      "100%|██████████| 63/63 [00:05<00:00, 10.92it/s]"
     ]
    },
    {
     "name": "stdout",
     "output_type": "stream",
     "text": [
      "Total Testing Acc: 20.6349\n",
      "Epoch: 5\n"
     ]
    },
    {
     "name": "stderr",
     "output_type": "stream",
     "text": [
      "\n",
      "100%|██████████| 188/188 [00:42<00:00,  4.44it/s]\n"
     ]
    },
    {
     "name": "stdout",
     "output_type": "stream",
     "text": [
      "Avg Training Loss: 1.985548, Acc: 19.5811\n"
     ]
    },
    {
     "name": "stderr",
     "output_type": "stream",
     "text": [
      "100%|██████████| 63/63 [00:04<00:00, 14.01it/s]\n"
     ]
    },
    {
     "name": "stdout",
     "output_type": "stream",
     "text": [
      "Total Validation Loss: 3.869878, Acc: 20.7837\n"
     ]
    },
    {
     "name": "stderr",
     "output_type": "stream",
     "text": [
      "100%|██████████| 63/63 [00:04<00:00, 14.66it/s]"
     ]
    },
    {
     "name": "stdout",
     "output_type": "stream",
     "text": [
      "Total Testing Acc: 22.8175\n",
      "Epoch: 6\n"
     ]
    },
    {
     "name": "stderr",
     "output_type": "stream",
     "text": [
      "\n",
      "100%|██████████| 188/188 [00:17<00:00, 10.70it/s]\n"
     ]
    },
    {
     "name": "stdout",
     "output_type": "stream",
     "text": [
      "Avg Training Loss: 1.852398, Acc: 24.8670\n"
     ]
    },
    {
     "name": "stderr",
     "output_type": "stream",
     "text": [
      "100%|██████████| 63/63 [00:04<00:00, 14.80it/s]\n"
     ]
    },
    {
     "name": "stdout",
     "output_type": "stream",
     "text": [
      "Total Validation Loss: 3.530175, Acc: 29.0179\n"
     ]
    },
    {
     "name": "stderr",
     "output_type": "stream",
     "text": [
      "100%|██████████| 63/63 [00:04<00:00, 12.77it/s]\n"
     ]
    },
    {
     "name": "stdout",
     "output_type": "stream",
     "text": [
      "Total Testing Acc: 28.6210\n",
      "Epoch: 7\n"
     ]
    },
    {
     "name": "stderr",
     "output_type": "stream",
     "text": [
      "100%|██████████| 188/188 [00:33<00:00,  5.61it/s]\n"
     ]
    },
    {
     "name": "stdout",
     "output_type": "stream",
     "text": [
      "Avg Training Loss: 1.719174, Acc: 29.2387\n"
     ]
    },
    {
     "name": "stderr",
     "output_type": "stream",
     "text": [
      "100%|██████████| 63/63 [00:05<00:00, 12.55it/s]\n"
     ]
    },
    {
     "name": "stdout",
     "output_type": "stream",
     "text": [
      "Total Validation Loss: 3.194202, Acc: 34.0278\n"
     ]
    },
    {
     "name": "stderr",
     "output_type": "stream",
     "text": [
      "100%|██████████| 63/63 [00:06<00:00, 10.36it/s]"
     ]
    },
    {
     "name": "stdout",
     "output_type": "stream",
     "text": [
      "Total Testing Acc: 34.5734\n",
      "Epoch: 8\n"
     ]
    },
    {
     "name": "stderr",
     "output_type": "stream",
     "text": [
      "\n",
      "100%|██████████| 188/188 [00:28<00:00,  6.71it/s]\n"
     ]
    },
    {
     "name": "stdout",
     "output_type": "stream",
     "text": [
      "Avg Training Loss: 1.498469, Acc: 39.2620\n"
     ]
    },
    {
     "name": "stderr",
     "output_type": "stream",
     "text": [
      "100%|██████████| 63/63 [00:05<00:00, 10.81it/s]"
     ]
    },
    {
     "name": "stdout",
     "output_type": "stream",
     "text": [
      "Total Validation Loss: 2.673962, Acc: 43.1548\n"
     ]
    },
    {
     "name": "stderr",
     "output_type": "stream",
     "text": [
      "\n",
      "100%|██████████| 63/63 [00:05<00:00, 10.83it/s]\n"
     ]
    },
    {
     "name": "stdout",
     "output_type": "stream",
     "text": [
      "Total Testing Acc: 42.8075\n",
      "Epoch: 9\n"
     ]
    },
    {
     "name": "stderr",
     "output_type": "stream",
     "text": [
      "100%|██████████| 188/188 [00:28<00:00,  6.68it/s]\n"
     ]
    },
    {
     "name": "stdout",
     "output_type": "stream",
     "text": [
      "Avg Training Loss: 1.311149, Acc: 46.8584\n"
     ]
    },
    {
     "name": "stderr",
     "output_type": "stream",
     "text": [
      "100%|██████████| 63/63 [00:05<00:00, 10.80it/s]\n"
     ]
    },
    {
     "name": "stdout",
     "output_type": "stream",
     "text": [
      "Total Validation Loss: 2.551055, Acc: 46.6766\n"
     ]
    },
    {
     "name": "stderr",
     "output_type": "stream",
     "text": [
      "100%|██████████| 63/63 [00:04<00:00, 13.79it/s]\n"
     ]
    },
    {
     "name": "stdout",
     "output_type": "stream",
     "text": [
      "Total Testing Acc: 47.0734\n",
      "Epoch: 10\n"
     ]
    },
    {
     "name": "stderr",
     "output_type": "stream",
     "text": [
      "100%|██████████| 188/188 [00:31<00:00,  5.91it/s]\n"
     ]
    },
    {
     "name": "stdout",
     "output_type": "stream",
     "text": [
      "Avg Training Loss: 1.179521, Acc: 53.9561\n"
     ]
    },
    {
     "name": "stderr",
     "output_type": "stream",
     "text": [
      "100%|██████████| 63/63 [00:04<00:00, 14.87it/s]"
     ]
    },
    {
     "name": "stdout",
     "output_type": "stream",
     "text": [
      "Total Validation Loss: 2.297472, Acc: 58.1349\n"
     ]
    },
    {
     "name": "stderr",
     "output_type": "stream",
     "text": [
      "\n",
      "100%|██████████| 63/63 [00:03<00:00, 18.23it/s]\n"
     ]
    },
    {
     "name": "stdout",
     "output_type": "stream",
     "text": [
      "Total Testing Acc: 58.2341\n",
      "Epoch: 11\n"
     ]
    },
    {
     "name": "stderr",
     "output_type": "stream",
     "text": [
      "100%|██████████| 188/188 [00:33<00:00,  5.56it/s]\n"
     ]
    },
    {
     "name": "stdout",
     "output_type": "stream",
     "text": [
      "Avg Training Loss: 1.033997, Acc: 61.9182\n"
     ]
    },
    {
     "name": "stderr",
     "output_type": "stream",
     "text": [
      "100%|██████████| 63/63 [00:03<00:00, 18.50it/s]\n"
     ]
    },
    {
     "name": "stdout",
     "output_type": "stream",
     "text": [
      "Total Validation Loss: 2.009143, Acc: 64.3849\n"
     ]
    },
    {
     "name": "stderr",
     "output_type": "stream",
     "text": [
      "100%|██████████| 63/63 [00:03<00:00, 18.34it/s]\n"
     ]
    },
    {
     "name": "stdout",
     "output_type": "stream",
     "text": [
      "Total Testing Acc: 63.5913\n",
      "Epoch: 12\n"
     ]
    },
    {
     "name": "stderr",
     "output_type": "stream",
     "text": [
      "100%|██████████| 188/188 [00:34<00:00,  5.50it/s]\n"
     ]
    },
    {
     "name": "stdout",
     "output_type": "stream",
     "text": [
      "Avg Training Loss: 0.948151, Acc: 65.2427\n"
     ]
    },
    {
     "name": "stderr",
     "output_type": "stream",
     "text": [
      "100%|██████████| 63/63 [00:03<00:00, 17.64it/s]\n"
     ]
    },
    {
     "name": "stdout",
     "output_type": "stream",
     "text": [
      "Total Validation Loss: 2.050631, Acc: 62.7976\n"
     ]
    },
    {
     "name": "stderr",
     "output_type": "stream",
     "text": [
      "100%|██████████| 63/63 [00:05<00:00, 10.85it/s]\n"
     ]
    },
    {
     "name": "stdout",
     "output_type": "stream",
     "text": [
      "Total Testing Acc: 60.9127\n",
      "Epoch: 13\n"
     ]
    },
    {
     "name": "stderr",
     "output_type": "stream",
     "text": [
      "100%|██████████| 188/188 [00:30<00:00,  6.22it/s]\n"
     ]
    },
    {
     "name": "stdout",
     "output_type": "stream",
     "text": [
      "Avg Training Loss: 0.897975, Acc: 67.1543\n"
     ]
    },
    {
     "name": "stderr",
     "output_type": "stream",
     "text": [
      "100%|██████████| 63/63 [00:05<00:00, 10.71it/s]\n"
     ]
    },
    {
     "name": "stdout",
     "output_type": "stream",
     "text": [
      "Total Validation Loss: 1.865194, Acc: 66.7163\n"
     ]
    },
    {
     "name": "stderr",
     "output_type": "stream",
     "text": [
      "100%|██████████| 63/63 [00:05<00:00, 10.81it/s]\n"
     ]
    },
    {
     "name": "stdout",
     "output_type": "stream",
     "text": [
      "Total Testing Acc: 64.2857\n",
      "Epoch: 14\n"
     ]
    },
    {
     "name": "stderr",
     "output_type": "stream",
     "text": [
      "100%|██████████| 188/188 [00:27<00:00,  6.72it/s]\n"
     ]
    },
    {
     "name": "stdout",
     "output_type": "stream",
     "text": [
      "Avg Training Loss: 0.867712, Acc: 69.0160\n"
     ]
    },
    {
     "name": "stderr",
     "output_type": "stream",
     "text": [
      "100%|██████████| 63/63 [00:05<00:00, 10.74it/s]\n"
     ]
    },
    {
     "name": "stdout",
     "output_type": "stream",
     "text": [
      "Total Validation Loss: 1.728182, Acc: 67.3115\n"
     ]
    },
    {
     "name": "stderr",
     "output_type": "stream",
     "text": [
      "100%|██████████| 63/63 [00:05<00:00, 10.76it/s]\n"
     ]
    },
    {
     "name": "stdout",
     "output_type": "stream",
     "text": [
      "Total Testing Acc: 69.0476\n",
      "Epoch: 15\n"
     ]
    },
    {
     "name": "stderr",
     "output_type": "stream",
     "text": [
      "100%|██████████| 188/188 [00:27<00:00,  6.80it/s]\n"
     ]
    },
    {
     "name": "stdout",
     "output_type": "stream",
     "text": [
      "Avg Training Loss: 0.820213, Acc: 70.5452\n"
     ]
    },
    {
     "name": "stderr",
     "output_type": "stream",
     "text": [
      "100%|██████████| 63/63 [00:05<00:00, 10.70it/s]\n"
     ]
    },
    {
     "name": "stdout",
     "output_type": "stream",
     "text": [
      "Total Validation Loss: 1.673821, Acc: 69.7421\n"
     ]
    },
    {
     "name": "stderr",
     "output_type": "stream",
     "text": [
      "100%|██████████| 63/63 [00:05<00:00, 10.78it/s]\n"
     ]
    },
    {
     "name": "stdout",
     "output_type": "stream",
     "text": [
      "Total Testing Acc: 67.7579\n",
      "Epoch: 16\n"
     ]
    },
    {
     "name": "stderr",
     "output_type": "stream",
     "text": [
      "100%|██████████| 188/188 [00:28<00:00,  6.70it/s]\n"
     ]
    },
    {
     "name": "stdout",
     "output_type": "stream",
     "text": [
      "Avg Training Loss: 0.775381, Acc: 72.6729\n"
     ]
    },
    {
     "name": "stderr",
     "output_type": "stream",
     "text": [
      "100%|██████████| 63/63 [00:05<00:00, 10.73it/s]\n"
     ]
    },
    {
     "name": "stdout",
     "output_type": "stream",
     "text": [
      "Total Validation Loss: 1.551615, Acc: 73.1151\n"
     ]
    },
    {
     "name": "stderr",
     "output_type": "stream",
     "text": [
      "100%|██████████| 63/63 [00:04<00:00, 12.75it/s]\n"
     ]
    },
    {
     "name": "stdout",
     "output_type": "stream",
     "text": [
      "Total Testing Acc: 72.9167\n",
      "Epoch: 17\n"
     ]
    },
    {
     "name": "stderr",
     "output_type": "stream",
     "text": [
      "100%|██████████| 188/188 [00:33<00:00,  5.55it/s]\n"
     ]
    },
    {
     "name": "stdout",
     "output_type": "stream",
     "text": [
      "Avg Training Loss: 0.752124, Acc: 74.2354\n"
     ]
    },
    {
     "name": "stderr",
     "output_type": "stream",
     "text": [
      "100%|██████████| 63/63 [00:04<00:00, 15.48it/s]"
     ]
    },
    {
     "name": "stdout",
     "output_type": "stream",
     "text": [
      "Total Validation Loss: 1.578117, Acc: 70.9821\n"
     ]
    },
    {
     "name": "stderr",
     "output_type": "stream",
     "text": [
      "\n",
      "100%|██████████| 63/63 [00:04<00:00, 14.96it/s]"
     ]
    },
    {
     "name": "stdout",
     "output_type": "stream",
     "text": [
      "Total Testing Acc: 70.7341\n",
      "Epoch: 18\n"
     ]
    },
    {
     "name": "stderr",
     "output_type": "stream",
     "text": [
      "\n",
      "100%|██████████| 188/188 [00:33<00:00,  5.62it/s]\n"
     ]
    },
    {
     "name": "stdout",
     "output_type": "stream",
     "text": [
      "Avg Training Loss: 0.731768, Acc: 74.4681\n"
     ]
    },
    {
     "name": "stderr",
     "output_type": "stream",
     "text": [
      "100%|██████████| 63/63 [00:05<00:00, 12.27it/s]\n"
     ]
    },
    {
     "name": "stdout",
     "output_type": "stream",
     "text": [
      "Total Validation Loss: 1.520203, Acc: 73.1151\n"
     ]
    },
    {
     "name": "stderr",
     "output_type": "stream",
     "text": [
      "100%|██████████| 63/63 [00:05<00:00, 10.78it/s]\n"
     ]
    },
    {
     "name": "stdout",
     "output_type": "stream",
     "text": [
      "Total Testing Acc: 72.9167\n",
      "Epoch: 19\n"
     ]
    },
    {
     "name": "stderr",
     "output_type": "stream",
     "text": [
      "100%|██████████| 188/188 [00:29<00:00,  6.39it/s]\n"
     ]
    },
    {
     "name": "stdout",
     "output_type": "stream",
     "text": [
      "Avg Training Loss: 0.699582, Acc: 76.1968\n"
     ]
    },
    {
     "name": "stderr",
     "output_type": "stream",
     "text": [
      "100%|██████████| 63/63 [00:06<00:00, 10.50it/s]\n"
     ]
    },
    {
     "name": "stdout",
     "output_type": "stream",
     "text": [
      "Total Validation Loss: 1.471630, Acc: 74.8512\n"
     ]
    },
    {
     "name": "stderr",
     "output_type": "stream",
     "text": [
      "100%|██████████| 63/63 [00:05<00:00, 10.57it/s]\n"
     ]
    },
    {
     "name": "stdout",
     "output_type": "stream",
     "text": [
      "Total Testing Acc: 72.8175\n",
      "Epoch: 20\n"
     ]
    },
    {
     "name": "stderr",
     "output_type": "stream",
     "text": [
      "100%|██████████| 188/188 [00:21<00:00,  8.90it/s]\n"
     ]
    },
    {
     "name": "stdout",
     "output_type": "stream",
     "text": [
      "Avg Training Loss: 0.675562, Acc: 77.4435\n"
     ]
    },
    {
     "name": "stderr",
     "output_type": "stream",
     "text": [
      "100%|██████████| 63/63 [00:05<00:00, 11.02it/s]\n"
     ]
    },
    {
     "name": "stdout",
     "output_type": "stream",
     "text": [
      "Total Validation Loss: 1.448111, Acc: 75.8929\n"
     ]
    },
    {
     "name": "stderr",
     "output_type": "stream",
     "text": [
      "100%|██████████| 63/63 [00:05<00:00, 10.70it/s]\n"
     ]
    },
    {
     "name": "stdout",
     "output_type": "stream",
     "text": [
      "Total Testing Acc: 74.3552\n",
      "Epoch: 21\n"
     ]
    },
    {
     "name": "stderr",
     "output_type": "stream",
     "text": [
      "100%|██████████| 188/188 [00:40<00:00,  4.66it/s]\n"
     ]
    },
    {
     "name": "stdout",
     "output_type": "stream",
     "text": [
      "Avg Training Loss: 0.653342, Acc: 77.2939\n"
     ]
    },
    {
     "name": "stderr",
     "output_type": "stream",
     "text": [
      "100%|██████████| 63/63 [00:05<00:00, 10.89it/s]\n"
     ]
    },
    {
     "name": "stdout",
     "output_type": "stream",
     "text": [
      "Total Validation Loss: 1.413923, Acc: 76.5873\n"
     ]
    },
    {
     "name": "stderr",
     "output_type": "stream",
     "text": [
      "100%|██████████| 63/63 [00:05<00:00, 11.25it/s]\n"
     ]
    },
    {
     "name": "stdout",
     "output_type": "stream",
     "text": [
      "Total Testing Acc: 76.0913\n",
      "Epoch: 22\n"
     ]
    },
    {
     "name": "stderr",
     "output_type": "stream",
     "text": [
      "100%|██████████| 188/188 [00:17<00:00, 10.80it/s]"
     ]
    },
    {
     "name": "stdout",
     "output_type": "stream",
     "text": [
      "Avg Training Loss: 0.623213, Acc: 78.9561\n"
     ]
    },
    {
     "name": "stderr",
     "output_type": "stream",
     "text": [
      "\n",
      "100%|██████████| 63/63 [00:04<00:00, 13.34it/s]\n"
     ]
    },
    {
     "name": "stdout",
     "output_type": "stream",
     "text": [
      "Total Validation Loss: 1.380139, Acc: 75.3472\n"
     ]
    },
    {
     "name": "stderr",
     "output_type": "stream",
     "text": [
      "100%|██████████| 63/63 [00:04<00:00, 13.43it/s]"
     ]
    },
    {
     "name": "stdout",
     "output_type": "stream",
     "text": [
      "Total Testing Acc: 75.0992\n",
      "Epoch: 23\n"
     ]
    },
    {
     "name": "stderr",
     "output_type": "stream",
     "text": [
      "\n",
      "100%|██████████| 188/188 [00:35<00:00,  5.31it/s]\n"
     ]
    },
    {
     "name": "stdout",
     "output_type": "stream",
     "text": [
      "Avg Training Loss: 0.606979, Acc: 79.8371\n"
     ]
    },
    {
     "name": "stderr",
     "output_type": "stream",
     "text": [
      "100%|██████████| 63/63 [00:03<00:00, 17.43it/s]\n"
     ]
    },
    {
     "name": "stdout",
     "output_type": "stream",
     "text": [
      "Total Validation Loss: 1.349341, Acc: 76.5873\n"
     ]
    },
    {
     "name": "stderr",
     "output_type": "stream",
     "text": [
      "100%|██████████| 63/63 [00:05<00:00, 10.87it/s]\n"
     ]
    },
    {
     "name": "stdout",
     "output_type": "stream",
     "text": [
      "Total Testing Acc: 76.9841\n",
      "Epoch: 24\n"
     ]
    },
    {
     "name": "stderr",
     "output_type": "stream",
     "text": [
      "100%|██████████| 188/188 [00:34<00:00,  5.45it/s]\n"
     ]
    },
    {
     "name": "stdout",
     "output_type": "stream",
     "text": [
      "Avg Training Loss: 0.594811, Acc: 80.9508\n"
     ]
    },
    {
     "name": "stderr",
     "output_type": "stream",
     "text": [
      "100%|██████████| 63/63 [00:05<00:00, 10.78it/s]\n"
     ]
    },
    {
     "name": "stdout",
     "output_type": "stream",
     "text": [
      "Total Validation Loss: 1.364555, Acc: 76.6865\n"
     ]
    },
    {
     "name": "stderr",
     "output_type": "stream",
     "text": [
      "100%|██████████| 63/63 [00:05<00:00, 10.93it/s]\n"
     ]
    },
    {
     "name": "stdout",
     "output_type": "stream",
     "text": [
      "Total Testing Acc: 76.6865\n",
      "Epoch: 25\n"
     ]
    },
    {
     "name": "stderr",
     "output_type": "stream",
     "text": [
      "100%|██████████| 188/188 [00:27<00:00,  6.73it/s]\n"
     ]
    },
    {
     "name": "stdout",
     "output_type": "stream",
     "text": [
      "Avg Training Loss: 0.559960, Acc: 81.5824\n"
     ]
    },
    {
     "name": "stderr",
     "output_type": "stream",
     "text": [
      "100%|██████████| 63/63 [00:05<00:00, 10.83it/s]\n"
     ]
    },
    {
     "name": "stdout",
     "output_type": "stream",
     "text": [
      "Total Validation Loss: 1.338333, Acc: 77.6786\n"
     ]
    },
    {
     "name": "stderr",
     "output_type": "stream",
     "text": [
      "100%|██████████| 63/63 [00:05<00:00, 11.77it/s]\n"
     ]
    },
    {
     "name": "stdout",
     "output_type": "stream",
     "text": [
      "Total Testing Acc: 76.7361\n",
      "Epoch: 26\n"
     ]
    },
    {
     "name": "stderr",
     "output_type": "stream",
     "text": [
      "100%|██████████| 188/188 [00:31<00:00,  5.92it/s]\n"
     ]
    },
    {
     "name": "stdout",
     "output_type": "stream",
     "text": [
      "Avg Training Loss: 0.545035, Acc: 82.3969\n"
     ]
    },
    {
     "name": "stderr",
     "output_type": "stream",
     "text": [
      "100%|██████████| 63/63 [00:04<00:00, 13.40it/s]\n"
     ]
    },
    {
     "name": "stdout",
     "output_type": "stream",
     "text": [
      "Total Validation Loss: 1.241116, Acc: 78.0754\n"
     ]
    },
    {
     "name": "stderr",
     "output_type": "stream",
     "text": [
      "100%|██████████| 63/63 [00:03<00:00, 17.16it/s]\n"
     ]
    },
    {
     "name": "stdout",
     "output_type": "stream",
     "text": [
      "Total Testing Acc: 78.1250\n",
      "Epoch: 27\n"
     ]
    },
    {
     "name": "stderr",
     "output_type": "stream",
     "text": [
      "100%|██████████| 188/188 [00:33<00:00,  5.58it/s]\n"
     ]
    },
    {
     "name": "stdout",
     "output_type": "stream",
     "text": [
      "Avg Training Loss: 0.523128, Acc: 83.7267\n"
     ]
    },
    {
     "name": "stderr",
     "output_type": "stream",
     "text": [
      "100%|██████████| 63/63 [00:04<00:00, 13.83it/s]\n"
     ]
    },
    {
     "name": "stdout",
     "output_type": "stream",
     "text": [
      "Total Validation Loss: 1.308930, Acc: 77.0337\n"
     ]
    },
    {
     "name": "stderr",
     "output_type": "stream",
     "text": [
      "100%|██████████| 63/63 [00:05<00:00, 10.90it/s]\n"
     ]
    },
    {
     "name": "stdout",
     "output_type": "stream",
     "text": [
      "Total Testing Acc: 78.5714\n",
      "Epoch: 28\n"
     ]
    },
    {
     "name": "stderr",
     "output_type": "stream",
     "text": [
      "100%|██████████| 188/188 [00:33<00:00,  5.69it/s]\n"
     ]
    },
    {
     "name": "stdout",
     "output_type": "stream",
     "text": [
      "Avg Training Loss: 0.526406, Acc: 83.5439\n"
     ]
    },
    {
     "name": "stderr",
     "output_type": "stream",
     "text": [
      "100%|██████████| 63/63 [00:05<00:00, 12.43it/s]\n"
     ]
    },
    {
     "name": "stdout",
     "output_type": "stream",
     "text": [
      "Total Validation Loss: 1.345020, Acc: 79.6627\n"
     ]
    },
    {
     "name": "stderr",
     "output_type": "stream",
     "text": [
      "100%|██████████| 63/63 [00:05<00:00, 10.87it/s]\n"
     ]
    },
    {
     "name": "stdout",
     "output_type": "stream",
     "text": [
      "Total Testing Acc: 80.1091\n",
      "Epoch: 29\n"
     ]
    },
    {
     "name": "stderr",
     "output_type": "stream",
     "text": [
      "100%|██████████| 188/188 [00:28<00:00,  6.70it/s]\n"
     ]
    },
    {
     "name": "stdout",
     "output_type": "stream",
     "text": [
      "Avg Training Loss: 0.511595, Acc: 84.3085\n"
     ]
    },
    {
     "name": "stderr",
     "output_type": "stream",
     "text": [
      "100%|██████████| 63/63 [00:05<00:00, 10.87it/s]\n"
     ]
    },
    {
     "name": "stdout",
     "output_type": "stream",
     "text": [
      "Total Validation Loss: 1.234682, Acc: 79.2163\n"
     ]
    },
    {
     "name": "stderr",
     "output_type": "stream",
     "text": [
      "100%|██████████| 63/63 [00:05<00:00, 10.89it/s]"
     ]
    },
    {
     "name": "stdout",
     "output_type": "stream",
     "text": [
      "Total Testing Acc: 78.9187\n",
      "Epoch: 30\n"
     ]
    },
    {
     "name": "stderr",
     "output_type": "stream",
     "text": [
      "\n",
      "100%|██████████| 188/188 [00:26<00:00,  7.06it/s]\n"
     ]
    },
    {
     "name": "stdout",
     "output_type": "stream",
     "text": [
      "Avg Training Loss: 0.488919, Acc: 85.3225\n"
     ]
    },
    {
     "name": "stderr",
     "output_type": "stream",
     "text": [
      "100%|██████████| 63/63 [00:05<00:00, 10.82it/s]\n"
     ]
    },
    {
     "name": "stdout",
     "output_type": "stream",
     "text": [
      "Total Validation Loss: 1.317280, Acc: 78.0258\n"
     ]
    },
    {
     "name": "stderr",
     "output_type": "stream",
     "text": [
      "100%|██████████| 63/63 [00:04<00:00, 13.19it/s]\n"
     ]
    },
    {
     "name": "stdout",
     "output_type": "stream",
     "text": [
      "Total Testing Acc: 78.6706\n",
      "Epoch: 31\n"
     ]
    },
    {
     "name": "stderr",
     "output_type": "stream",
     "text": [
      "100%|██████████| 188/188 [00:32<00:00,  5.84it/s]\n"
     ]
    },
    {
     "name": "stdout",
     "output_type": "stream",
     "text": [
      "Avg Training Loss: 0.478173, Acc: 85.6217\n"
     ]
    },
    {
     "name": "stderr",
     "output_type": "stream",
     "text": [
      "100%|██████████| 63/63 [00:04<00:00, 15.04it/s]\n"
     ]
    },
    {
     "name": "stdout",
     "output_type": "stream",
     "text": [
      "Total Validation Loss: 1.303609, Acc: 77.0337\n"
     ]
    },
    {
     "name": "stderr",
     "output_type": "stream",
     "text": [
      "100%|██████████| 63/63 [00:03<00:00, 16.73it/s]\n"
     ]
    },
    {
     "name": "stdout",
     "output_type": "stream",
     "text": [
      "Total Testing Acc: 78.2738\n",
      "Epoch: 32\n"
     ]
    },
    {
     "name": "stderr",
     "output_type": "stream",
     "text": [
      "100%|██████████| 188/188 [00:34<00:00,  5.50it/s]\n"
     ]
    },
    {
     "name": "stdout",
     "output_type": "stream",
     "text": [
      "Avg Training Loss: 0.467318, Acc: 85.9375\n"
     ]
    },
    {
     "name": "stderr",
     "output_type": "stream",
     "text": [
      "100%|██████████| 63/63 [00:04<00:00, 14.04it/s]\n"
     ]
    },
    {
     "name": "stdout",
     "output_type": "stream",
     "text": [
      "Total Validation Loss: 1.219955, Acc: 78.5218\n"
     ]
    },
    {
     "name": "stderr",
     "output_type": "stream",
     "text": [
      "100%|██████████| 63/63 [00:05<00:00, 11.77it/s]\n"
     ]
    },
    {
     "name": "stdout",
     "output_type": "stream",
     "text": [
      "Total Testing Acc: 79.4147\n",
      "Epoch: 33\n"
     ]
    },
    {
     "name": "stderr",
     "output_type": "stream",
     "text": [
      "100%|██████████| 188/188 [00:32<00:00,  5.83it/s]\n"
     ]
    },
    {
     "name": "stdout",
     "output_type": "stream",
     "text": [
      "Avg Training Loss: 0.436804, Acc: 86.7520\n"
     ]
    },
    {
     "name": "stderr",
     "output_type": "stream",
     "text": [
      "100%|██████████| 63/63 [00:05<00:00, 12.27it/s]"
     ]
    },
    {
     "name": "stdout",
     "output_type": "stream",
     "text": [
      "Total Validation Loss: 1.172724, Acc: 78.8690\n"
     ]
    },
    {
     "name": "stderr",
     "output_type": "stream",
     "text": [
      "\n",
      "100%|██████████| 63/63 [00:05<00:00, 11.00it/s]\n"
     ]
    },
    {
     "name": "stdout",
     "output_type": "stream",
     "text": [
      "Total Testing Acc: 78.0258\n",
      "Epoch: 34\n"
     ]
    },
    {
     "name": "stderr",
     "output_type": "stream",
     "text": [
      "100%|██████████| 188/188 [00:27<00:00,  6.77it/s]\n"
     ]
    },
    {
     "name": "stdout",
     "output_type": "stream",
     "text": [
      "Avg Training Loss: 0.432203, Acc: 87.3172\n"
     ]
    },
    {
     "name": "stderr",
     "output_type": "stream",
     "text": [
      "100%|██████████| 63/63 [00:05<00:00, 10.91it/s]\n"
     ]
    },
    {
     "name": "stdout",
     "output_type": "stream",
     "text": [
      "Total Validation Loss: 1.249003, Acc: 80.4067\n"
     ]
    },
    {
     "name": "stderr",
     "output_type": "stream",
     "text": [
      "100%|██████████| 63/63 [00:05<00:00, 10.98it/s]\n"
     ]
    },
    {
     "name": "stdout",
     "output_type": "stream",
     "text": [
      "Total Testing Acc: 81.4484\n",
      "Epoch: 35\n"
     ]
    },
    {
     "name": "stderr",
     "output_type": "stream",
     "text": [
      "100%|██████████| 188/188 [00:28<00:00,  6.57it/s]\n"
     ]
    },
    {
     "name": "stdout",
     "output_type": "stream",
     "text": [
      "Avg Training Loss: 0.434886, Acc: 87.1842\n"
     ]
    },
    {
     "name": "stderr",
     "output_type": "stream",
     "text": [
      "100%|██████████| 63/63 [00:05<00:00, 10.83it/s]\n"
     ]
    },
    {
     "name": "stdout",
     "output_type": "stream",
     "text": [
      "Total Validation Loss: 1.204655, Acc: 81.3988\n"
     ]
    },
    {
     "name": "stderr",
     "output_type": "stream",
     "text": [
      "100%|██████████| 63/63 [00:05<00:00, 11.67it/s]\n"
     ]
    },
    {
     "name": "stdout",
     "output_type": "stream",
     "text": [
      "Total Testing Acc: 79.9107\n",
      "Epoch: 36\n"
     ]
    },
    {
     "name": "stderr",
     "output_type": "stream",
     "text": [
      "100%|██████████| 188/188 [00:20<00:00,  9.20it/s]\n"
     ]
    },
    {
     "name": "stdout",
     "output_type": "stream",
     "text": [
      "Avg Training Loss: 0.405600, Acc: 88.7965\n"
     ]
    },
    {
     "name": "stderr",
     "output_type": "stream",
     "text": [
      "100%|██████████| 63/63 [00:05<00:00, 11.81it/s]"
     ]
    },
    {
     "name": "stdout",
     "output_type": "stream",
     "text": [
      "Total Validation Loss: 1.260024, Acc: 78.1746\n"
     ]
    },
    {
     "name": "stderr",
     "output_type": "stream",
     "text": [
      "\n",
      "100%|██████████| 63/63 [00:05<00:00, 11.00it/s]\n"
     ]
    },
    {
     "name": "stdout",
     "output_type": "stream",
     "text": [
      "Total Testing Acc: 79.6131\n",
      "Epoch: 37\n"
     ]
    },
    {
     "name": "stderr",
     "output_type": "stream",
     "text": [
      "100%|██████████| 188/188 [00:40<00:00,  4.67it/s]"
     ]
    },
    {
     "name": "stdout",
     "output_type": "stream",
     "text": [
      "Avg Training Loss: 0.399272, Acc: 88.1483\n"
     ]
    },
    {
     "name": "stderr",
     "output_type": "stream",
     "text": [
      "\n",
      "100%|██████████| 63/63 [00:03<00:00, 15.83it/s]\n"
     ]
    },
    {
     "name": "stdout",
     "output_type": "stream",
     "text": [
      "Total Validation Loss: 1.132639, Acc: 80.2083\n"
     ]
    },
    {
     "name": "stderr",
     "output_type": "stream",
     "text": [
      "100%|██████████| 63/63 [00:04<00:00, 15.06it/s]\n"
     ]
    },
    {
     "name": "stdout",
     "output_type": "stream",
     "text": [
      "Total Testing Acc: 80.2579\n",
      "Epoch: 38\n"
     ]
    },
    {
     "name": "stderr",
     "output_type": "stream",
     "text": [
      "100%|██████████| 188/188 [00:17<00:00, 10.50it/s]\n"
     ]
    },
    {
     "name": "stdout",
     "output_type": "stream",
     "text": [
      "Avg Training Loss: 0.383590, Acc: 89.3949\n"
     ]
    },
    {
     "name": "stderr",
     "output_type": "stream",
     "text": [
      "100%|██████████| 63/63 [00:03<00:00, 17.90it/s]\n"
     ]
    },
    {
     "name": "stdout",
     "output_type": "stream",
     "text": [
      "Total Validation Loss: 1.166466, Acc: 80.1091\n"
     ]
    },
    {
     "name": "stderr",
     "output_type": "stream",
     "text": [
      "100%|██████████| 63/63 [00:04<00:00, 13.56it/s]"
     ]
    },
    {
     "name": "stdout",
     "output_type": "stream",
     "text": [
      "Total Testing Acc: 82.5893\n",
      "Epoch: 39\n"
     ]
    },
    {
     "name": "stderr",
     "output_type": "stream",
     "text": [
      "\n",
      "100%|██████████| 188/188 [00:33<00:00,  5.67it/s]\n"
     ]
    },
    {
     "name": "stdout",
     "output_type": "stream",
     "text": [
      "Avg Training Loss: 0.372103, Acc: 89.8604\n"
     ]
    },
    {
     "name": "stderr",
     "output_type": "stream",
     "text": [
      "100%|██████████| 63/63 [00:05<00:00, 11.40it/s]\n"
     ]
    },
    {
     "name": "stdout",
     "output_type": "stream",
     "text": [
      "Total Validation Loss: 1.074304, Acc: 81.5476\n"
     ]
    },
    {
     "name": "stderr",
     "output_type": "stream",
     "text": [
      "100%|██████████| 63/63 [00:05<00:00, 10.84it/s]\n"
     ]
    },
    {
     "name": "stdout",
     "output_type": "stream",
     "text": [
      "Total Testing Acc: 82.4405\n",
      "Epoch: 40\n"
     ]
    },
    {
     "name": "stderr",
     "output_type": "stream",
     "text": [
      "100%|██████████| 188/188 [00:27<00:00,  6.81it/s]\n"
     ]
    },
    {
     "name": "stdout",
     "output_type": "stream",
     "text": [
      "Avg Training Loss: 0.358198, Acc: 90.3757\n"
     ]
    },
    {
     "name": "stderr",
     "output_type": "stream",
     "text": [
      "100%|██████████| 63/63 [00:05<00:00, 10.82it/s]\n"
     ]
    },
    {
     "name": "stdout",
     "output_type": "stream",
     "text": [
      "Total Validation Loss: 1.046804, Acc: 81.2500\n"
     ]
    },
    {
     "name": "stderr",
     "output_type": "stream",
     "text": [
      "100%|██████████| 63/63 [00:05<00:00, 10.61it/s]\n"
     ]
    },
    {
     "name": "stdout",
     "output_type": "stream",
     "text": [
      "Total Testing Acc: 83.0853\n",
      "Epoch: 41\n"
     ]
    },
    {
     "name": "stderr",
     "output_type": "stream",
     "text": [
      "100%|██████████| 188/188 [00:26<00:00,  7.09it/s]\n"
     ]
    },
    {
     "name": "stdout",
     "output_type": "stream",
     "text": [
      "Avg Training Loss: 0.355685, Acc: 90.6749\n"
     ]
    },
    {
     "name": "stderr",
     "output_type": "stream",
     "text": [
      "100%|██████████| 63/63 [00:05<00:00, 10.94it/s]\n"
     ]
    },
    {
     "name": "stdout",
     "output_type": "stream",
     "text": [
      "Total Validation Loss: 1.084804, Acc: 81.2004\n"
     ]
    },
    {
     "name": "stderr",
     "output_type": "stream",
     "text": [
      "100%|██████████| 63/63 [00:05<00:00, 11.02it/s]\n"
     ]
    },
    {
     "name": "stdout",
     "output_type": "stream",
     "text": [
      "Total Testing Acc: 81.5972\n",
      "Epoch: 42\n"
     ]
    },
    {
     "name": "stderr",
     "output_type": "stream",
     "text": [
      "100%|██████████| 188/188 [00:31<00:00,  5.91it/s]\n"
     ]
    },
    {
     "name": "stdout",
     "output_type": "stream",
     "text": [
      "Avg Training Loss: 0.356361, Acc: 90.6084\n"
     ]
    },
    {
     "name": "stderr",
     "output_type": "stream",
     "text": [
      "100%|██████████| 63/63 [00:05<00:00, 10.80it/s]\n"
     ]
    },
    {
     "name": "stdout",
     "output_type": "stream",
     "text": [
      "Total Validation Loss: 1.243903, Acc: 79.5139\n"
     ]
    },
    {
     "name": "stderr",
     "output_type": "stream",
     "text": [
      "100%|██████████| 63/63 [00:04<00:00, 13.16it/s]\n"
     ]
    },
    {
     "name": "stdout",
     "output_type": "stream",
     "text": [
      "Total Testing Acc: 78.9683\n",
      "Epoch: 43\n"
     ]
    },
    {
     "name": "stderr",
     "output_type": "stream",
     "text": [
      "100%|██████████| 188/188 [00:29<00:00,  6.28it/s]\n"
     ]
    },
    {
     "name": "stdout",
     "output_type": "stream",
     "text": [
      "Avg Training Loss: 0.320081, Acc: 91.5559\n"
     ]
    },
    {
     "name": "stderr",
     "output_type": "stream",
     "text": [
      "100%|██████████| 63/63 [00:04<00:00, 15.56it/s]\n"
     ]
    },
    {
     "name": "stdout",
     "output_type": "stream",
     "text": [
      "Total Validation Loss: 1.110611, Acc: 82.0933\n"
     ]
    },
    {
     "name": "stderr",
     "output_type": "stream",
     "text": [
      "100%|██████████| 63/63 [00:03<00:00, 15.76it/s]\n"
     ]
    },
    {
     "name": "stdout",
     "output_type": "stream",
     "text": [
      "Total Testing Acc: 82.5397\n",
      "Epoch: 44\n"
     ]
    },
    {
     "name": "stderr",
     "output_type": "stream",
     "text": [
      "100%|██████████| 188/188 [00:35<00:00,  5.30it/s]\n"
     ]
    },
    {
     "name": "stdout",
     "output_type": "stream",
     "text": [
      "Avg Training Loss: 0.325038, Acc: 91.7719\n"
     ]
    },
    {
     "name": "stderr",
     "output_type": "stream",
     "text": [
      "100%|██████████| 63/63 [00:04<00:00, 13.99it/s]"
     ]
    },
    {
     "name": "stdout",
     "output_type": "stream",
     "text": [
      "Total Validation Loss: 1.140710, Acc: 81.5476\n"
     ]
    },
    {
     "name": "stderr",
     "output_type": "stream",
     "text": [
      "\n",
      "100%|██████████| 63/63 [00:05<00:00, 10.84it/s]\n"
     ]
    },
    {
     "name": "stdout",
     "output_type": "stream",
     "text": [
      "Total Testing Acc: 80.7540\n",
      "Epoch: 45\n"
     ]
    },
    {
     "name": "stderr",
     "output_type": "stream",
     "text": [
      "100%|██████████| 188/188 [00:29<00:00,  6.32it/s]\n"
     ]
    },
    {
     "name": "stdout",
     "output_type": "stream",
     "text": [
      "Avg Training Loss: 0.306456, Acc: 92.5532\n"
     ]
    },
    {
     "name": "stderr",
     "output_type": "stream",
     "text": [
      "100%|██████████| 63/63 [00:05<00:00, 11.10it/s]\n"
     ]
    },
    {
     "name": "stdout",
     "output_type": "stream",
     "text": [
      "Total Validation Loss: 1.045475, Acc: 81.8948\n"
     ]
    },
    {
     "name": "stderr",
     "output_type": "stream",
     "text": [
      "100%|██████████| 63/63 [00:05<00:00, 10.84it/s]\n"
     ]
    },
    {
     "name": "stdout",
     "output_type": "stream",
     "text": [
      "Total Testing Acc: 82.5893\n",
      "Epoch: 46\n"
     ]
    },
    {
     "name": "stderr",
     "output_type": "stream",
     "text": [
      "100%|██████████| 188/188 [00:27<00:00,  6.90it/s]\n"
     ]
    },
    {
     "name": "stdout",
     "output_type": "stream",
     "text": [
      "Avg Training Loss: 0.305859, Acc: 92.9688\n"
     ]
    },
    {
     "name": "stderr",
     "output_type": "stream",
     "text": [
      "100%|██████████| 63/63 [00:05<00:00, 10.82it/s]\n"
     ]
    },
    {
     "name": "stdout",
     "output_type": "stream",
     "text": [
      "Total Validation Loss: 1.250929, Acc: 81.1012\n"
     ]
    },
    {
     "name": "stderr",
     "output_type": "stream",
     "text": [
      "100%|██████████| 63/63 [00:05<00:00, 10.80it/s]\n"
     ]
    },
    {
     "name": "stdout",
     "output_type": "stream",
     "text": [
      "Total Testing Acc: 81.0516\n",
      "Epoch: 47\n"
     ]
    },
    {
     "name": "stderr",
     "output_type": "stream",
     "text": [
      "100%|██████████| 188/188 [00:26<00:00,  6.97it/s]\n"
     ]
    },
    {
     "name": "stdout",
     "output_type": "stream",
     "text": [
      "Avg Training Loss: 0.291455, Acc: 93.2181\n"
     ]
    },
    {
     "name": "stderr",
     "output_type": "stream",
     "text": [
      "100%|██████████| 63/63 [00:05<00:00, 10.74it/s]\n"
     ]
    },
    {
     "name": "stdout",
     "output_type": "stream",
     "text": [
      "Total Validation Loss: 1.098793, Acc: 80.5060\n"
     ]
    },
    {
     "name": "stderr",
     "output_type": "stream",
     "text": [
      "100%|██████████| 63/63 [00:05<00:00, 10.90it/s]"
     ]
    },
    {
     "name": "stdout",
     "output_type": "stream",
     "text": [
      "Total Testing Acc: 81.1508\n",
      "Epoch: 48\n"
     ]
    },
    {
     "name": "stderr",
     "output_type": "stream",
     "text": [
      "\n",
      "100%|██████████| 188/188 [00:26<00:00,  7.01it/s]\n"
     ]
    },
    {
     "name": "stdout",
     "output_type": "stream",
     "text": [
      "Avg Training Loss: 0.277684, Acc: 93.9162\n"
     ]
    },
    {
     "name": "stderr",
     "output_type": "stream",
     "text": [
      "100%|██████████| 63/63 [00:05<00:00, 10.94it/s]\n"
     ]
    },
    {
     "name": "stdout",
     "output_type": "stream",
     "text": [
      "Total Validation Loss: 1.148735, Acc: 80.2083\n"
     ]
    },
    {
     "name": "stderr",
     "output_type": "stream",
     "text": [
      "100%|██████████| 63/63 [00:05<00:00, 11.35it/s]\n"
     ]
    },
    {
     "name": "stdout",
     "output_type": "stream",
     "text": [
      "Total Testing Acc: 81.3492\n",
      "Epoch: 49\n"
     ]
    },
    {
     "name": "stderr",
     "output_type": "stream",
     "text": [
      "100%|██████████| 188/188 [00:29<00:00,  6.45it/s]\n"
     ]
    },
    {
     "name": "stdout",
     "output_type": "stream",
     "text": [
      "Avg Training Loss: 0.275591, Acc: 94.2320\n"
     ]
    },
    {
     "name": "stderr",
     "output_type": "stream",
     "text": [
      "100%|██████████| 63/63 [00:05<00:00, 10.74it/s]\n"
     ]
    },
    {
     "name": "stdout",
     "output_type": "stream",
     "text": [
      "Total Validation Loss: 1.289760, Acc: 79.0179\n"
     ]
    },
    {
     "name": "stderr",
     "output_type": "stream",
     "text": [
      "100%|██████████| 63/63 [00:04<00:00, 13.37it/s]\n"
     ]
    },
    {
     "name": "stdout",
     "output_type": "stream",
     "text": [
      "Total Testing Acc: 80.2083\n",
      "Epoch: 50\n"
     ]
    },
    {
     "name": "stderr",
     "output_type": "stream",
     "text": [
      "100%|██████████| 188/188 [00:34<00:00,  5.46it/s]\n"
     ]
    },
    {
     "name": "stdout",
     "output_type": "stream",
     "text": [
      "Avg Training Loss: 0.267063, Acc: 94.2819\n"
     ]
    },
    {
     "name": "stderr",
     "output_type": "stream",
     "text": [
      "100%|██████████| 63/63 [00:05<00:00, 12.41it/s]\n"
     ]
    },
    {
     "name": "stdout",
     "output_type": "stream",
     "text": [
      "Total Validation Loss: 1.092688, Acc: 81.5972\n"
     ]
    },
    {
     "name": "stderr",
     "output_type": "stream",
     "text": [
      "100%|██████████| 63/63 [00:06<00:00, 10.42it/s]\n"
     ]
    },
    {
     "name": "stdout",
     "output_type": "stream",
     "text": [
      "Total Testing Acc: 82.9365\n",
      "Epoch: 51\n"
     ]
    },
    {
     "name": "stderr",
     "output_type": "stream",
     "text": [
      "100%|██████████| 188/188 [00:32<00:00,  5.77it/s]\n"
     ]
    },
    {
     "name": "stdout",
     "output_type": "stream",
     "text": [
      "Avg Training Loss: 0.258248, Acc: 94.5146\n"
     ]
    },
    {
     "name": "stderr",
     "output_type": "stream",
     "text": [
      "100%|██████████| 63/63 [00:05<00:00, 11.46it/s]\n"
     ]
    },
    {
     "name": "stdout",
     "output_type": "stream",
     "text": [
      "Total Validation Loss: 1.122427, Acc: 83.1349\n"
     ]
    },
    {
     "name": "stderr",
     "output_type": "stream",
     "text": [
      "100%|██████████| 63/63 [00:05<00:00, 10.72it/s]\n"
     ]
    },
    {
     "name": "stdout",
     "output_type": "stream",
     "text": [
      "Total Testing Acc: 83.2837\n",
      "Epoch: 52\n"
     ]
    },
    {
     "name": "stderr",
     "output_type": "stream",
     "text": [
      "100%|██████████| 188/188 [00:24<00:00,  7.54it/s]\n"
     ]
    },
    {
     "name": "stdout",
     "output_type": "stream",
     "text": [
      "Avg Training Loss: 0.263123, Acc: 94.2819\n"
     ]
    },
    {
     "name": "stderr",
     "output_type": "stream",
     "text": [
      "100%|██████████| 63/63 [00:05<00:00, 10.84it/s]\n"
     ]
    },
    {
     "name": "stdout",
     "output_type": "stream",
     "text": [
      "Total Validation Loss: 1.142602, Acc: 82.5397\n"
     ]
    },
    {
     "name": "stderr",
     "output_type": "stream",
     "text": [
      "100%|██████████| 63/63 [00:05<00:00, 10.91it/s]\n"
     ]
    },
    {
     "name": "stdout",
     "output_type": "stream",
     "text": [
      "Total Testing Acc: 82.9365\n",
      "Epoch: 53\n"
     ]
    },
    {
     "name": "stderr",
     "output_type": "stream",
     "text": [
      "100%|██████████| 188/188 [00:42<00:00,  4.38it/s]\n"
     ]
    },
    {
     "name": "stdout",
     "output_type": "stream",
     "text": [
      "Avg Training Loss: 0.256230, Acc: 94.5811\n"
     ]
    },
    {
     "name": "stderr",
     "output_type": "stream",
     "text": [
      "100%|██████████| 63/63 [00:05<00:00, 12.14it/s]\n"
     ]
    },
    {
     "name": "stdout",
     "output_type": "stream",
     "text": [
      "Total Validation Loss: 1.097441, Acc: 81.9444\n"
     ]
    },
    {
     "name": "stderr",
     "output_type": "stream",
     "text": [
      "100%|██████████| 63/63 [00:04<00:00, 13.20it/s]\n"
     ]
    },
    {
     "name": "stdout",
     "output_type": "stream",
     "text": [
      "Total Testing Acc: 82.1925\n",
      "Epoch: 54\n"
     ]
    },
    {
     "name": "stderr",
     "output_type": "stream",
     "text": [
      "100%|██████████| 188/188 [00:17<00:00, 10.81it/s]\n"
     ]
    },
    {
     "name": "stdout",
     "output_type": "stream",
     "text": [
      "Avg Training Loss: 0.231674, Acc: 95.5120\n"
     ]
    },
    {
     "name": "stderr",
     "output_type": "stream",
     "text": [
      "100%|██████████| 63/63 [00:05<00:00, 11.51it/s]"
     ]
    },
    {
     "name": "stdout",
     "output_type": "stream",
     "text": [
      "Total Validation Loss: 1.153150, Acc: 83.2837\n"
     ]
    },
    {
     "name": "stderr",
     "output_type": "stream",
     "text": [
      "\n",
      "100%|██████████| 63/63 [00:05<00:00, 11.08it/s]\n"
     ]
    },
    {
     "name": "stdout",
     "output_type": "stream",
     "text": [
      "Total Testing Acc: 83.4821\n",
      "Epoch: 55\n"
     ]
    },
    {
     "name": "stderr",
     "output_type": "stream",
     "text": [
      "100%|██████████| 188/188 [00:33<00:00,  5.53it/s]\n"
     ]
    },
    {
     "name": "stdout",
     "output_type": "stream",
     "text": [
      "Avg Training Loss: 0.231767, Acc: 96.1270\n"
     ]
    },
    {
     "name": "stderr",
     "output_type": "stream",
     "text": [
      "100%|██████████| 63/63 [00:03<00:00, 16.24it/s]"
     ]
    },
    {
     "name": "stdout",
     "output_type": "stream",
     "text": [
      "Total Validation Loss: 1.018666, Acc: 83.4325\n"
     ]
    },
    {
     "name": "stderr",
     "output_type": "stream",
     "text": [
      "\n",
      "100%|██████████| 63/63 [00:05<00:00, 10.99it/s]\n"
     ]
    },
    {
     "name": "stdout",
     "output_type": "stream",
     "text": [
      "Total Testing Acc: 83.0853\n",
      "Epoch: 56\n"
     ]
    },
    {
     "name": "stderr",
     "output_type": "stream",
     "text": [
      "100%|██████████| 188/188 [00:26<00:00,  7.13it/s]\n"
     ]
    },
    {
     "name": "stdout",
     "output_type": "stream",
     "text": [
      "Avg Training Loss: 0.232923, Acc: 95.1961\n"
     ]
    },
    {
     "name": "stderr",
     "output_type": "stream",
     "text": [
      "100%|██████████| 63/63 [00:05<00:00, 11.03it/s]\n"
     ]
    },
    {
     "name": "stdout",
     "output_type": "stream",
     "text": [
      "Total Validation Loss: 1.091133, Acc: 83.1349\n"
     ]
    },
    {
     "name": "stderr",
     "output_type": "stream",
     "text": [
      "100%|██████████| 63/63 [00:05<00:00, 10.75it/s]\n"
     ]
    },
    {
     "name": "stdout",
     "output_type": "stream",
     "text": [
      "Total Testing Acc: 83.2341\n",
      "Epoch: 57\n"
     ]
    },
    {
     "name": "stderr",
     "output_type": "stream",
     "text": [
      "100%|██████████| 188/188 [00:27<00:00,  6.92it/s]\n"
     ]
    },
    {
     "name": "stdout",
     "output_type": "stream",
     "text": [
      "Avg Training Loss: 0.231015, Acc: 95.7114\n"
     ]
    },
    {
     "name": "stderr",
     "output_type": "stream",
     "text": [
      "100%|██████████| 63/63 [00:05<00:00, 10.85it/s]\n"
     ]
    },
    {
     "name": "stdout",
     "output_type": "stream",
     "text": [
      "Total Validation Loss: 1.066786, Acc: 82.2421\n"
     ]
    },
    {
     "name": "stderr",
     "output_type": "stream",
     "text": [
      "100%|██████████| 63/63 [00:05<00:00, 10.79it/s]\n"
     ]
    },
    {
     "name": "stdout",
     "output_type": "stream",
     "text": [
      "Total Testing Acc: 82.1925\n",
      "Epoch: 58\n"
     ]
    },
    {
     "name": "stderr",
     "output_type": "stream",
     "text": [
      "100%|██████████| 188/188 [00:27<00:00,  6.94it/s]\n"
     ]
    },
    {
     "name": "stdout",
     "output_type": "stream",
     "text": [
      "Avg Training Loss: 0.212261, Acc: 96.1104\n"
     ]
    },
    {
     "name": "stderr",
     "output_type": "stream",
     "text": [
      "100%|██████████| 63/63 [00:05<00:00, 10.85it/s]"
     ]
    },
    {
     "name": "stdout",
     "output_type": "stream",
     "text": [
      "Total Validation Loss: 1.039748, Acc: 83.4325\n"
     ]
    },
    {
     "name": "stderr",
     "output_type": "stream",
     "text": [
      "\n",
      "100%|██████████| 63/63 [00:05<00:00, 10.67it/s]"
     ]
    },
    {
     "name": "stdout",
     "output_type": "stream",
     "text": [
      "Total Testing Acc: 83.2837\n",
      "Epoch: 59\n"
     ]
    },
    {
     "name": "stderr",
     "output_type": "stream",
     "text": [
      "\n",
      "100%|██████████| 188/188 [00:27<00:00,  6.84it/s]\n"
     ]
    },
    {
     "name": "stdout",
     "output_type": "stream",
     "text": [
      "Avg Training Loss: 0.201803, Acc: 96.4761\n"
     ]
    },
    {
     "name": "stderr",
     "output_type": "stream",
     "text": [
      "100%|██████████| 63/63 [00:05<00:00, 10.89it/s]\n"
     ]
    },
    {
     "name": "stdout",
     "output_type": "stream",
     "text": [
      "Total Validation Loss: 1.042683, Acc: 83.3829\n"
     ]
    },
    {
     "name": "stderr",
     "output_type": "stream",
     "text": [
      "100%|██████████| 63/63 [00:04<00:00, 13.16it/s]"
     ]
    },
    {
     "name": "stdout",
     "output_type": "stream",
     "text": [
      "Total Testing Acc: 82.8373\n",
      "Epoch: 60\n"
     ]
    },
    {
     "name": "stderr",
     "output_type": "stream",
     "text": [
      "\n",
      "100%|██████████| 188/188 [00:32<00:00,  5.72it/s]\n"
     ]
    },
    {
     "name": "stdout",
     "output_type": "stream",
     "text": [
      "Avg Training Loss: 0.192886, Acc: 97.2074\n"
     ]
    },
    {
     "name": "stderr",
     "output_type": "stream",
     "text": [
      "100%|██████████| 63/63 [00:04<00:00, 15.03it/s]"
     ]
    },
    {
     "name": "stdout",
     "output_type": "stream",
     "text": [
      "Total Validation Loss: 1.184212, Acc: 80.6548\n"
     ]
    },
    {
     "name": "stderr",
     "output_type": "stream",
     "text": [
      "\n",
      "100%|██████████| 63/63 [00:04<00:00, 14.69it/s]\n"
     ]
    },
    {
     "name": "stdout",
     "output_type": "stream",
     "text": [
      "Total Testing Acc: 81.9444\n",
      "Epoch: 61\n"
     ]
    },
    {
     "name": "stderr",
     "output_type": "stream",
     "text": [
      "100%|██████████| 188/188 [00:35<00:00,  5.27it/s]\n"
     ]
    },
    {
     "name": "stdout",
     "output_type": "stream",
     "text": [
      "Avg Training Loss: 0.194609, Acc: 96.9415\n"
     ]
    },
    {
     "name": "stderr",
     "output_type": "stream",
     "text": [
      "100%|██████████| 63/63 [00:04<00:00, 14.02it/s]"
     ]
    },
    {
     "name": "stdout",
     "output_type": "stream",
     "text": [
      "Total Validation Loss: 1.115202, Acc: 83.1845\n"
     ]
    },
    {
     "name": "stderr",
     "output_type": "stream",
     "text": [
      "\n",
      "100%|██████████| 63/63 [00:05<00:00, 10.90it/s]\n"
     ]
    },
    {
     "name": "stdout",
     "output_type": "stream",
     "text": [
      "Total Testing Acc: 83.5813\n",
      "Epoch: 62\n"
     ]
    },
    {
     "name": "stderr",
     "output_type": "stream",
     "text": [
      "100%|██████████| 188/188 [00:26<00:00,  6.99it/s]\n"
     ]
    },
    {
     "name": "stdout",
     "output_type": "stream",
     "text": [
      "Avg Training Loss: 0.189107, Acc: 97.0080\n"
     ]
    },
    {
     "name": "stderr",
     "output_type": "stream",
     "text": [
      "100%|██████████| 63/63 [00:04<00:00, 14.18it/s]\n"
     ]
    },
    {
     "name": "stdout",
     "output_type": "stream",
     "text": [
      "Total Validation Loss: 0.988516, Acc: 83.6806\n"
     ]
    },
    {
     "name": "stderr",
     "output_type": "stream",
     "text": [
      "100%|██████████| 63/63 [00:04<00:00, 15.24it/s]\n"
     ]
    },
    {
     "name": "stdout",
     "output_type": "stream",
     "text": [
      "Total Testing Acc: 84.3750\n",
      "Epoch: 63\n"
     ]
    },
    {
     "name": "stderr",
     "output_type": "stream",
     "text": [
      "100%|██████████| 188/188 [00:35<00:00,  5.23it/s]\n"
     ]
    },
    {
     "name": "stdout",
     "output_type": "stream",
     "text": [
      "Avg Training Loss: 0.178750, Acc: 97.4235\n"
     ]
    },
    {
     "name": "stderr",
     "output_type": "stream",
     "text": [
      "100%|██████████| 63/63 [00:04<00:00, 13.83it/s]\n"
     ]
    },
    {
     "name": "stdout",
     "output_type": "stream",
     "text": [
      "Total Validation Loss: 1.181248, Acc: 81.6468\n"
     ]
    },
    {
     "name": "stderr",
     "output_type": "stream",
     "text": [
      "100%|██████████| 63/63 [00:06<00:00,  9.03it/s]\n"
     ]
    },
    {
     "name": "stdout",
     "output_type": "stream",
     "text": [
      "Total Testing Acc: 82.1429\n",
      "Epoch: 64\n"
     ]
    },
    {
     "name": "stderr",
     "output_type": "stream",
     "text": [
      "100%|██████████| 188/188 [00:41<00:00,  4.49it/s]"
     ]
    },
    {
     "name": "stdout",
     "output_type": "stream",
     "text": [
      "Avg Training Loss: 0.187148, Acc: 96.8750\n"
     ]
    },
    {
     "name": "stderr",
     "output_type": "stream",
     "text": [
      "\n",
      "100%|██████████| 63/63 [00:07<00:00,  8.78it/s]\n"
     ]
    },
    {
     "name": "stdout",
     "output_type": "stream",
     "text": [
      "Total Validation Loss: 1.046992, Acc: 83.2341\n"
     ]
    },
    {
     "name": "stderr",
     "output_type": "stream",
     "text": [
      "100%|██████████| 63/63 [00:04<00:00, 12.82it/s]"
     ]
    },
    {
     "name": "stdout",
     "output_type": "stream",
     "text": [
      "Total Testing Acc: 83.6806\n",
      "Epoch: 65\n"
     ]
    },
    {
     "name": "stderr",
     "output_type": "stream",
     "text": [
      "\n",
      "100%|██████████| 188/188 [00:42<00:00,  4.45it/s]\n"
     ]
    },
    {
     "name": "stdout",
     "output_type": "stream",
     "text": [
      "Avg Training Loss: 0.192096, Acc: 97.2906\n"
     ]
    },
    {
     "name": "stderr",
     "output_type": "stream",
     "text": [
      "100%|██████████| 63/63 [00:04<00:00, 13.45it/s]"
     ]
    },
    {
     "name": "stdout",
     "output_type": "stream",
     "text": [
      "Total Validation Loss: 1.180126, Acc: 82.9365\n"
     ]
    },
    {
     "name": "stderr",
     "output_type": "stream",
     "text": [
      "\n",
      "100%|██████████| 63/63 [00:04<00:00, 13.01it/s]\n"
     ]
    },
    {
     "name": "stdout",
     "output_type": "stream",
     "text": [
      "Total Testing Acc: 84.1270\n",
      "Epoch: 66\n"
     ]
    },
    {
     "name": "stderr",
     "output_type": "stream",
     "text": [
      "100%|██████████| 188/188 [00:44<00:00,  4.22it/s]"
     ]
    },
    {
     "name": "stdout",
     "output_type": "stream",
     "text": [
      "Avg Training Loss: 0.172302, Acc: 97.4900\n"
     ]
    },
    {
     "name": "stderr",
     "output_type": "stream",
     "text": [
      "\n",
      "100%|██████████| 63/63 [00:05<00:00, 12.18it/s]\n"
     ]
    },
    {
     "name": "stdout",
     "output_type": "stream",
     "text": [
      "Total Validation Loss: 1.161805, Acc: 82.3413\n"
     ]
    },
    {
     "name": "stderr",
     "output_type": "stream",
     "text": [
      "100%|██████████| 63/63 [00:04<00:00, 13.12it/s]\n"
     ]
    },
    {
     "name": "stdout",
     "output_type": "stream",
     "text": [
      "Total Testing Acc: 82.4405\n",
      "Epoch: 67\n"
     ]
    },
    {
     "name": "stderr",
     "output_type": "stream",
     "text": [
      "100%|██████████| 188/188 [00:38<00:00,  4.90it/s]"
     ]
    },
    {
     "name": "stdout",
     "output_type": "stream",
     "text": [
      "Avg Training Loss: 0.172717, Acc: 97.5399\n"
     ]
    },
    {
     "name": "stderr",
     "output_type": "stream",
     "text": [
      "\n",
      "100%|██████████| 63/63 [00:07<00:00,  8.28it/s]\n"
     ]
    },
    {
     "name": "stdout",
     "output_type": "stream",
     "text": [
      "Total Validation Loss: 1.153281, Acc: 82.8373\n"
     ]
    },
    {
     "name": "stderr",
     "output_type": "stream",
     "text": [
      "100%|██████████| 63/63 [00:06<00:00,  9.50it/s]\n"
     ]
    },
    {
     "name": "stdout",
     "output_type": "stream",
     "text": [
      "Total Testing Acc: 83.9782\n",
      "Epoch: 68\n"
     ]
    },
    {
     "name": "stderr",
     "output_type": "stream",
     "text": [
      "100%|██████████| 188/188 [00:17<00:00, 10.53it/s]\n"
     ]
    },
    {
     "name": "stdout",
     "output_type": "stream",
     "text": [
      "Avg Training Loss: 0.165704, Acc: 98.0219\n"
     ]
    },
    {
     "name": "stderr",
     "output_type": "stream",
     "text": [
      "100%|██████████| 63/63 [00:03<00:00, 18.23it/s]\n"
     ]
    },
    {
     "name": "stdout",
     "output_type": "stream",
     "text": [
      "Total Validation Loss: 1.164974, Acc: 82.7877\n"
     ]
    },
    {
     "name": "stderr",
     "output_type": "stream",
     "text": [
      "100%|██████████| 63/63 [00:03<00:00, 17.47it/s]\n"
     ]
    },
    {
     "name": "stdout",
     "output_type": "stream",
     "text": [
      "Total Testing Acc: 81.0516\n",
      "Epoch: 69\n"
     ]
    },
    {
     "name": "stderr",
     "output_type": "stream",
     "text": [
      "100%|██████████| 188/188 [00:33<00:00,  5.66it/s]\n"
     ]
    },
    {
     "name": "stdout",
     "output_type": "stream",
     "text": [
      "Avg Training Loss: 0.157278, Acc: 98.0386\n"
     ]
    },
    {
     "name": "stderr",
     "output_type": "stream",
     "text": [
      "100%|██████████| 63/63 [00:03<00:00, 17.56it/s]\n"
     ]
    },
    {
     "name": "stdout",
     "output_type": "stream",
     "text": [
      "Total Validation Loss: 1.148932, Acc: 83.0853\n"
     ]
    },
    {
     "name": "stderr",
     "output_type": "stream",
     "text": [
      "100%|██████████| 63/63 [00:03<00:00, 17.67it/s]\n"
     ]
    },
    {
     "name": "stdout",
     "output_type": "stream",
     "text": [
      "Total Testing Acc: 82.5893\n",
      "Epoch: 70\n"
     ]
    },
    {
     "name": "stderr",
     "output_type": "stream",
     "text": [
      "100%|██████████| 188/188 [00:42<00:00,  4.37it/s]\n"
     ]
    },
    {
     "name": "stdout",
     "output_type": "stream",
     "text": [
      "Avg Training Loss: 0.164522, Acc: 97.6064\n"
     ]
    },
    {
     "name": "stderr",
     "output_type": "stream",
     "text": [
      "100%|██████████| 63/63 [00:05<00:00, 11.84it/s]\n"
     ]
    },
    {
     "name": "stdout",
     "output_type": "stream",
     "text": [
      "Total Validation Loss: 1.050035, Acc: 83.8294\n"
     ]
    },
    {
     "name": "stderr",
     "output_type": "stream",
     "text": [
      "100%|██████████| 63/63 [00:05<00:00, 12.03it/s]\n"
     ]
    },
    {
     "name": "stdout",
     "output_type": "stream",
     "text": [
      "Total Testing Acc: 83.2837\n",
      "Epoch: 71\n"
     ]
    },
    {
     "name": "stderr",
     "output_type": "stream",
     "text": [
      "100%|██████████| 188/188 [00:42<00:00,  4.39it/s]"
     ]
    },
    {
     "name": "stdout",
     "output_type": "stream",
     "text": [
      "Avg Training Loss: 0.153481, Acc: 98.4375\n"
     ]
    },
    {
     "name": "stderr",
     "output_type": "stream",
     "text": [
      "\n",
      "100%|██████████| 63/63 [00:05<00:00, 11.11it/s]\n"
     ]
    },
    {
     "name": "stdout",
     "output_type": "stream",
     "text": [
      "Total Validation Loss: 1.122481, Acc: 82.7877\n"
     ]
    },
    {
     "name": "stderr",
     "output_type": "stream",
     "text": [
      "100%|██████████| 63/63 [00:05<00:00, 12.32it/s]\n"
     ]
    },
    {
     "name": "stdout",
     "output_type": "stream",
     "text": [
      "Total Testing Acc: 82.2421\n",
      "Epoch: 72\n"
     ]
    },
    {
     "name": "stderr",
     "output_type": "stream",
     "text": [
      "100%|██████████| 188/188 [00:36<00:00,  5.18it/s]"
     ]
    },
    {
     "name": "stdout",
     "output_type": "stream",
     "text": [
      "Avg Training Loss: 0.149933, Acc: 98.5206\n"
     ]
    },
    {
     "name": "stderr",
     "output_type": "stream",
     "text": [
      "\n",
      "100%|██████████| 63/63 [00:04<00:00, 12.74it/s]\n"
     ]
    },
    {
     "name": "stdout",
     "output_type": "stream",
     "text": [
      "Total Validation Loss: 1.120055, Acc: 83.2341\n"
     ]
    },
    {
     "name": "stderr",
     "output_type": "stream",
     "text": [
      "100%|██████████| 63/63 [00:05<00:00, 12.36it/s]\n"
     ]
    },
    {
     "name": "stdout",
     "output_type": "stream",
     "text": [
      "Total Testing Acc: 82.7877\n",
      "Epoch: 73\n"
     ]
    },
    {
     "name": "stderr",
     "output_type": "stream",
     "text": [
      "100%|██████████| 188/188 [00:41<00:00,  4.58it/s]\n"
     ]
    },
    {
     "name": "stdout",
     "output_type": "stream",
     "text": [
      "Avg Training Loss: 0.147414, Acc: 98.4043\n"
     ]
    },
    {
     "name": "stderr",
     "output_type": "stream",
     "text": [
      "100%|██████████| 63/63 [00:07<00:00,  8.77it/s]"
     ]
    },
    {
     "name": "stdout",
     "output_type": "stream",
     "text": [
      "Total Validation Loss: 1.037123, Acc: 83.9782\n"
     ]
    },
    {
     "name": "stderr",
     "output_type": "stream",
     "text": [
      "\n",
      "100%|██████████| 63/63 [00:05<00:00, 11.00it/s]\n"
     ]
    },
    {
     "name": "stdout",
     "output_type": "stream",
     "text": [
      "Total Testing Acc: 83.2837\n",
      "Epoch: 74\n"
     ]
    },
    {
     "name": "stderr",
     "output_type": "stream",
     "text": [
      "100%|██████████| 188/188 [00:39<00:00,  4.81it/s]\n"
     ]
    },
    {
     "name": "stdout",
     "output_type": "stream",
     "text": [
      "Avg Training Loss: 0.145372, Acc: 98.5539\n"
     ]
    },
    {
     "name": "stderr",
     "output_type": "stream",
     "text": [
      "100%|██████████| 63/63 [00:04<00:00, 12.60it/s]\n"
     ]
    },
    {
     "name": "stdout",
     "output_type": "stream",
     "text": [
      "Total Validation Loss: 1.190079, Acc: 82.8373\n"
     ]
    },
    {
     "name": "stderr",
     "output_type": "stream",
     "text": [
      "100%|██████████| 63/63 [00:05<00:00, 12.31it/s]"
     ]
    },
    {
     "name": "stdout",
     "output_type": "stream",
     "text": [
      "Total Testing Acc: 83.9782\n",
      "Epoch: 75\n"
     ]
    },
    {
     "name": "stderr",
     "output_type": "stream",
     "text": [
      "\n",
      "100%|██████████| 188/188 [00:40<00:00,  4.62it/s]\n"
     ]
    },
    {
     "name": "stdout",
     "output_type": "stream",
     "text": [
      "Avg Training Loss: 0.138314, Acc: 98.5871\n"
     ]
    },
    {
     "name": "stderr",
     "output_type": "stream",
     "text": [
      "100%|██████████| 63/63 [00:06<00:00,  9.46it/s]\n"
     ]
    },
    {
     "name": "stdout",
     "output_type": "stream",
     "text": [
      "Total Validation Loss: 0.972220, Acc: 83.4325\n"
     ]
    },
    {
     "name": "stderr",
     "output_type": "stream",
     "text": [
      "100%|██████████| 63/63 [00:07<00:00,  8.84it/s]\n"
     ]
    },
    {
     "name": "stdout",
     "output_type": "stream",
     "text": [
      "Total Testing Acc: 83.8294\n",
      "Epoch: 76\n"
     ]
    },
    {
     "name": "stderr",
     "output_type": "stream",
     "text": [
      "100%|██████████| 188/188 [00:39<00:00,  4.78it/s]\n"
     ]
    },
    {
     "name": "stdout",
     "output_type": "stream",
     "text": [
      "Avg Training Loss: 0.144433, Acc: 98.6370\n"
     ]
    },
    {
     "name": "stderr",
     "output_type": "stream",
     "text": [
      "100%|██████████| 63/63 [00:05<00:00, 12.47it/s]\n"
     ]
    },
    {
     "name": "stdout",
     "output_type": "stream",
     "text": [
      "Total Validation Loss: 1.034854, Acc: 84.9206\n"
     ]
    },
    {
     "name": "stderr",
     "output_type": "stream",
     "text": [
      "100%|██████████| 63/63 [00:04<00:00, 13.08it/s]"
     ]
    },
    {
     "name": "stdout",
     "output_type": "stream",
     "text": [
      "Total Testing Acc: 82.7381\n",
      "Epoch: 77\n"
     ]
    },
    {
     "name": "stderr",
     "output_type": "stream",
     "text": [
      "\n",
      "100%|██████████| 188/188 [00:42<00:00,  4.41it/s]\n"
     ]
    },
    {
     "name": "stdout",
     "output_type": "stream",
     "text": [
      "Avg Training Loss: 0.136377, Acc: 98.8863\n"
     ]
    },
    {
     "name": "stderr",
     "output_type": "stream",
     "text": [
      "100%|██████████| 63/63 [00:06<00:00,  9.29it/s]\n"
     ]
    },
    {
     "name": "stdout",
     "output_type": "stream",
     "text": [
      "Total Validation Loss: 1.102818, Acc: 82.9365\n"
     ]
    },
    {
     "name": "stderr",
     "output_type": "stream",
     "text": [
      "100%|██████████| 63/63 [00:05<00:00, 10.64it/s]\n"
     ]
    },
    {
     "name": "stdout",
     "output_type": "stream",
     "text": [
      "Total Testing Acc: 83.7798\n",
      "Epoch: 78\n"
     ]
    },
    {
     "name": "stderr",
     "output_type": "stream",
     "text": [
      "100%|██████████| 188/188 [00:39<00:00,  4.80it/s]\n"
     ]
    },
    {
     "name": "stdout",
     "output_type": "stream",
     "text": [
      "Avg Training Loss: 0.135170, Acc: 98.7367\n"
     ]
    },
    {
     "name": "stderr",
     "output_type": "stream",
     "text": [
      "100%|██████████| 63/63 [00:04<00:00, 13.15it/s]\n"
     ]
    },
    {
     "name": "stdout",
     "output_type": "stream",
     "text": [
      "Total Validation Loss: 1.098613, Acc: 82.5397\n"
     ]
    },
    {
     "name": "stderr",
     "output_type": "stream",
     "text": [
      "100%|██████████| 63/63 [00:04<00:00, 13.17it/s]\n"
     ]
    },
    {
     "name": "stdout",
     "output_type": "stream",
     "text": [
      "Total Testing Acc: 83.9782\n",
      "Epoch: 79\n"
     ]
    },
    {
     "name": "stderr",
     "output_type": "stream",
     "text": [
      "100%|██████████| 188/188 [00:43<00:00,  4.28it/s]\n"
     ]
    },
    {
     "name": "stdout",
     "output_type": "stream",
     "text": [
      "Avg Training Loss: 0.121458, Acc: 99.0359\n"
     ]
    },
    {
     "name": "stderr",
     "output_type": "stream",
     "text": [
      "100%|██████████| 63/63 [00:07<00:00,  9.00it/s]\n"
     ]
    },
    {
     "name": "stdout",
     "output_type": "stream",
     "text": [
      "Total Validation Loss: 1.133381, Acc: 83.1349\n"
     ]
    },
    {
     "name": "stderr",
     "output_type": "stream",
     "text": [
      "100%|██████████| 63/63 [00:05<00:00, 12.04it/s]\n"
     ]
    },
    {
     "name": "stdout",
     "output_type": "stream",
     "text": [
      "Total Testing Acc: 82.7381\n",
      "Epoch: 80\n"
     ]
    },
    {
     "name": "stderr",
     "output_type": "stream",
     "text": [
      "100%|██████████| 188/188 [00:36<00:00,  5.21it/s]"
     ]
    },
    {
     "name": "stdout",
     "output_type": "stream",
     "text": [
      "Avg Training Loss: 0.128865, Acc: 98.9694\n"
     ]
    },
    {
     "name": "stderr",
     "output_type": "stream",
     "text": [
      "\n",
      "100%|██████████| 63/63 [00:07<00:00,  8.45it/s]\n"
     ]
    },
    {
     "name": "stdout",
     "output_type": "stream",
     "text": [
      "Total Validation Loss: 1.066205, Acc: 83.3829\n"
     ]
    },
    {
     "name": "stderr",
     "output_type": "stream",
     "text": [
      "100%|██████████| 63/63 [00:07<00:00,  8.77it/s]\n"
     ]
    },
    {
     "name": "stdout",
     "output_type": "stream",
     "text": [
      "Total Testing Acc: 83.4325\n",
      "Epoch: 81\n"
     ]
    },
    {
     "name": "stderr",
     "output_type": "stream",
     "text": [
      "100%|██████████| 188/188 [00:37<00:00,  5.02it/s]\n"
     ]
    },
    {
     "name": "stdout",
     "output_type": "stream",
     "text": [
      "Avg Training Loss: 0.125689, Acc: 98.8198\n"
     ]
    },
    {
     "name": "stderr",
     "output_type": "stream",
     "text": [
      "100%|██████████| 63/63 [00:04<00:00, 13.03it/s]\n"
     ]
    },
    {
     "name": "stdout",
     "output_type": "stream",
     "text": [
      "Total Validation Loss: 1.076394, Acc: 84.2758\n"
     ]
    },
    {
     "name": "stderr",
     "output_type": "stream",
     "text": [
      "100%|██████████| 63/63 [00:04<00:00, 12.80it/s]\n"
     ]
    },
    {
     "name": "stdout",
     "output_type": "stream",
     "text": [
      "Total Testing Acc: 84.2758\n",
      "Epoch: 82\n"
     ]
    },
    {
     "name": "stderr",
     "output_type": "stream",
     "text": [
      "100%|██████████| 188/188 [00:41<00:00,  4.50it/s]\n"
     ]
    },
    {
     "name": "stdout",
     "output_type": "stream",
     "text": [
      "Avg Training Loss: 0.127466, Acc: 98.9860\n"
     ]
    },
    {
     "name": "stderr",
     "output_type": "stream",
     "text": [
      "100%|██████████| 63/63 [00:05<00:00, 11.46it/s]"
     ]
    },
    {
     "name": "stdout",
     "output_type": "stream",
     "text": [
      "Total Validation Loss: 1.022006, Acc: 84.3254\n"
     ]
    },
    {
     "name": "stderr",
     "output_type": "stream",
     "text": [
      "\n",
      "100%|██████████| 63/63 [00:07<00:00,  8.63it/s]"
     ]
    },
    {
     "name": "stdout",
     "output_type": "stream",
     "text": [
      "Total Testing Acc: 83.7302\n",
      "Epoch: 83\n"
     ]
    },
    {
     "name": "stderr",
     "output_type": "stream",
     "text": [
      "\n",
      "100%|██████████| 188/188 [00:40<00:00,  4.63it/s]\n"
     ]
    },
    {
     "name": "stdout",
     "output_type": "stream",
     "text": [
      "Avg Training Loss: 0.124738, Acc: 99.0691\n"
     ]
    },
    {
     "name": "stderr",
     "output_type": "stream",
     "text": [
      "100%|██████████| 63/63 [00:04<00:00, 13.49it/s]\n"
     ]
    },
    {
     "name": "stdout",
     "output_type": "stream",
     "text": [
      "Total Validation Loss: 1.006730, Acc: 83.6806\n"
     ]
    },
    {
     "name": "stderr",
     "output_type": "stream",
     "text": [
      "100%|██████████| 63/63 [00:04<00:00, 13.34it/s]\n"
     ]
    },
    {
     "name": "stdout",
     "output_type": "stream",
     "text": [
      "Total Testing Acc: 84.0774\n",
      "Epoch: 84\n"
     ]
    },
    {
     "name": "stderr",
     "output_type": "stream",
     "text": [
      "100%|██████████| 188/188 [00:42<00:00,  4.44it/s]\n"
     ]
    },
    {
     "name": "stdout",
     "output_type": "stream",
     "text": [
      "Avg Training Loss: 0.123473, Acc: 98.8198\n"
     ]
    },
    {
     "name": "stderr",
     "output_type": "stream",
     "text": [
      "100%|██████████| 63/63 [00:05<00:00, 11.98it/s]\n"
     ]
    },
    {
     "name": "stdout",
     "output_type": "stream",
     "text": [
      "Total Validation Loss: 1.125842, Acc: 82.5893\n"
     ]
    },
    {
     "name": "stderr",
     "output_type": "stream",
     "text": [
      "100%|██████████| 63/63 [00:07<00:00,  8.54it/s]\n"
     ]
    },
    {
     "name": "stdout",
     "output_type": "stream",
     "text": [
      "Total Testing Acc: 82.8869\n",
      "Epoch: 85\n"
     ]
    },
    {
     "name": "stderr",
     "output_type": "stream",
     "text": [
      "100%|██████████| 188/188 [00:41<00:00,  4.55it/s]\n"
     ]
    },
    {
     "name": "stdout",
     "output_type": "stream",
     "text": [
      "Avg Training Loss: 0.118350, Acc: 99.1356\n"
     ]
    },
    {
     "name": "stderr",
     "output_type": "stream",
     "text": [
      "100%|██████████| 63/63 [00:04<00:00, 12.80it/s]\n"
     ]
    },
    {
     "name": "stdout",
     "output_type": "stream",
     "text": [
      "Total Validation Loss: 1.096151, Acc: 83.5813\n"
     ]
    },
    {
     "name": "stderr",
     "output_type": "stream",
     "text": [
      "100%|██████████| 63/63 [00:04<00:00, 13.14it/s]\n"
     ]
    },
    {
     "name": "stdout",
     "output_type": "stream",
     "text": [
      "Total Testing Acc: 83.9782\n",
      "Epoch: 86\n"
     ]
    },
    {
     "name": "stderr",
     "output_type": "stream",
     "text": [
      "100%|██████████| 188/188 [00:39<00:00,  4.75it/s]\n"
     ]
    },
    {
     "name": "stdout",
     "output_type": "stream",
     "text": [
      "Avg Training Loss: 0.127651, Acc: 98.9029\n"
     ]
    },
    {
     "name": "stderr",
     "output_type": "stream",
     "text": [
      "100%|██████████| 63/63 [00:05<00:00, 12.18it/s]"
     ]
    },
    {
     "name": "stdout",
     "output_type": "stream",
     "text": [
      "Total Validation Loss: 1.091603, Acc: 83.2837\n"
     ]
    },
    {
     "name": "stderr",
     "output_type": "stream",
     "text": [
      "\n",
      "100%|██████████| 63/63 [00:07<00:00,  8.33it/s]\n"
     ]
    },
    {
     "name": "stdout",
     "output_type": "stream",
     "text": [
      "Total Testing Acc: 84.2758\n",
      "Epoch: 87\n"
     ]
    },
    {
     "name": "stderr",
     "output_type": "stream",
     "text": [
      "100%|██████████| 188/188 [00:40<00:00,  4.69it/s]\n"
     ]
    },
    {
     "name": "stdout",
     "output_type": "stream",
     "text": [
      "Avg Training Loss: 0.109105, Acc: 99.1190\n"
     ]
    },
    {
     "name": "stderr",
     "output_type": "stream",
     "text": [
      "100%|██████████| 63/63 [00:05<00:00, 12.43it/s]\n"
     ]
    },
    {
     "name": "stdout",
     "output_type": "stream",
     "text": [
      "Total Validation Loss: 1.043976, Acc: 84.9206\n"
     ]
    },
    {
     "name": "stderr",
     "output_type": "stream",
     "text": [
      "100%|██████████| 63/63 [00:04<00:00, 13.55it/s]"
     ]
    },
    {
     "name": "stdout",
     "output_type": "stream",
     "text": [
      "Total Testing Acc: 84.7222\n",
      "Epoch: 88\n"
     ]
    },
    {
     "name": "stderr",
     "output_type": "stream",
     "text": [
      "\n",
      "100%|██████████| 188/188 [00:34<00:00,  5.39it/s]\n"
     ]
    },
    {
     "name": "stdout",
     "output_type": "stream",
     "text": [
      "Avg Training Loss: 0.109344, Acc: 99.3351\n"
     ]
    },
    {
     "name": "stderr",
     "output_type": "stream",
     "text": [
      "100%|██████████| 63/63 [00:07<00:00,  8.63it/s]"
     ]
    },
    {
     "name": "stdout",
     "output_type": "stream",
     "text": [
      "Total Validation Loss: 1.018386, Acc: 84.3254\n"
     ]
    },
    {
     "name": "stderr",
     "output_type": "stream",
     "text": [
      "\n",
      "100%|██████████| 63/63 [00:05<00:00, 10.86it/s]\n"
     ]
    },
    {
     "name": "stdout",
     "output_type": "stream",
     "text": [
      "Total Testing Acc: 83.9782\n",
      "Epoch: 89\n"
     ]
    },
    {
     "name": "stderr",
     "output_type": "stream",
     "text": [
      "100%|██████████| 188/188 [00:41<00:00,  4.58it/s]\n"
     ]
    },
    {
     "name": "stdout",
     "output_type": "stream",
     "text": [
      "Avg Training Loss: 0.119350, Acc: 98.8697\n"
     ]
    },
    {
     "name": "stderr",
     "output_type": "stream",
     "text": [
      "100%|██████████| 63/63 [00:05<00:00, 12.14it/s]\n"
     ]
    },
    {
     "name": "stdout",
     "output_type": "stream",
     "text": [
      "Total Validation Loss: 1.120909, Acc: 82.7381\n"
     ]
    },
    {
     "name": "stderr",
     "output_type": "stream",
     "text": [
      "100%|██████████| 63/63 [00:04<00:00, 13.12it/s]\n"
     ]
    },
    {
     "name": "stdout",
     "output_type": "stream",
     "text": [
      "Total Testing Acc: 83.6310\n",
      "Epoch: 90\n"
     ]
    },
    {
     "name": "stderr",
     "output_type": "stream",
     "text": [
      "100%|██████████| 188/188 [00:40<00:00,  4.68it/s]\n"
     ]
    },
    {
     "name": "stdout",
     "output_type": "stream",
     "text": [
      "Avg Training Loss: 0.112270, Acc: 99.0359\n"
     ]
    },
    {
     "name": "stderr",
     "output_type": "stream",
     "text": [
      "100%|██████████| 63/63 [00:06<00:00,  9.32it/s]\n"
     ]
    },
    {
     "name": "stdout",
     "output_type": "stream",
     "text": [
      "Total Validation Loss: 0.990892, Acc: 84.0774\n"
     ]
    },
    {
     "name": "stderr",
     "output_type": "stream",
     "text": [
      "100%|██████████| 63/63 [00:06<00:00,  9.41it/s]\n"
     ]
    },
    {
     "name": "stdout",
     "output_type": "stream",
     "text": [
      "Total Testing Acc: 85.7143\n",
      "Epoch: 91\n"
     ]
    },
    {
     "name": "stderr",
     "output_type": "stream",
     "text": [
      "100%|██████████| 188/188 [00:41<00:00,  4.53it/s]\n"
     ]
    },
    {
     "name": "stdout",
     "output_type": "stream",
     "text": [
      "Avg Training Loss: 0.104529, Acc: 99.3517\n"
     ]
    },
    {
     "name": "stderr",
     "output_type": "stream",
     "text": [
      "100%|██████████| 63/63 [00:04<00:00, 12.88it/s]\n"
     ]
    },
    {
     "name": "stdout",
     "output_type": "stream",
     "text": [
      "Total Validation Loss: 1.126320, Acc: 82.9861\n"
     ]
    },
    {
     "name": "stderr",
     "output_type": "stream",
     "text": [
      "100%|██████████| 63/63 [00:04<00:00, 13.39it/s]\n"
     ]
    },
    {
     "name": "stdout",
     "output_type": "stream",
     "text": [
      "Total Testing Acc: 82.6389\n",
      "Epoch: 92\n"
     ]
    },
    {
     "name": "stderr",
     "output_type": "stream",
     "text": [
      "100%|██████████| 188/188 [00:39<00:00,  4.71it/s]\n"
     ]
    },
    {
     "name": "stdout",
     "output_type": "stream",
     "text": [
      "Avg Training Loss: 0.116195, Acc: 98.9694\n"
     ]
    },
    {
     "name": "stderr",
     "output_type": "stream",
     "text": [
      "100%|██████████| 63/63 [00:05<00:00, 12.10it/s]\n"
     ]
    },
    {
     "name": "stdout",
     "output_type": "stream",
     "text": [
      "Total Validation Loss: 1.012064, Acc: 84.8214\n"
     ]
    },
    {
     "name": "stderr",
     "output_type": "stream",
     "text": [
      "100%|██████████| 63/63 [00:04<00:00, 13.35it/s]\n"
     ]
    },
    {
     "name": "stdout",
     "output_type": "stream",
     "text": [
      "Total Testing Acc: 85.0198\n",
      "Epoch: 93\n"
     ]
    },
    {
     "name": "stderr",
     "output_type": "stream",
     "text": [
      "100%|██████████| 188/188 [00:46<00:00,  4.01it/s]\n"
     ]
    },
    {
     "name": "stdout",
     "output_type": "stream",
     "text": [
      "Avg Training Loss: 0.096609, Acc: 99.5346\n"
     ]
    },
    {
     "name": "stderr",
     "output_type": "stream",
     "text": [
      "100%|██████████| 63/63 [00:05<00:00, 12.31it/s]\n"
     ]
    },
    {
     "name": "stdout",
     "output_type": "stream",
     "text": [
      "Total Validation Loss: 1.194811, Acc: 81.9444\n"
     ]
    },
    {
     "name": "stderr",
     "output_type": "stream",
     "text": [
      "100%|██████████| 63/63 [00:04<00:00, 13.01it/s]"
     ]
    },
    {
     "name": "stdout",
     "output_type": "stream",
     "text": [
      "Total Testing Acc: 82.8373\n",
      "Epoch: 94\n"
     ]
    },
    {
     "name": "stderr",
     "output_type": "stream",
     "text": [
      "\n",
      "100%|██████████| 188/188 [00:38<00:00,  4.90it/s]\n"
     ]
    },
    {
     "name": "stdout",
     "output_type": "stream",
     "text": [
      "Avg Training Loss: 0.097851, Acc: 99.3684\n"
     ]
    },
    {
     "name": "stderr",
     "output_type": "stream",
     "text": [
      "100%|██████████| 63/63 [00:05<00:00, 12.30it/s]\n"
     ]
    },
    {
     "name": "stdout",
     "output_type": "stream",
     "text": [
      "Total Validation Loss: 1.127753, Acc: 83.5813\n"
     ]
    },
    {
     "name": "stderr",
     "output_type": "stream",
     "text": [
      "100%|██████████| 63/63 [00:04<00:00, 13.11it/s]\n"
     ]
    },
    {
     "name": "stdout",
     "output_type": "stream",
     "text": [
      "Total Testing Acc: 84.3750\n",
      "Epoch: 95\n"
     ]
    },
    {
     "name": "stderr",
     "output_type": "stream",
     "text": [
      "100%|██████████| 188/188 [00:38<00:00,  4.87it/s]\n"
     ]
    },
    {
     "name": "stdout",
     "output_type": "stream",
     "text": [
      "Avg Training Loss: 0.103469, Acc: 99.3351\n"
     ]
    },
    {
     "name": "stderr",
     "output_type": "stream",
     "text": [
      "100%|██████████| 63/63 [00:05<00:00, 11.94it/s]"
     ]
    },
    {
     "name": "stdout",
     "output_type": "stream",
     "text": [
      "Total Validation Loss: 0.997759, Acc: 83.3829\n"
     ]
    },
    {
     "name": "stderr",
     "output_type": "stream",
     "text": [
      "\n",
      "100%|██████████| 63/63 [00:05<00:00, 10.87it/s]\n"
     ]
    },
    {
     "name": "stdout",
     "output_type": "stream",
     "text": [
      "Total Testing Acc: 83.8294\n",
      "Epoch: 96\n"
     ]
    },
    {
     "name": "stderr",
     "output_type": "stream",
     "text": [
      "100%|██████████| 188/188 [00:42<00:00,  4.42it/s]"
     ]
    },
    {
     "name": "stdout",
     "output_type": "stream",
     "text": [
      "Avg Training Loss: 0.099547, Acc: 99.3684\n"
     ]
    },
    {
     "name": "stderr",
     "output_type": "stream",
     "text": [
      "\n",
      "100%|██████████| 63/63 [00:05<00:00, 11.11it/s]\n"
     ]
    },
    {
     "name": "stdout",
     "output_type": "stream",
     "text": [
      "Total Validation Loss: 1.111283, Acc: 83.3333\n"
     ]
    },
    {
     "name": "stderr",
     "output_type": "stream",
     "text": [
      "100%|██████████| 63/63 [00:05<00:00, 12.38it/s]\n"
     ]
    },
    {
     "name": "stdout",
     "output_type": "stream",
     "text": [
      "Total Testing Acc: 82.9365\n",
      "Epoch: 97\n"
     ]
    },
    {
     "name": "stderr",
     "output_type": "stream",
     "text": [
      "100%|██████████| 188/188 [00:37<00:00,  5.06it/s]\n"
     ]
    },
    {
     "name": "stdout",
     "output_type": "stream",
     "text": [
      "Avg Training Loss: 0.092955, Acc: 99.5678\n"
     ]
    },
    {
     "name": "stderr",
     "output_type": "stream",
     "text": [
      "100%|██████████| 63/63 [00:05<00:00, 12.08it/s]\n"
     ]
    },
    {
     "name": "stdout",
     "output_type": "stream",
     "text": [
      "Total Validation Loss: 1.008615, Acc: 83.5813\n"
     ]
    },
    {
     "name": "stderr",
     "output_type": "stream",
     "text": [
      "100%|██████████| 63/63 [00:05<00:00, 11.98it/s]\n"
     ]
    },
    {
     "name": "stdout",
     "output_type": "stream",
     "text": [
      "Total Testing Acc: 84.1766\n",
      "Epoch: 98\n"
     ]
    },
    {
     "name": "stderr",
     "output_type": "stream",
     "text": [
      "100%|██████████| 188/188 [00:41<00:00,  4.52it/s]"
     ]
    },
    {
     "name": "stdout",
     "output_type": "stream",
     "text": [
      "Avg Training Loss: 0.101034, Acc: 99.3351\n"
     ]
    },
    {
     "name": "stderr",
     "output_type": "stream",
     "text": [
      "\n",
      "100%|██████████| 63/63 [00:06<00:00,  9.79it/s]\n"
     ]
    },
    {
     "name": "stdout",
     "output_type": "stream",
     "text": [
      "Total Validation Loss: 1.080402, Acc: 83.3333\n"
     ]
    },
    {
     "name": "stderr",
     "output_type": "stream",
     "text": [
      "100%|██████████| 63/63 [00:05<00:00, 12.35it/s]\n"
     ]
    },
    {
     "name": "stdout",
     "output_type": "stream",
     "text": [
      "Total Testing Acc: 83.7302\n",
      "Epoch: 99\n"
     ]
    },
    {
     "name": "stderr",
     "output_type": "stream",
     "text": [
      "100%|██████████| 188/188 [00:38<00:00,  4.86it/s]\n"
     ]
    },
    {
     "name": "stdout",
     "output_type": "stream",
     "text": [
      "Avg Training Loss: 0.096056, Acc: 99.3684\n"
     ]
    },
    {
     "name": "stderr",
     "output_type": "stream",
     "text": [
      "100%|██████████| 63/63 [00:04<00:00, 12.95it/s]\n"
     ]
    },
    {
     "name": "stdout",
     "output_type": "stream",
     "text": [
      "Total Validation Loss: 1.148424, Acc: 82.4405\n"
     ]
    },
    {
     "name": "stderr",
     "output_type": "stream",
     "text": [
      "100%|██████████| 63/63 [00:05<00:00, 12.22it/s]\n"
     ]
    },
    {
     "name": "stdout",
     "output_type": "stream",
     "text": [
      "Total Testing Acc: 82.8869\n",
      "Epoch: 100\n"
     ]
    },
    {
     "name": "stderr",
     "output_type": "stream",
     "text": [
      "100%|██████████| 188/188 [00:41<00:00,  4.57it/s]"
     ]
    },
    {
     "name": "stdout",
     "output_type": "stream",
     "text": [
      "Avg Training Loss: 0.087336, Acc: 99.6177\n"
     ]
    },
    {
     "name": "stderr",
     "output_type": "stream",
     "text": [
      "\n",
      "100%|██████████| 63/63 [00:07<00:00,  8.53it/s]"
     ]
    },
    {
     "name": "stdout",
     "output_type": "stream",
     "text": [
      "Total Validation Loss: 0.995144, Acc: 83.8294\n"
     ]
    },
    {
     "name": "stderr",
     "output_type": "stream",
     "text": [
      "\n",
      "100%|██████████| 63/63 [00:05<00:00, 12.00it/s]\n"
     ]
    },
    {
     "name": "stdout",
     "output_type": "stream",
     "text": [
      "Total Testing Acc: 83.8790\n",
      "Epoch: 101\n"
     ]
    },
    {
     "name": "stderr",
     "output_type": "stream",
     "text": [
      "100%|██████████| 188/188 [00:39<00:00,  4.80it/s]\n"
     ]
    },
    {
     "name": "stdout",
     "output_type": "stream",
     "text": [
      "Avg Training Loss: 0.089643, Acc: 99.3684\n"
     ]
    },
    {
     "name": "stderr",
     "output_type": "stream",
     "text": [
      "100%|██████████| 63/63 [00:04<00:00, 13.42it/s]\n"
     ]
    },
    {
     "name": "stdout",
     "output_type": "stream",
     "text": [
      "Total Validation Loss: 1.235787, Acc: 81.9444\n"
     ]
    },
    {
     "name": "stderr",
     "output_type": "stream",
     "text": [
      "100%|██████████| 63/63 [00:05<00:00, 12.48it/s]\n"
     ]
    },
    {
     "name": "stdout",
     "output_type": "stream",
     "text": [
      "Total Testing Acc: 82.2917\n",
      "Epoch: 102\n"
     ]
    },
    {
     "name": "stderr",
     "output_type": "stream",
     "text": [
      "100%|██████████| 188/188 [00:40<00:00,  4.65it/s]\n"
     ]
    },
    {
     "name": "stdout",
     "output_type": "stream",
     "text": [
      "Avg Training Loss: 0.096468, Acc: 99.2188\n"
     ]
    },
    {
     "name": "stderr",
     "output_type": "stream",
     "text": [
      "100%|██████████| 63/63 [00:05<00:00, 11.77it/s]"
     ]
    },
    {
     "name": "stdout",
     "output_type": "stream",
     "text": [
      "Total Validation Loss: 1.177662, Acc: 82.4901\n"
     ]
    },
    {
     "name": "stderr",
     "output_type": "stream",
     "text": [
      "\n",
      "100%|██████████| 63/63 [00:07<00:00,  8.90it/s]\n"
     ]
    },
    {
     "name": "stdout",
     "output_type": "stream",
     "text": [
      "Total Testing Acc: 83.2837\n",
      "Epoch: 103\n"
     ]
    },
    {
     "name": "stderr",
     "output_type": "stream",
     "text": [
      "100%|██████████| 188/188 [00:39<00:00,  4.76it/s]\n"
     ]
    },
    {
     "name": "stdout",
     "output_type": "stream",
     "text": [
      "Avg Training Loss: 0.089501, Acc: 99.6177\n"
     ]
    },
    {
     "name": "stderr",
     "output_type": "stream",
     "text": [
      "100%|██████████| 63/63 [00:05<00:00, 12.42it/s]\n"
     ]
    },
    {
     "name": "stdout",
     "output_type": "stream",
     "text": [
      "Total Validation Loss: 1.014080, Acc: 83.8294\n"
     ]
    },
    {
     "name": "stderr",
     "output_type": "stream",
     "text": [
      "100%|██████████| 63/63 [00:05<00:00, 12.37it/s]\n"
     ]
    },
    {
     "name": "stdout",
     "output_type": "stream",
     "text": [
      "Total Testing Acc: 85.0198\n",
      "Epoch: 104\n"
     ]
    },
    {
     "name": "stderr",
     "output_type": "stream",
     "text": [
      "100%|██████████| 188/188 [00:38<00:00,  4.93it/s]\n"
     ]
    },
    {
     "name": "stdout",
     "output_type": "stream",
     "text": [
      "Avg Training Loss: 0.091488, Acc: 99.3351\n"
     ]
    },
    {
     "name": "stderr",
     "output_type": "stream",
     "text": [
      "100%|██████████| 63/63 [00:05<00:00, 12.42it/s]\n"
     ]
    },
    {
     "name": "stdout",
     "output_type": "stream",
     "text": [
      "Total Validation Loss: 1.046603, Acc: 84.0774\n"
     ]
    },
    {
     "name": "stderr",
     "output_type": "stream",
     "text": [
      "100%|██████████| 63/63 [00:06<00:00,  9.55it/s]\n"
     ]
    },
    {
     "name": "stdout",
     "output_type": "stream",
     "text": [
      "Total Testing Acc: 84.0278\n",
      "Epoch: 105\n"
     ]
    },
    {
     "name": "stderr",
     "output_type": "stream",
     "text": [
      "100%|██████████| 188/188 [00:35<00:00,  5.25it/s]\n"
     ]
    },
    {
     "name": "stdout",
     "output_type": "stream",
     "text": [
      "Avg Training Loss: 0.082035, Acc: 99.6177\n"
     ]
    },
    {
     "name": "stderr",
     "output_type": "stream",
     "text": [
      "100%|██████████| 63/63 [00:05<00:00, 12.57it/s]\n"
     ]
    },
    {
     "name": "stdout",
     "output_type": "stream",
     "text": [
      "Total Validation Loss: 1.118618, Acc: 83.6806\n"
     ]
    },
    {
     "name": "stderr",
     "output_type": "stream",
     "text": [
      "100%|██████████| 63/63 [00:07<00:00,  8.87it/s]\n"
     ]
    },
    {
     "name": "stdout",
     "output_type": "stream",
     "text": [
      "Total Testing Acc: 83.3829\n",
      "Epoch: 106\n"
     ]
    },
    {
     "name": "stderr",
     "output_type": "stream",
     "text": [
      "100%|██████████| 188/188 [00:45<00:00,  4.18it/s]\n"
     ]
    },
    {
     "name": "stdout",
     "output_type": "stream",
     "text": [
      "Avg Training Loss: 0.079209, Acc: 99.5512\n"
     ]
    },
    {
     "name": "stderr",
     "output_type": "stream",
     "text": [
      "100%|██████████| 63/63 [00:04<00:00, 13.40it/s]\n"
     ]
    },
    {
     "name": "stdout",
     "output_type": "stream",
     "text": [
      "Total Validation Loss: 1.226250, Acc: 82.3413\n"
     ]
    },
    {
     "name": "stderr",
     "output_type": "stream",
     "text": [
      "100%|██████████| 63/63 [00:05<00:00, 12.36it/s]\n"
     ]
    },
    {
     "name": "stdout",
     "output_type": "stream",
     "text": [
      "Total Testing Acc: 84.1766\n",
      "Epoch: 107\n"
     ]
    },
    {
     "name": "stderr",
     "output_type": "stream",
     "text": [
      "100%|██████████| 188/188 [00:38<00:00,  4.92it/s]"
     ]
    },
    {
     "name": "stdout",
     "output_type": "stream",
     "text": [
      "Avg Training Loss: 0.095747, Acc: 99.2188\n"
     ]
    },
    {
     "name": "stderr",
     "output_type": "stream",
     "text": [
      "\n",
      "100%|██████████| 63/63 [00:04<00:00, 12.73it/s]"
     ]
    },
    {
     "name": "stdout",
     "output_type": "stream",
     "text": [
      "Total Validation Loss: 1.170980, Acc: 83.1349\n"
     ]
    },
    {
     "name": "stderr",
     "output_type": "stream",
     "text": [
      "\n",
      "100%|██████████| 63/63 [00:05<00:00, 12.20it/s]"
     ]
    },
    {
     "name": "stdout",
     "output_type": "stream",
     "text": [
      "Total Testing Acc: 82.8869\n",
      "Epoch: 108\n"
     ]
    },
    {
     "name": "stderr",
     "output_type": "stream",
     "text": [
      "\n",
      "100%|██████████| 188/188 [00:40<00:00,  4.70it/s]"
     ]
    },
    {
     "name": "stdout",
     "output_type": "stream",
     "text": [
      "Avg Training Loss: 0.094904, Acc: 99.4182\n"
     ]
    },
    {
     "name": "stderr",
     "output_type": "stream",
     "text": [
      "\n",
      "100%|██████████| 63/63 [00:06<00:00,  9.37it/s]\n"
     ]
    },
    {
     "name": "stdout",
     "output_type": "stream",
     "text": [
      "Total Validation Loss: 1.069777, Acc: 85.0694\n"
     ]
    },
    {
     "name": "stderr",
     "output_type": "stream",
     "text": [
      "100%|██████████| 63/63 [00:05<00:00, 12.36it/s]\n"
     ]
    },
    {
     "name": "stdout",
     "output_type": "stream",
     "text": [
      "Total Testing Acc: 84.2262\n",
      "Epoch: 109\n"
     ]
    },
    {
     "name": "stderr",
     "output_type": "stream",
     "text": [
      "100%|██████████| 188/188 [00:38<00:00,  4.94it/s]\n"
     ]
    },
    {
     "name": "stdout",
     "output_type": "stream",
     "text": [
      "Avg Training Loss: 0.083081, Acc: 99.6011\n"
     ]
    },
    {
     "name": "stderr",
     "output_type": "stream",
     "text": [
      "100%|██████████| 63/63 [00:04<00:00, 13.07it/s]\n"
     ]
    },
    {
     "name": "stdout",
     "output_type": "stream",
     "text": [
      "Total Validation Loss: 0.978192, Acc: 83.9782\n"
     ]
    },
    {
     "name": "stderr",
     "output_type": "stream",
     "text": [
      "100%|██████████| 63/63 [00:05<00:00, 12.48it/s]\n"
     ]
    },
    {
     "name": "stdout",
     "output_type": "stream",
     "text": [
      "Total Testing Acc: 84.1766\n",
      "Epoch: 110\n"
     ]
    },
    {
     "name": "stderr",
     "output_type": "stream",
     "text": [
      "100%|██████████| 188/188 [00:39<00:00,  4.73it/s]\n"
     ]
    },
    {
     "name": "stdout",
     "output_type": "stream",
     "text": [
      "Avg Training Loss: 0.083597, Acc: 99.5346\n"
     ]
    },
    {
     "name": "stderr",
     "output_type": "stream",
     "text": [
      "100%|██████████| 63/63 [00:06<00:00,  9.46it/s]"
     ]
    },
    {
     "name": "stdout",
     "output_type": "stream",
     "text": [
      "Total Validation Loss: 1.119514, Acc: 83.2837\n"
     ]
    },
    {
     "name": "stderr",
     "output_type": "stream",
     "text": [
      "\n",
      "100%|██████████| 63/63 [00:06<00:00,  9.58it/s]\n"
     ]
    },
    {
     "name": "stdout",
     "output_type": "stream",
     "text": [
      "Total Testing Acc: 82.7381\n",
      "Epoch: 111\n"
     ]
    },
    {
     "name": "stderr",
     "output_type": "stream",
     "text": [
      "100%|██████████| 188/188 [00:38<00:00,  4.86it/s]\n"
     ]
    },
    {
     "name": "stdout",
     "output_type": "stream",
     "text": [
      "Avg Training Loss: 0.084711, Acc: 99.5512\n"
     ]
    },
    {
     "name": "stderr",
     "output_type": "stream",
     "text": [
      "100%|██████████| 63/63 [00:04<00:00, 13.85it/s]\n"
     ]
    },
    {
     "name": "stdout",
     "output_type": "stream",
     "text": [
      "Total Validation Loss: 1.062132, Acc: 83.6806\n"
     ]
    },
    {
     "name": "stderr",
     "output_type": "stream",
     "text": [
      "100%|██████████| 63/63 [00:05<00:00, 12.39it/s]\n"
     ]
    },
    {
     "name": "stdout",
     "output_type": "stream",
     "text": [
      "Total Testing Acc: 83.1845\n",
      "Epoch: 112\n"
     ]
    },
    {
     "name": "stderr",
     "output_type": "stream",
     "text": [
      "100%|██████████| 188/188 [00:41<00:00,  4.49it/s]\n"
     ]
    },
    {
     "name": "stdout",
     "output_type": "stream",
     "text": [
      "Avg Training Loss: 0.078104, Acc: 99.7673\n"
     ]
    },
    {
     "name": "stderr",
     "output_type": "stream",
     "text": [
      "100%|██████████| 63/63 [00:05<00:00, 12.48it/s]\n"
     ]
    },
    {
     "name": "stdout",
     "output_type": "stream",
     "text": [
      "Total Validation Loss: 1.161936, Acc: 83.2341\n"
     ]
    },
    {
     "name": "stderr",
     "output_type": "stream",
     "text": [
      "100%|██████████| 63/63 [00:05<00:00, 11.75it/s]"
     ]
    },
    {
     "name": "stdout",
     "output_type": "stream",
     "text": [
      "Total Testing Acc: 83.8790\n",
      "Epoch: 113\n"
     ]
    },
    {
     "name": "stderr",
     "output_type": "stream",
     "text": [
      "\n",
      "100%|██████████| 188/188 [00:34<00:00,  5.51it/s]\n"
     ]
    },
    {
     "name": "stdout",
     "output_type": "stream",
     "text": [
      "Avg Training Loss: 0.080356, Acc: 99.5346\n"
     ]
    },
    {
     "name": "stderr",
     "output_type": "stream",
     "text": [
      "100%|██████████| 63/63 [00:04<00:00, 12.74it/s]\n"
     ]
    },
    {
     "name": "stdout",
     "output_type": "stream",
     "text": [
      "Total Validation Loss: 1.209964, Acc: 82.9365\n"
     ]
    },
    {
     "name": "stderr",
     "output_type": "stream",
     "text": [
      "100%|██████████| 63/63 [00:05<00:00, 12.38it/s]\n"
     ]
    },
    {
     "name": "stdout",
     "output_type": "stream",
     "text": [
      "Total Testing Acc: 83.8790\n",
      "Epoch: 114\n"
     ]
    },
    {
     "name": "stderr",
     "output_type": "stream",
     "text": [
      "100%|██████████| 188/188 [00:40<00:00,  4.65it/s]\n"
     ]
    },
    {
     "name": "stdout",
     "output_type": "stream",
     "text": [
      "Avg Training Loss: 0.078398, Acc: 99.6842\n"
     ]
    },
    {
     "name": "stderr",
     "output_type": "stream",
     "text": [
      "100%|██████████| 63/63 [00:07<00:00,  8.78it/s]\n"
     ]
    },
    {
     "name": "stdout",
     "output_type": "stream",
     "text": [
      "Total Validation Loss: 1.085436, Acc: 82.9861\n"
     ]
    },
    {
     "name": "stderr",
     "output_type": "stream",
     "text": [
      "100%|██████████| 63/63 [00:05<00:00, 11.48it/s]"
     ]
    },
    {
     "name": "stdout",
     "output_type": "stream",
     "text": [
      "Total Testing Acc: 83.2341\n",
      "Epoch: 115\n"
     ]
    },
    {
     "name": "stderr",
     "output_type": "stream",
     "text": [
      "\n",
      "100%|██████████| 188/188 [00:39<00:00,  4.82it/s]\n"
     ]
    },
    {
     "name": "stdout",
     "output_type": "stream",
     "text": [
      "Avg Training Loss: 0.079119, Acc: 99.6011\n"
     ]
    },
    {
     "name": "stderr",
     "output_type": "stream",
     "text": [
      "100%|██████████| 63/63 [00:04<00:00, 12.95it/s]\n"
     ]
    },
    {
     "name": "stdout",
     "output_type": "stream",
     "text": [
      "Total Validation Loss: 1.236794, Acc: 81.1508\n"
     ]
    },
    {
     "name": "stderr",
     "output_type": "stream",
     "text": [
      "100%|██████████| 63/63 [00:05<00:00, 12.19it/s]\n"
     ]
    },
    {
     "name": "stdout",
     "output_type": "stream",
     "text": [
      "Total Testing Acc: 81.5476\n",
      "Epoch: 116\n"
     ]
    },
    {
     "name": "stderr",
     "output_type": "stream",
     "text": [
      "100%|██████████| 188/188 [00:40<00:00,  4.59it/s]\n"
     ]
    },
    {
     "name": "stdout",
     "output_type": "stream",
     "text": [
      "Avg Training Loss: 0.083532, Acc: 99.4681\n"
     ]
    },
    {
     "name": "stderr",
     "output_type": "stream",
     "text": [
      "100%|██████████| 63/63 [00:06<00:00, 10.05it/s]"
     ]
    },
    {
     "name": "stdout",
     "output_type": "stream",
     "text": [
      "Total Validation Loss: 1.069882, Acc: 83.9782\n"
     ]
    },
    {
     "name": "stderr",
     "output_type": "stream",
     "text": [
      "\n",
      "100%|██████████| 63/63 [00:06<00:00,  9.36it/s]\n"
     ]
    },
    {
     "name": "stdout",
     "output_type": "stream",
     "text": [
      "Total Testing Acc: 83.1349\n",
      "Epoch: 117\n"
     ]
    },
    {
     "name": "stderr",
     "output_type": "stream",
     "text": [
      "100%|██████████| 188/188 [00:37<00:00,  4.96it/s]\n"
     ]
    },
    {
     "name": "stdout",
     "output_type": "stream",
     "text": [
      "Avg Training Loss: 0.075798, Acc: 99.6509\n"
     ]
    },
    {
     "name": "stderr",
     "output_type": "stream",
     "text": [
      "100%|██████████| 63/63 [00:04<00:00, 13.48it/s]\n"
     ]
    },
    {
     "name": "stdout",
     "output_type": "stream",
     "text": [
      "Total Validation Loss: 1.093094, Acc: 83.7302\n"
     ]
    },
    {
     "name": "stderr",
     "output_type": "stream",
     "text": [
      "100%|██████████| 63/63 [00:05<00:00, 12.31it/s]\n"
     ]
    },
    {
     "name": "stdout",
     "output_type": "stream",
     "text": [
      "Total Testing Acc: 84.4742\n",
      "Epoch: 118\n"
     ]
    },
    {
     "name": "stderr",
     "output_type": "stream",
     "text": [
      "100%|██████████| 188/188 [00:44<00:00,  4.20it/s]"
     ]
    },
    {
     "name": "stdout",
     "output_type": "stream",
     "text": [
      "Avg Training Loss: 0.071246, Acc: 99.7673\n"
     ]
    },
    {
     "name": "stderr",
     "output_type": "stream",
     "text": [
      "\n",
      "100%|██████████| 63/63 [00:05<00:00, 12.50it/s]\n"
     ]
    },
    {
     "name": "stdout",
     "output_type": "stream",
     "text": [
      "Total Validation Loss: 1.115570, Acc: 83.5317\n"
     ]
    },
    {
     "name": "stderr",
     "output_type": "stream",
     "text": [
      "100%|██████████| 63/63 [00:04<00:00, 12.60it/s]\n"
     ]
    },
    {
     "name": "stdout",
     "output_type": "stream",
     "text": [
      "Total Testing Acc: 83.9782\n",
      "Epoch: 119\n"
     ]
    },
    {
     "name": "stderr",
     "output_type": "stream",
     "text": [
      "100%|██████████| 188/188 [00:31<00:00,  5.97it/s]\n"
     ]
    },
    {
     "name": "stdout",
     "output_type": "stream",
     "text": [
      "Avg Training Loss: 0.073562, Acc: 99.6177\n"
     ]
    },
    {
     "name": "stderr",
     "output_type": "stream",
     "text": [
      "100%|██████████| 63/63 [00:04<00:00, 13.39it/s]\n"
     ]
    },
    {
     "name": "stdout",
     "output_type": "stream",
     "text": [
      "Total Validation Loss: 1.073094, Acc: 83.4821\n"
     ]
    },
    {
     "name": "stderr",
     "output_type": "stream",
     "text": [
      "100%|██████████| 63/63 [00:05<00:00, 12.48it/s]\n"
     ]
    },
    {
     "name": "stdout",
     "output_type": "stream",
     "text": [
      "Total Testing Acc: 83.6310\n",
      "Epoch: 120\n"
     ]
    },
    {
     "name": "stderr",
     "output_type": "stream",
     "text": [
      "100%|██████████| 188/188 [00:42<00:00,  4.43it/s]"
     ]
    },
    {
     "name": "stdout",
     "output_type": "stream",
     "text": [
      "Avg Training Loss: 0.076900, Acc: 99.5844\n"
     ]
    },
    {
     "name": "stderr",
     "output_type": "stream",
     "text": [
      "\n",
      "100%|██████████| 63/63 [00:05<00:00, 10.55it/s]\n"
     ]
    },
    {
     "name": "stdout",
     "output_type": "stream",
     "text": [
      "Total Validation Loss: 1.120524, Acc: 83.3333\n"
     ]
    },
    {
     "name": "stderr",
     "output_type": "stream",
     "text": [
      "100%|██████████| 63/63 [00:04<00:00, 15.22it/s]\n"
     ]
    },
    {
     "name": "stdout",
     "output_type": "stream",
     "text": [
      "Total Testing Acc: 83.2837\n",
      "Epoch: 121\n"
     ]
    },
    {
     "name": "stderr",
     "output_type": "stream",
     "text": [
      "100%|██████████| 188/188 [00:34<00:00,  5.53it/s]\n"
     ]
    },
    {
     "name": "stdout",
     "output_type": "stream",
     "text": [
      "Avg Training Loss: 0.077078, Acc: 99.6343\n"
     ]
    },
    {
     "name": "stderr",
     "output_type": "stream",
     "text": [
      "100%|██████████| 63/63 [00:08<00:00,  7.15it/s]\n"
     ]
    },
    {
     "name": "stdout",
     "output_type": "stream",
     "text": [
      "Total Validation Loss: 1.121443, Acc: 83.5317\n"
     ]
    },
    {
     "name": "stderr",
     "output_type": "stream",
     "text": [
      "100%|██████████| 63/63 [00:05<00:00, 10.88it/s]\n"
     ]
    },
    {
     "name": "stdout",
     "output_type": "stream",
     "text": [
      "Total Testing Acc: 83.7302\n",
      "Epoch: 122\n"
     ]
    },
    {
     "name": "stderr",
     "output_type": "stream",
     "text": [
      "100%|██████████| 188/188 [00:29<00:00,  6.36it/s]\n"
     ]
    },
    {
     "name": "stdout",
     "output_type": "stream",
     "text": [
      "Avg Training Loss: 0.084296, Acc: 99.3684\n"
     ]
    },
    {
     "name": "stderr",
     "output_type": "stream",
     "text": [
      "100%|██████████| 63/63 [00:05<00:00, 10.66it/s]\n"
     ]
    },
    {
     "name": "stdout",
     "output_type": "stream",
     "text": [
      "Total Validation Loss: 1.081405, Acc: 83.1349\n"
     ]
    },
    {
     "name": "stderr",
     "output_type": "stream",
     "text": [
      "100%|██████████| 63/63 [00:05<00:00, 10.80it/s]\n"
     ]
    },
    {
     "name": "stdout",
     "output_type": "stream",
     "text": [
      "Total Testing Acc: 82.3413\n",
      "Epoch: 123\n"
     ]
    },
    {
     "name": "stderr",
     "output_type": "stream",
     "text": [
      "100%|██████████| 188/188 [00:27<00:00,  6.88it/s]\n"
     ]
    },
    {
     "name": "stdout",
     "output_type": "stream",
     "text": [
      "Avg Training Loss: 0.075739, Acc: 99.7340\n"
     ]
    },
    {
     "name": "stderr",
     "output_type": "stream",
     "text": [
      "100%|██████████| 63/63 [00:06<00:00,  9.81it/s]"
     ]
    },
    {
     "name": "stdout",
     "output_type": "stream",
     "text": [
      "Total Validation Loss: 1.162118, Acc: 82.7381\n"
     ]
    },
    {
     "name": "stderr",
     "output_type": "stream",
     "text": [
      "\n",
      "100%|██████████| 63/63 [00:05<00:00, 10.88it/s]\n"
     ]
    },
    {
     "name": "stdout",
     "output_type": "stream",
     "text": [
      "Total Testing Acc: 83.2341\n",
      "Epoch: 124\n"
     ]
    },
    {
     "name": "stderr",
     "output_type": "stream",
     "text": [
      "100%|██████████| 188/188 [00:26<00:00,  7.03it/s]\n"
     ]
    },
    {
     "name": "stdout",
     "output_type": "stream",
     "text": [
      "Avg Training Loss: 0.068142, Acc: 99.7839\n"
     ]
    },
    {
     "name": "stderr",
     "output_type": "stream",
     "text": [
      "100%|██████████| 63/63 [00:05<00:00, 10.74it/s]\n"
     ]
    },
    {
     "name": "stdout",
     "output_type": "stream",
     "text": [
      "Total Validation Loss: 1.077998, Acc: 83.8294\n"
     ]
    },
    {
     "name": "stderr",
     "output_type": "stream",
     "text": [
      "100%|██████████| 63/63 [00:05<00:00, 10.84it/s]\n"
     ]
    },
    {
     "name": "stdout",
     "output_type": "stream",
     "text": [
      "Total Testing Acc: 82.6389\n",
      "Epoch: 125\n"
     ]
    },
    {
     "name": "stderr",
     "output_type": "stream",
     "text": [
      "100%|██████████| 188/188 [00:27<00:00,  6.95it/s]\n"
     ]
    },
    {
     "name": "stdout",
     "output_type": "stream",
     "text": [
      "Avg Training Loss: 0.074765, Acc: 99.6177\n"
     ]
    },
    {
     "name": "stderr",
     "output_type": "stream",
     "text": [
      "100%|██████████| 63/63 [00:05<00:00, 10.90it/s]\n"
     ]
    },
    {
     "name": "stdout",
     "output_type": "stream",
     "text": [
      "Total Validation Loss: 1.088108, Acc: 83.5813\n"
     ]
    },
    {
     "name": "stderr",
     "output_type": "stream",
     "text": [
      "100%|██████████| 63/63 [00:05<00:00, 11.75it/s]\n"
     ]
    },
    {
     "name": "stdout",
     "output_type": "stream",
     "text": [
      "Total Testing Acc: 85.1190\n",
      "Epoch: 126\n"
     ]
    },
    {
     "name": "stderr",
     "output_type": "stream",
     "text": [
      "100%|██████████| 188/188 [00:30<00:00,  6.21it/s]\n"
     ]
    },
    {
     "name": "stdout",
     "output_type": "stream",
     "text": [
      "Avg Training Loss: 0.076543, Acc: 99.5678\n"
     ]
    },
    {
     "name": "stderr",
     "output_type": "stream",
     "text": [
      "100%|██████████| 63/63 [00:05<00:00, 11.81it/s]\n"
     ]
    },
    {
     "name": "stdout",
     "output_type": "stream",
     "text": [
      "Total Validation Loss: 1.040086, Acc: 83.6310\n"
     ]
    },
    {
     "name": "stderr",
     "output_type": "stream",
     "text": [
      "100%|██████████| 63/63 [00:03<00:00, 18.51it/s]\n"
     ]
    },
    {
     "name": "stdout",
     "output_type": "stream",
     "text": [
      "Total Testing Acc: 82.8373\n",
      "Epoch: 127\n"
     ]
    },
    {
     "name": "stderr",
     "output_type": "stream",
     "text": [
      "100%|██████████| 188/188 [00:33<00:00,  5.62it/s]\n"
     ]
    },
    {
     "name": "stdout",
     "output_type": "stream",
     "text": [
      "Avg Training Loss: 0.065774, Acc: 99.8005\n"
     ]
    },
    {
     "name": "stderr",
     "output_type": "stream",
     "text": [
      "100%|██████████| 63/63 [00:03<00:00, 18.54it/s]\n"
     ]
    },
    {
     "name": "stdout",
     "output_type": "stream",
     "text": [
      "Total Validation Loss: 1.086304, Acc: 83.8790\n"
     ]
    },
    {
     "name": "stderr",
     "output_type": "stream",
     "text": [
      "100%|██████████| 63/63 [00:03<00:00, 18.64it/s]\n"
     ]
    },
    {
     "name": "stdout",
     "output_type": "stream",
     "text": [
      "Total Testing Acc: 83.6806\n",
      "Epoch: 128\n"
     ]
    },
    {
     "name": "stderr",
     "output_type": "stream",
     "text": [
      "100%|██████████| 188/188 [00:34<00:00,  5.52it/s]\n"
     ]
    },
    {
     "name": "stdout",
     "output_type": "stream",
     "text": [
      "Avg Training Loss: 0.069065, Acc: 99.6343\n"
     ]
    },
    {
     "name": "stderr",
     "output_type": "stream",
     "text": [
      "100%|██████████| 63/63 [00:03<00:00, 18.27it/s]\n"
     ]
    },
    {
     "name": "stdout",
     "output_type": "stream",
     "text": [
      "Total Validation Loss: 1.037003, Acc: 83.5317\n"
     ]
    },
    {
     "name": "stderr",
     "output_type": "stream",
     "text": [
      "100%|██████████| 63/63 [00:04<00:00, 14.22it/s]\n"
     ]
    },
    {
     "name": "stdout",
     "output_type": "stream",
     "text": [
      "Total Testing Acc: 83.9286\n",
      "Epoch: 129\n"
     ]
    },
    {
     "name": "stderr",
     "output_type": "stream",
     "text": [
      "100%|██████████| 188/188 [00:31<00:00,  5.90it/s]\n"
     ]
    },
    {
     "name": "stdout",
     "output_type": "stream",
     "text": [
      "Avg Training Loss: 0.068758, Acc: 99.6676\n"
     ]
    },
    {
     "name": "stderr",
     "output_type": "stream",
     "text": [
      "100%|██████████| 63/63 [00:04<00:00, 13.06it/s]"
     ]
    },
    {
     "name": "stdout",
     "output_type": "stream",
     "text": [
      "Total Validation Loss: 1.105305, Acc: 83.4325\n"
     ]
    },
    {
     "name": "stderr",
     "output_type": "stream",
     "text": [
      "\n",
      "100%|██████████| 63/63 [00:05<00:00, 10.85it/s]\n"
     ]
    },
    {
     "name": "stdout",
     "output_type": "stream",
     "text": [
      "Total Testing Acc: 83.8294\n",
      "Epoch: 130\n"
     ]
    },
    {
     "name": "stderr",
     "output_type": "stream",
     "text": [
      "100%|██████████| 188/188 [00:26<00:00,  7.01it/s]\n"
     ]
    },
    {
     "name": "stdout",
     "output_type": "stream",
     "text": [
      "Avg Training Loss: 0.069986, Acc: 99.6011\n"
     ]
    },
    {
     "name": "stderr",
     "output_type": "stream",
     "text": [
      "100%|██████████| 63/63 [00:05<00:00, 10.87it/s]\n"
     ]
    },
    {
     "name": "stdout",
     "output_type": "stream",
     "text": [
      "Total Validation Loss: 1.209377, Acc: 81.7956\n"
     ]
    },
    {
     "name": "stderr",
     "output_type": "stream",
     "text": [
      "100%|██████████| 63/63 [00:05<00:00, 10.85it/s]\n"
     ]
    },
    {
     "name": "stdout",
     "output_type": "stream",
     "text": [
      "Total Testing Acc: 82.8869\n",
      "Epoch: 131\n"
     ]
    },
    {
     "name": "stderr",
     "output_type": "stream",
     "text": [
      "100%|██████████| 188/188 [00:26<00:00,  6.97it/s]\n"
     ]
    },
    {
     "name": "stdout",
     "output_type": "stream",
     "text": [
      "Avg Training Loss: 0.078020, Acc: 99.4515\n"
     ]
    },
    {
     "name": "stderr",
     "output_type": "stream",
     "text": [
      "100%|██████████| 63/63 [00:05<00:00, 10.73it/s]\n"
     ]
    },
    {
     "name": "stdout",
     "output_type": "stream",
     "text": [
      "Total Validation Loss: 1.144873, Acc: 82.2421\n"
     ]
    },
    {
     "name": "stderr",
     "output_type": "stream",
     "text": [
      "100%|██████████| 63/63 [00:05<00:00, 10.89it/s]\n"
     ]
    },
    {
     "name": "stdout",
     "output_type": "stream",
     "text": [
      "Total Testing Acc: 82.4901\n",
      "Epoch: 132\n"
     ]
    },
    {
     "name": "stderr",
     "output_type": "stream",
     "text": [
      "100%|██████████| 188/188 [00:29<00:00,  6.40it/s]\n"
     ]
    },
    {
     "name": "stdout",
     "output_type": "stream",
     "text": [
      "Avg Training Loss: 0.068375, Acc: 99.7174\n"
     ]
    },
    {
     "name": "stderr",
     "output_type": "stream",
     "text": [
      "100%|██████████| 63/63 [00:04<00:00, 14.46it/s]\n"
     ]
    },
    {
     "name": "stdout",
     "output_type": "stream",
     "text": [
      "Total Validation Loss: 1.001163, Acc: 83.7798\n"
     ]
    },
    {
     "name": "stderr",
     "output_type": "stream",
     "text": [
      "100%|██████████| 63/63 [00:04<00:00, 15.10it/s]"
     ]
    },
    {
     "name": "stdout",
     "output_type": "stream",
     "text": [
      "Total Testing Acc: 84.0774\n",
      "Epoch: 133\n"
     ]
    },
    {
     "name": "stderr",
     "output_type": "stream",
     "text": [
      "\n",
      "100%|██████████| 188/188 [00:35<00:00,  5.37it/s]\n"
     ]
    },
    {
     "name": "stdout",
     "output_type": "stream",
     "text": [
      "Avg Training Loss: 0.066490, Acc: 99.7673\n"
     ]
    },
    {
     "name": "stderr",
     "output_type": "stream",
     "text": [
      "100%|██████████| 63/63 [00:05<00:00, 11.05it/s]\n"
     ]
    },
    {
     "name": "stdout",
     "output_type": "stream",
     "text": [
      "Total Validation Loss: 1.033186, Acc: 83.6310\n"
     ]
    },
    {
     "name": "stderr",
     "output_type": "stream",
     "text": [
      "100%|██████████| 63/63 [00:05<00:00, 10.92it/s]\n"
     ]
    },
    {
     "name": "stdout",
     "output_type": "stream",
     "text": [
      "Total Testing Acc: 83.3333\n",
      "Epoch: 134\n"
     ]
    },
    {
     "name": "stderr",
     "output_type": "stream",
     "text": [
      "100%|██████████| 188/188 [00:26<00:00,  7.06it/s]\n"
     ]
    },
    {
     "name": "stdout",
     "output_type": "stream",
     "text": [
      "Avg Training Loss: 0.066947, Acc: 99.8172\n"
     ]
    },
    {
     "name": "stderr",
     "output_type": "stream",
     "text": [
      "100%|██████████| 63/63 [00:04<00:00, 13.64it/s]"
     ]
    },
    {
     "name": "stdout",
     "output_type": "stream",
     "text": [
      "Total Validation Loss: 1.119604, Acc: 83.9782\n"
     ]
    },
    {
     "name": "stderr",
     "output_type": "stream",
     "text": [
      "\n",
      "100%|██████████| 63/63 [00:05<00:00, 12.02it/s]"
     ]
    },
    {
     "name": "stdout",
     "output_type": "stream",
     "text": [
      "Total Testing Acc: 83.0853\n",
      "Epoch: 135\n"
     ]
    },
    {
     "name": "stderr",
     "output_type": "stream",
     "text": [
      "\n",
      "100%|██████████| 188/188 [00:18<00:00,  9.95it/s]\n"
     ]
    },
    {
     "name": "stdout",
     "output_type": "stream",
     "text": [
      "Avg Training Loss: 0.064792, Acc: 99.7507\n"
     ]
    },
    {
     "name": "stderr",
     "output_type": "stream",
     "text": [
      "100%|██████████| 63/63 [00:04<00:00, 13.33it/s]"
     ]
    },
    {
     "name": "stdout",
     "output_type": "stream",
     "text": [
      "Total Validation Loss: 1.099672, Acc: 83.9782\n"
     ]
    },
    {
     "name": "stderr",
     "output_type": "stream",
     "text": [
      "\n",
      "100%|██████████| 63/63 [00:05<00:00, 10.80it/s]\n"
     ]
    },
    {
     "name": "stdout",
     "output_type": "stream",
     "text": [
      "Total Testing Acc: 84.0278\n",
      "Epoch: 136\n"
     ]
    },
    {
     "name": "stderr",
     "output_type": "stream",
     "text": [
      "100%|██████████| 188/188 [00:27<00:00,  6.85it/s]\n"
     ]
    },
    {
     "name": "stdout",
     "output_type": "stream",
     "text": [
      "Avg Training Loss: 0.068350, Acc: 99.6177\n"
     ]
    },
    {
     "name": "stderr",
     "output_type": "stream",
     "text": [
      "100%|██████████| 63/63 [00:05<00:00, 10.85it/s]\n"
     ]
    },
    {
     "name": "stdout",
     "output_type": "stream",
     "text": [
      "Total Validation Loss: 1.213177, Acc: 82.2917\n"
     ]
    },
    {
     "name": "stderr",
     "output_type": "stream",
     "text": [
      "100%|██████████| 63/63 [00:04<00:00, 12.95it/s]\n"
     ]
    },
    {
     "name": "stdout",
     "output_type": "stream",
     "text": [
      "Total Testing Acc: 82.8869\n",
      "Epoch: 137\n"
     ]
    },
    {
     "name": "stderr",
     "output_type": "stream",
     "text": [
      "100%|██████████| 188/188 [00:27<00:00,  6.95it/s]\n"
     ]
    },
    {
     "name": "stdout",
     "output_type": "stream",
     "text": [
      "Avg Training Loss: 0.068904, Acc: 99.5346\n"
     ]
    },
    {
     "name": "stderr",
     "output_type": "stream",
     "text": [
      "100%|██████████| 63/63 [00:04<00:00, 14.65it/s]\n"
     ]
    },
    {
     "name": "stdout",
     "output_type": "stream",
     "text": [
      "Total Validation Loss: 1.030081, Acc: 82.9861\n"
     ]
    },
    {
     "name": "stderr",
     "output_type": "stream",
     "text": [
      "100%|██████████| 63/63 [00:05<00:00, 11.33it/s]"
     ]
    },
    {
     "name": "stdout",
     "output_type": "stream",
     "text": [
      "Total Testing Acc: 84.2758\n",
      "Epoch: 138\n"
     ]
    },
    {
     "name": "stderr",
     "output_type": "stream",
     "text": [
      "\n",
      "100%|██████████| 188/188 [00:27<00:00,  6.90it/s]\n"
     ]
    },
    {
     "name": "stdout",
     "output_type": "stream",
     "text": [
      "Avg Training Loss: 0.066037, Acc: 99.6343\n"
     ]
    },
    {
     "name": "stderr",
     "output_type": "stream",
     "text": [
      "100%|██████████| 63/63 [00:05<00:00, 11.87it/s]\n"
     ]
    },
    {
     "name": "stdout",
     "output_type": "stream",
     "text": [
      "Total Validation Loss: 1.068202, Acc: 84.3750\n"
     ]
    },
    {
     "name": "stderr",
     "output_type": "stream",
     "text": [
      "100%|██████████| 63/63 [00:04<00:00, 14.62it/s]\n"
     ]
    },
    {
     "name": "stdout",
     "output_type": "stream",
     "text": [
      "Total Testing Acc: 84.5734\n",
      "Epoch: 139\n"
     ]
    },
    {
     "name": "stderr",
     "output_type": "stream",
     "text": [
      "100%|██████████| 188/188 [00:27<00:00,  6.72it/s]\n"
     ]
    },
    {
     "name": "stdout",
     "output_type": "stream",
     "text": [
      "Avg Training Loss: 0.067887, Acc: 99.7008\n"
     ]
    },
    {
     "name": "stderr",
     "output_type": "stream",
     "text": [
      "100%|██████████| 63/63 [00:04<00:00, 14.70it/s]\n"
     ]
    },
    {
     "name": "stdout",
     "output_type": "stream",
     "text": [
      "Total Validation Loss: 1.099267, Acc: 82.2917\n"
     ]
    },
    {
     "name": "stderr",
     "output_type": "stream",
     "text": [
      "100%|██████████| 63/63 [00:05<00:00, 10.86it/s]\n"
     ]
    },
    {
     "name": "stdout",
     "output_type": "stream",
     "text": [
      "Total Testing Acc: 83.4325\n",
      "Epoch: 140\n"
     ]
    },
    {
     "name": "stderr",
     "output_type": "stream",
     "text": [
      "100%|██████████| 188/188 [00:26<00:00,  7.02it/s]\n"
     ]
    },
    {
     "name": "stdout",
     "output_type": "stream",
     "text": [
      "Avg Training Loss: 0.069973, Acc: 99.5180\n"
     ]
    },
    {
     "name": "stderr",
     "output_type": "stream",
     "text": [
      "100%|██████████| 63/63 [00:04<00:00, 14.98it/s]\n"
     ]
    },
    {
     "name": "stdout",
     "output_type": "stream",
     "text": [
      "Total Validation Loss: 1.088098, Acc: 82.8869\n"
     ]
    },
    {
     "name": "stderr",
     "output_type": "stream",
     "text": [
      "100%|██████████| 63/63 [00:03<00:00, 16.03it/s]\n"
     ]
    },
    {
     "name": "stdout",
     "output_type": "stream",
     "text": [
      "Total Testing Acc: 83.6310\n",
      "Epoch: 141\n"
     ]
    },
    {
     "name": "stderr",
     "output_type": "stream",
     "text": [
      "100%|██████████| 188/188 [00:28<00:00,  6.57it/s]\n"
     ]
    },
    {
     "name": "stdout",
     "output_type": "stream",
     "text": [
      "Avg Training Loss: 0.066388, Acc: 99.8005\n"
     ]
    },
    {
     "name": "stderr",
     "output_type": "stream",
     "text": [
      "100%|██████████| 63/63 [00:05<00:00, 11.20it/s]"
     ]
    },
    {
     "name": "stdout",
     "output_type": "stream",
     "text": [
      "Total Validation Loss: 1.029809, Acc: 85.2679\n"
     ]
    },
    {
     "name": "stderr",
     "output_type": "stream",
     "text": [
      "\n",
      "100%|██████████| 63/63 [00:05<00:00, 11.25it/s]"
     ]
    },
    {
     "name": "stdout",
     "output_type": "stream",
     "text": [
      "Total Testing Acc: 84.0774\n",
      "Epoch: 142\n"
     ]
    },
    {
     "name": "stderr",
     "output_type": "stream",
     "text": [
      "\n",
      "100%|██████████| 188/188 [00:25<00:00,  7.42it/s]\n"
     ]
    },
    {
     "name": "stdout",
     "output_type": "stream",
     "text": [
      "Avg Training Loss: 0.061261, Acc: 99.7340\n"
     ]
    },
    {
     "name": "stderr",
     "output_type": "stream",
     "text": [
      "100%|██████████| 63/63 [00:03<00:00, 18.38it/s]"
     ]
    },
    {
     "name": "stdout",
     "output_type": "stream",
     "text": [
      "Total Validation Loss: 1.078997, Acc: 83.5813\n"
     ]
    },
    {
     "name": "stderr",
     "output_type": "stream",
     "text": [
      "\n",
      "100%|██████████| 63/63 [00:03<00:00, 17.85it/s]\n"
     ]
    },
    {
     "name": "stdout",
     "output_type": "stream",
     "text": [
      "Total Testing Acc: 83.5317\n",
      "Epoch: 143\n"
     ]
    },
    {
     "name": "stderr",
     "output_type": "stream",
     "text": [
      "100%|██████████| 188/188 [00:28<00:00,  6.67it/s]\n"
     ]
    },
    {
     "name": "stdout",
     "output_type": "stream",
     "text": [
      "Avg Training Loss: 0.064293, Acc: 99.6676\n"
     ]
    },
    {
     "name": "stderr",
     "output_type": "stream",
     "text": [
      "100%|██████████| 63/63 [00:04<00:00, 13.04it/s]\n"
     ]
    },
    {
     "name": "stdout",
     "output_type": "stream",
     "text": [
      "Total Validation Loss: 1.080310, Acc: 83.8790\n"
     ]
    },
    {
     "name": "stderr",
     "output_type": "stream",
     "text": [
      "100%|██████████| 63/63 [00:05<00:00, 10.83it/s]\n"
     ]
    },
    {
     "name": "stdout",
     "output_type": "stream",
     "text": [
      "Total Testing Acc: 84.9702\n",
      "Epoch: 144\n"
     ]
    },
    {
     "name": "stderr",
     "output_type": "stream",
     "text": [
      "100%|██████████| 188/188 [00:26<00:00,  7.18it/s]\n"
     ]
    },
    {
     "name": "stdout",
     "output_type": "stream",
     "text": [
      "Avg Training Loss: 0.062617, Acc: 99.8338\n"
     ]
    },
    {
     "name": "stderr",
     "output_type": "stream",
     "text": [
      "100%|██████████| 63/63 [00:03<00:00, 18.50it/s]"
     ]
    },
    {
     "name": "stdout",
     "output_type": "stream",
     "text": [
      "Total Validation Loss: 1.079370, Acc: 84.5734\n"
     ]
    },
    {
     "name": "stderr",
     "output_type": "stream",
     "text": [
      "\n",
      "100%|██████████| 63/63 [00:03<00:00, 18.34it/s]\n"
     ]
    },
    {
     "name": "stdout",
     "output_type": "stream",
     "text": [
      "Total Testing Acc: 84.3750\n",
      "Epoch: 145\n"
     ]
    },
    {
     "name": "stderr",
     "output_type": "stream",
     "text": [
      "100%|██████████| 188/188 [00:26<00:00,  7.02it/s]\n"
     ]
    },
    {
     "name": "stdout",
     "output_type": "stream",
     "text": [
      "Avg Training Loss: 0.058647, Acc: 99.7507\n"
     ]
    },
    {
     "name": "stderr",
     "output_type": "stream",
     "text": [
      "100%|██████████| 63/63 [00:04<00:00, 12.97it/s]\n"
     ]
    },
    {
     "name": "stdout",
     "output_type": "stream",
     "text": [
      "Total Validation Loss: 1.215379, Acc: 82.3413\n"
     ]
    },
    {
     "name": "stderr",
     "output_type": "stream",
     "text": [
      "100%|██████████| 63/63 [00:05<00:00, 11.83it/s]\n"
     ]
    },
    {
     "name": "stdout",
     "output_type": "stream",
     "text": [
      "Total Testing Acc: 83.5813\n",
      "Epoch: 146\n"
     ]
    },
    {
     "name": "stderr",
     "output_type": "stream",
     "text": [
      "100%|██████████| 188/188 [00:20<00:00,  9.19it/s]\n"
     ]
    },
    {
     "name": "stdout",
     "output_type": "stream",
     "text": [
      "Avg Training Loss: 0.056451, Acc: 99.7673\n"
     ]
    },
    {
     "name": "stderr",
     "output_type": "stream",
     "text": [
      "100%|██████████| 63/63 [00:05<00:00, 10.98it/s]\n"
     ]
    },
    {
     "name": "stdout",
     "output_type": "stream",
     "text": [
      "Total Validation Loss: 1.185435, Acc: 83.7302\n"
     ]
    },
    {
     "name": "stderr",
     "output_type": "stream",
     "text": [
      "100%|██████████| 63/63 [00:05<00:00, 11.04it/s]\n"
     ]
    },
    {
     "name": "stdout",
     "output_type": "stream",
     "text": [
      "Total Testing Acc: 82.5397\n",
      "Epoch: 147\n"
     ]
    },
    {
     "name": "stderr",
     "output_type": "stream",
     "text": [
      "100%|██████████| 188/188 [00:21<00:00,  8.63it/s]\n"
     ]
    },
    {
     "name": "stdout",
     "output_type": "stream",
     "text": [
      "Avg Training Loss: 0.062370, Acc: 99.7008\n"
     ]
    },
    {
     "name": "stderr",
     "output_type": "stream",
     "text": [
      "100%|██████████| 63/63 [00:04<00:00, 14.57it/s]\n"
     ]
    },
    {
     "name": "stdout",
     "output_type": "stream",
     "text": [
      "Total Validation Loss: 1.134807, Acc: 82.2421\n"
     ]
    },
    {
     "name": "stderr",
     "output_type": "stream",
     "text": [
      "100%|██████████| 63/63 [00:04<00:00, 15.02it/s]\n"
     ]
    },
    {
     "name": "stdout",
     "output_type": "stream",
     "text": [
      "Total Testing Acc: 83.0357\n",
      "Epoch: 148\n"
     ]
    },
    {
     "name": "stderr",
     "output_type": "stream",
     "text": [
      "100%|██████████| 188/188 [00:24<00:00,  7.53it/s]\n"
     ]
    },
    {
     "name": "stdout",
     "output_type": "stream",
     "text": [
      "Avg Training Loss: 0.065689, Acc: 99.5512\n"
     ]
    },
    {
     "name": "stderr",
     "output_type": "stream",
     "text": [
      "100%|██████████| 63/63 [00:03<00:00, 17.15it/s]\n"
     ]
    },
    {
     "name": "stdout",
     "output_type": "stream",
     "text": [
      "Total Validation Loss: 1.178828, Acc: 82.1925\n"
     ]
    },
    {
     "name": "stderr",
     "output_type": "stream",
     "text": [
      "100%|██████████| 63/63 [00:03<00:00, 18.09it/s]\n"
     ]
    },
    {
     "name": "stdout",
     "output_type": "stream",
     "text": [
      "Total Testing Acc: 83.1845\n",
      "Epoch: 149\n"
     ]
    },
    {
     "name": "stderr",
     "output_type": "stream",
     "text": [
      "100%|██████████| 188/188 [00:28<00:00,  6.61it/s]\n"
     ]
    },
    {
     "name": "stdout",
     "output_type": "stream",
     "text": [
      "Avg Training Loss: 0.060611, Acc: 99.7340\n"
     ]
    },
    {
     "name": "stderr",
     "output_type": "stream",
     "text": [
      "100%|██████████| 63/63 [00:03<00:00, 15.95it/s]"
     ]
    },
    {
     "name": "stdout",
     "output_type": "stream",
     "text": [
      "Total Validation Loss: 1.095372, Acc: 83.8790\n"
     ]
    },
    {
     "name": "stderr",
     "output_type": "stream",
     "text": [
      "\n",
      "100%|██████████| 63/63 [00:05<00:00, 10.87it/s]\n"
     ]
    },
    {
     "name": "stdout",
     "output_type": "stream",
     "text": [
      "Total Testing Acc: 85.1190\n"
     ]
    }
   ],
   "source": [
    "args = {\n",
    "    'model': 'WReN',\n",
    "    'm': m\n",
    "}\n",
    "model = WReN(args).to(cuda)\n",
    "\n",
    "\n",
    "def train(epoch):\n",
    "    model.train()\n",
    "    train_loss = 0\n",
    "    accuracy = 0\n",
    "\n",
    "    loss_all = 0.0\n",
    "    acc_all = 0.0\n",
    "    counter = 0\n",
    "    train_iter = iter(trainloader)\n",
    "    for _ in tqdm(range(len(train_iter))):\n",
    "        counter += 1\n",
    "        image, target, meta_target = next(train_iter)\n",
    "        if cuda:\n",
    "            image = image.to(cuda)\n",
    "            target = target.to(cuda)\n",
    "            meta_target = meta_target.to(cuda)\n",
    "        loss, acc = model.train_(image, target, meta_target)\n",
    "        # print('Train: Epoch:{}, Batch:{}, Loss:{:.6f}, Acc:{:.4f}.'.format(epoch, batch_idx, loss, acc))\n",
    "        loss_all += loss\n",
    "        acc_all += acc\n",
    "    if counter > 0:\n",
    "        print(\"Avg Training Loss: {:.6f}, Acc: {:.4f}\".format(loss_all/float(counter), acc_all/float(counter)))\n",
    "    return loss_all/float(counter), acc_all/float(counter)\n",
    "\n",
    "def validate(epoch):\n",
    "    model.eval()\n",
    "    val_loss = 0\n",
    "    accuracy = 0\n",
    "\n",
    "    loss_all = 0.0\n",
    "    acc_all = 0.0\n",
    "    loss_all = 0.0\n",
    "    counter = 0\n",
    "    valid_iter = iter(validloader)\n",
    "    for _ in tqdm(range(len(valid_iter))):\n",
    "        counter += 1\n",
    "        image, target, meta_target = next(valid_iter)\n",
    "\n",
    "        if cuda:\n",
    "            image = image.to(cuda)\n",
    "            target = target.to(cuda)\n",
    "            meta_target = meta_target.to(cuda)\n",
    "        loss, acc = model.validate_(image, target, meta_target)\n",
    "        # print('Validate: Epoch:{}, Batch:{}, Loss:{:.6f}, Acc:{:.4f}.'.format(epoch, batch_idx, loss, acc)) \n",
    "        loss_all += loss\n",
    "        acc_all += acc\n",
    "        loss_all += loss\n",
    "    if counter > 0:\n",
    "        print(\"Total Validation Loss: {:.6f}, Acc: {:.4f}\".format(loss_all/float(counter), acc_all/float(counter)))\n",
    "    return loss_all/float(counter), acc_all/float(counter)\n",
    "   \n",
    "def test(epoch):\n",
    "    model.eval()\n",
    "    accuracy = 0\n",
    "\n",
    "    acc_all = 0.0\n",
    "    counter = 0\n",
    "    test_iter = iter(testloader)\n",
    "    for _ in tqdm(range(len(test_iter))):\n",
    "        counter += 1\n",
    "        image, target, meta_target = next(test_iter)\n",
    "        if cuda:\n",
    "            image = image.to(cuda)\n",
    "            target = target.to(cuda)\n",
    "            meta_target = meta_target.to(cuda)\n",
    "        acc = model.test_(image, target, meta_target)\n",
    "        # print('Test: Epoch:{}, Batch:{}, Acc:{:.4f}.'.format(epoch, batch_idx, acc))  \n",
    "        acc_all += acc\n",
    "    if counter > 0:\n",
    "        print(\"Total Testing Acc: {:.4f}\".format(acc_all / float(counter)))\n",
    "    return acc_all/float(counter)\n",
    "\n",
    "\n",
    "def main():\n",
    "    pp = pprint.PrettyPrinter(indent=4)\n",
    "    training_dict = {}\n",
    "    validation_dict = {}\n",
    "    testing_dict = {}\n",
    "    best_val_loss = float('inf')\n",
    "    for e in range(0, epoch):\n",
    "        print(\"Epoch: \" + str(e))\n",
    "        training_dict[e] = {}\n",
    "        validation_dict[e] = {}\n",
    "        testing_dict[e] = {}\n",
    "\n",
    "        train_loss, train_acc = train(e)\n",
    "        training_dict[e]['train_loss'] = train_loss\n",
    "        training_dict[e]['train_acc'] = train_acc\n",
    "\n",
    "        val_loss, val_acc = validate(e)\n",
    "        validation_dict[e]['val_loss'] = val_loss\n",
    "        validation_dict[e]['val_acc'] = val_acc\n",
    "\n",
    "        test_acc = test(e)\n",
    "        testing_dict[e]['test_acc'] = test_acc\n",
    "        \"\"\"\n",
    "        # early stopping \n",
    "        if e > 0: \n",
    "            if val_loss <= best_val_loss: \n",
    "                best_val_loss = val_loss\n",
    "                best_epoch = e\n",
    "                es = 0\n",
    "                torch.save(model.state_dict(), \"model_\" + str(e) + 'weight.pt')\n",
    "            else:\n",
    "                es += 1\n",
    "                print(\"Counter {} of 10\".format(es))\n",
    "                # patience\n",
    "                if es > 9: \n",
    "                    print(\"Early stopping with minimized val loss: \", best_val_loss, \"and val_loss for this epoch: \", val_loss, \"...\")\n",
    "                    break \n",
    "\n",
    "        loss = {'train':train_loss, 'val':val_loss}\n",
    "        acc = {'train':train_acc, 'val':val_acc, 'test':test_acc}\n",
    "        \"\"\"\n",
    "        #log.write_scalars('Loss', loss, e)\n",
    "        #log.write_scalars('Accuracy', acc, e)\n",
    "    return training_dict, validation_dict, testing_dict, best_epoch  \n",
    "training_dict, validation_dict, testing_dict, best_epoch = main()"
   ]
  },
  {
   "cell_type": "code",
   "execution_count": 14,
   "metadata": {
    "colab": {
     "base_uri": "https://localhost:8080/"
    },
    "id": "sWSf4yNLTC52",
    "outputId": "2ca5cef4-09dd-460d-f708-0a690f62466d",
    "scrolled": true
   },
   "outputs": [
    {
     "name": "stdout",
     "output_type": "stream",
     "text": [
      "tensor([[[[ 0.1295,  0.6878],\n",
      "          [ 0.3041,  0.3448],\n",
      "          [ 1.1172,  0.8100]],\n",
      "\n",
      "         [[ 0.1883,  0.7154],\n",
      "          [ 2.0901, -0.0665],\n",
      "          [-0.7403,  0.9051]],\n",
      "\n",
      "         [[ 0.7616,  1.2788],\n",
      "          [-3.1373,  0.4493],\n",
      "          [ 1.1651, -1.2595]]]])\n",
      "tensor([[[[ 0.1295,  0.6878],\n",
      "          [ 0.1883,  0.7154],\n",
      "          [ 0.7616,  1.2788]],\n",
      "\n",
      "         [[ 0.3041,  0.3448],\n",
      "          [ 2.0901, -0.0665],\n",
      "          [-3.1373,  0.4493]],\n",
      "\n",
      "         [[ 1.1172,  0.8100],\n",
      "          [-0.7403,  0.9051],\n",
      "          [ 1.1651, -1.2595]]]])\n",
      "tensor([[[[ 0.1295,  0.6878,  0.1295,  0.6878],\n",
      "          [ 0.3041,  0.3448,  0.3041,  0.3448],\n",
      "          [ 1.1172,  0.8100,  1.1172,  0.8100]],\n",
      "\n",
      "         [[ 0.1883,  0.7154,  0.1883,  0.7154],\n",
      "          [ 2.0901, -0.0665,  2.0901, -0.0665],\n",
      "          [-0.7403,  0.9051, -0.7403,  0.9051]],\n",
      "\n",
      "         [[ 0.7616,  1.2788,  0.7616,  1.2788],\n",
      "          [-3.1373,  0.4493, -3.1373,  0.4493],\n",
      "          [ 1.1651, -1.2595,  1.1651, -1.2595]],\n",
      "\n",
      "         [[ 0.7616,  1.2788,  0.1295,  0.6878],\n",
      "          [-3.1373,  0.4493,  0.3041,  0.3448],\n",
      "          [ 1.1651, -1.2595,  1.1172,  0.8100]],\n",
      "\n",
      "         [[ 0.1295,  0.6878,  0.1883,  0.7154],\n",
      "          [ 0.3041,  0.3448,  2.0901, -0.0665],\n",
      "          [ 1.1172,  0.8100, -0.7403,  0.9051]],\n",
      "\n",
      "         [[ 0.1883,  0.7154,  0.7616,  1.2788],\n",
      "          [ 2.0901, -0.0665, -3.1373,  0.4493],\n",
      "          [-0.7403,  0.9051,  1.1651, -1.2595]],\n",
      "\n",
      "         [[ 0.7616,  1.2788,  0.1883,  0.7154],\n",
      "          [-3.1373,  0.4493,  2.0901, -0.0665],\n",
      "          [ 1.1651, -1.2595, -0.7403,  0.9051]],\n",
      "\n",
      "         [[ 0.1295,  0.6878,  0.7616,  1.2788],\n",
      "          [ 0.3041,  0.3448, -3.1373,  0.4493],\n",
      "          [ 1.1172,  0.8100,  1.1651, -1.2595]],\n",
      "\n",
      "         [[ 0.1883,  0.7154,  0.1295,  0.6878],\n",
      "          [ 2.0901, -0.0665,  0.3041,  0.3448],\n",
      "          [-0.7403,  0.9051,  1.1172,  0.8100]],\n",
      "\n",
      "         [[ 0.1295,  0.6878,  0.1295,  0.6878],\n",
      "          [ 0.1883,  0.7154,  0.1883,  0.7154],\n",
      "          [ 0.7616,  1.2788,  0.7616,  1.2788]],\n",
      "\n",
      "         [[ 0.3041,  0.3448,  0.3041,  0.3448],\n",
      "          [ 2.0901, -0.0665,  2.0901, -0.0665],\n",
      "          [-3.1373,  0.4493, -3.1373,  0.4493]],\n",
      "\n",
      "         [[ 1.1172,  0.8100,  1.1172,  0.8100],\n",
      "          [-0.7403,  0.9051, -0.7403,  0.9051],\n",
      "          [ 1.1651, -1.2595,  1.1651, -1.2595]],\n",
      "\n",
      "         [[ 1.1172,  0.8100,  0.1295,  0.6878],\n",
      "          [-0.7403,  0.9051,  0.1883,  0.7154],\n",
      "          [ 1.1651, -1.2595,  0.7616,  1.2788]],\n",
      "\n",
      "         [[ 0.1295,  0.6878,  0.3041,  0.3448],\n",
      "          [ 0.1883,  0.7154,  2.0901, -0.0665],\n",
      "          [ 0.7616,  1.2788, -3.1373,  0.4493]],\n",
      "\n",
      "         [[ 0.3041,  0.3448,  1.1172,  0.8100],\n",
      "          [ 2.0901, -0.0665, -0.7403,  0.9051],\n",
      "          [-3.1373,  0.4493,  1.1651, -1.2595]],\n",
      "\n",
      "         [[ 1.1172,  0.8100,  0.3041,  0.3448],\n",
      "          [-0.7403,  0.9051,  2.0901, -0.0665],\n",
      "          [ 1.1651, -1.2595, -3.1373,  0.4493]],\n",
      "\n",
      "         [[ 0.1295,  0.6878,  1.1172,  0.8100],\n",
      "          [ 0.1883,  0.7154, -0.7403,  0.9051],\n",
      "          [ 0.7616,  1.2788,  1.1651, -1.2595]],\n",
      "\n",
      "         [[ 0.3041,  0.3448,  0.1295,  0.6878],\n",
      "          [ 2.0901, -0.0665,  0.1883,  0.7154],\n",
      "          [-3.1373,  0.4493,  0.7616,  1.2788]]]])\n",
      "torch.Size([1, 18, 3, 4])\n"
     ]
    }
   ],
   "source": [
    "## experimentation\n",
    "\n",
    "x = torch.randn(1,3,3,2)\n",
    "print(x)\n",
    "y = torch.roll(x,1,1)\n",
    "z = torch.roll(y,1,1)\n",
    "a = x.transpose(1,2)\n",
    "print(a)\n",
    "b = torch.roll(a,1,1)\n",
    "c = torch.roll(b,1,1)\n",
    "w = torch.cat((torch.cat((x,x),3), torch.cat((y,x),3), torch.cat((y,z),3), torch.cat((a,a),3), torch.cat((b,a),3), torch.cat((b,c),3)),1)\n",
    "print(w)\n",
    "print(w.shape)"
   ]
  },
  {
   "cell_type": "code",
   "execution_count": 15,
   "metadata": {
    "id": "BS6skAYIUPKv"
   },
   "outputs": [
    {
     "name": "stdout",
     "output_type": "stream",
     "text": [
      "tensor([[1, 2, 3, 1, 2, 3],\n",
      "        [4, 5, 6, 4, 5, 6],\n",
      "        [7, 8, 9, 7, 8, 9],\n",
      "        [7, 8, 9, 1, 2, 3],\n",
      "        [1, 2, 3, 4, 5, 6],\n",
      "        [4, 5, 6, 7, 8, 9],\n",
      "        [1, 2, 3, 4, 5, 6],\n",
      "        [4, 5, 6, 7, 8, 9],\n",
      "        [7, 8, 9, 1, 2, 3]])\n"
     ]
    }
   ],
   "source": [
    "## experimentation\n",
    "x = torch.tensor([[1,2,3],[4,5,6],[7,8,9]])\n",
    "y = torch.roll(x,1,0)\n",
    "z = torch.roll(y,1,0)\n",
    "w = torch.cat((torch.cat((x,x),1), torch.cat((y,x),1), torch.cat((x,z),1)),0)\n",
    "print(w)"
   ]
  },
  {
   "cell_type": "code",
   "execution_count": 16,
   "metadata": {
    "id": "NTdj0m-LIKZt"
   },
   "outputs": [
    {
     "name": "stdout",
     "output_type": "stream",
     "text": [
      "tensor([[1, 2, 3, 1, 2, 3],\n",
      "        [4, 5, 6, 4, 5, 6],\n",
      "        [7, 8, 9, 7, 8, 9],\n",
      "        [7, 8, 9, 1, 2, 3],\n",
      "        [1, 2, 3, 4, 5, 6],\n",
      "        [4, 5, 6, 7, 8, 9],\n",
      "        [7, 8, 9, 4, 5, 6],\n",
      "        [1, 2, 3, 7, 8, 9],\n",
      "        [4, 5, 6, 1, 2, 3],\n",
      "        [1, 4, 7, 1, 4, 7],\n",
      "        [2, 5, 8, 2, 5, 8],\n",
      "        [3, 6, 9, 3, 6, 9],\n",
      "        [3, 6, 9, 1, 4, 7],\n",
      "        [1, 4, 7, 2, 5, 8],\n",
      "        [2, 5, 8, 3, 6, 9],\n",
      "        [3, 6, 9, 2, 5, 8],\n",
      "        [1, 4, 7, 3, 6, 9],\n",
      "        [2, 5, 8, 1, 4, 7]])\n"
     ]
    }
   ],
   "source": [
    "## experimentation\n",
    "x = torch.tensor([[1,2,3],[4,5,6],[7,8,9]])\n",
    "y = torch.roll(x,1,0)\n",
    "z = torch.roll(y,1,0)\n",
    "a = x.transpose(0,1)\n",
    "b = torch.roll(a,1,0)\n",
    "c = torch.roll(b,1,0)\n",
    "w = torch.cat((torch.cat((x,x),1), torch.cat((y,x),1), torch.cat((y,z),1), torch.cat((a,a),1), torch.cat((b,a),1), torch.cat((b,c),1)),0)\n",
    "print(w)"
   ]
  },
  {
   "cell_type": "code",
   "execution_count": 17,
   "metadata": {
    "colab": {
     "base_uri": "https://localhost:8080/"
    },
    "id": "PCCstq8G4lIN",
    "outputId": "ad49afa8-08fc-4ff2-b0c6-a05e756aab8f"
   },
   "outputs": [
    {
     "name": "stdout",
     "output_type": "stream",
     "text": [
      "tensor([[[[-2.0859, -0.5066, -2.0859, -0.5066],\n",
      "          [-2.0859, -0.5066, -1.4343,  0.2691],\n",
      "          [-2.0859, -0.5066, -0.2123,  1.5078],\n",
      "          [-2.0859, -0.5066,  0.0254, -0.1462],\n",
      "          [-2.0859, -0.5066, -1.9868,  0.4999],\n",
      "          [-2.0859, -0.5066,  0.3877,  0.7471],\n",
      "          [-2.0859, -0.5066, -0.6799,  0.6681],\n",
      "          [-2.0859, -0.5066, -1.5868,  0.3483],\n",
      "          [-2.0859, -0.5066, -0.1605,  1.0626]],\n",
      "\n",
      "         [[-1.4343,  0.2691, -2.0859, -0.5066],\n",
      "          [-1.4343,  0.2691, -1.4343,  0.2691],\n",
      "          [-1.4343,  0.2691, -0.2123,  1.5078],\n",
      "          [-1.4343,  0.2691,  0.0254, -0.1462],\n",
      "          [-1.4343,  0.2691, -1.9868,  0.4999],\n",
      "          [-1.4343,  0.2691,  0.3877,  0.7471],\n",
      "          [-1.4343,  0.2691, -0.6799,  0.6681],\n",
      "          [-1.4343,  0.2691, -1.5868,  0.3483],\n",
      "          [-1.4343,  0.2691, -0.1605,  1.0626]],\n",
      "\n",
      "         [[-0.2123,  1.5078, -2.0859, -0.5066],\n",
      "          [-0.2123,  1.5078, -1.4343,  0.2691],\n",
      "          [-0.2123,  1.5078, -0.2123,  1.5078],\n",
      "          [-0.2123,  1.5078,  0.0254, -0.1462],\n",
      "          [-0.2123,  1.5078, -1.9868,  0.4999],\n",
      "          [-0.2123,  1.5078,  0.3877,  0.7471],\n",
      "          [-0.2123,  1.5078, -0.6799,  0.6681],\n",
      "          [-0.2123,  1.5078, -1.5868,  0.3483],\n",
      "          [-0.2123,  1.5078, -0.1605,  1.0626]],\n",
      "\n",
      "         [[ 0.0254, -0.1462, -2.0859, -0.5066],\n",
      "          [ 0.0254, -0.1462, -1.4343,  0.2691],\n",
      "          [ 0.0254, -0.1462, -0.2123,  1.5078],\n",
      "          [ 0.0254, -0.1462,  0.0254, -0.1462],\n",
      "          [ 0.0254, -0.1462, -1.9868,  0.4999],\n",
      "          [ 0.0254, -0.1462,  0.3877,  0.7471],\n",
      "          [ 0.0254, -0.1462, -0.6799,  0.6681],\n",
      "          [ 0.0254, -0.1462, -1.5868,  0.3483],\n",
      "          [ 0.0254, -0.1462, -0.1605,  1.0626]],\n",
      "\n",
      "         [[-1.9868,  0.4999, -2.0859, -0.5066],\n",
      "          [-1.9868,  0.4999, -1.4343,  0.2691],\n",
      "          [-1.9868,  0.4999, -0.2123,  1.5078],\n",
      "          [-1.9868,  0.4999,  0.0254, -0.1462],\n",
      "          [-1.9868,  0.4999, -1.9868,  0.4999],\n",
      "          [-1.9868,  0.4999,  0.3877,  0.7471],\n",
      "          [-1.9868,  0.4999, -0.6799,  0.6681],\n",
      "          [-1.9868,  0.4999, -1.5868,  0.3483],\n",
      "          [-1.9868,  0.4999, -0.1605,  1.0626]],\n",
      "\n",
      "         [[ 0.3877,  0.7471, -2.0859, -0.5066],\n",
      "          [ 0.3877,  0.7471, -1.4343,  0.2691],\n",
      "          [ 0.3877,  0.7471, -0.2123,  1.5078],\n",
      "          [ 0.3877,  0.7471,  0.0254, -0.1462],\n",
      "          [ 0.3877,  0.7471, -1.9868,  0.4999],\n",
      "          [ 0.3877,  0.7471,  0.3877,  0.7471],\n",
      "          [ 0.3877,  0.7471, -0.6799,  0.6681],\n",
      "          [ 0.3877,  0.7471, -1.5868,  0.3483],\n",
      "          [ 0.3877,  0.7471, -0.1605,  1.0626]],\n",
      "\n",
      "         [[-0.6799,  0.6681, -2.0859, -0.5066],\n",
      "          [-0.6799,  0.6681, -1.4343,  0.2691],\n",
      "          [-0.6799,  0.6681, -0.2123,  1.5078],\n",
      "          [-0.6799,  0.6681,  0.0254, -0.1462],\n",
      "          [-0.6799,  0.6681, -1.9868,  0.4999],\n",
      "          [-0.6799,  0.6681,  0.3877,  0.7471],\n",
      "          [-0.6799,  0.6681, -0.6799,  0.6681],\n",
      "          [-0.6799,  0.6681, -1.5868,  0.3483],\n",
      "          [-0.6799,  0.6681, -0.1605,  1.0626]],\n",
      "\n",
      "         [[-1.5868,  0.3483, -2.0859, -0.5066],\n",
      "          [-1.5868,  0.3483, -1.4343,  0.2691],\n",
      "          [-1.5868,  0.3483, -0.2123,  1.5078],\n",
      "          [-1.5868,  0.3483,  0.0254, -0.1462],\n",
      "          [-1.5868,  0.3483, -1.9868,  0.4999],\n",
      "          [-1.5868,  0.3483,  0.3877,  0.7471],\n",
      "          [-1.5868,  0.3483, -0.6799,  0.6681],\n",
      "          [-1.5868,  0.3483, -1.5868,  0.3483],\n",
      "          [-1.5868,  0.3483, -0.1605,  1.0626]],\n",
      "\n",
      "         [[-0.1605,  1.0626, -2.0859, -0.5066],\n",
      "          [-0.1605,  1.0626, -1.4343,  0.2691],\n",
      "          [-0.1605,  1.0626, -0.2123,  1.5078],\n",
      "          [-0.1605,  1.0626,  0.0254, -0.1462],\n",
      "          [-0.1605,  1.0626, -1.9868,  0.4999],\n",
      "          [-0.1605,  1.0626,  0.3877,  0.7471],\n",
      "          [-0.1605,  1.0626, -0.6799,  0.6681],\n",
      "          [-0.1605,  1.0626, -1.5868,  0.3483],\n",
      "          [-0.1605,  1.0626, -0.1605,  1.0626]]]])\n",
      "tensor([[[-18.7729,  -4.5596,  -7.7334,   4.4500],\n",
      "         [-12.9088,   2.4217,  -7.7334,   4.4500],\n",
      "         [ -1.9106,  13.5703,  -7.7334,   4.4500],\n",
      "         [  0.2284,  -1.3159,  -7.7334,   4.4500],\n",
      "         [-17.8814,   4.4990,  -7.7334,   4.4500],\n",
      "         [  3.4895,   6.7235,  -7.7334,   4.4500],\n",
      "         [ -6.1192,   6.0130,  -7.7334,   4.4500],\n",
      "         [-14.2813,   3.1346,  -7.7334,   4.4500],\n",
      "         [ -1.4442,   9.5635,  -7.7334,   4.4500]]])\n",
      "tensor([[[ -7.7334,   4.4500, -18.7729,  -4.5596],\n",
      "         [ -7.7334,   4.4500, -12.9088,   2.4217],\n",
      "         [ -7.7334,   4.4500,  -1.9106,  13.5703],\n",
      "         [ -7.7334,   4.4500,   0.2284,  -1.3159],\n",
      "         [ -7.7334,   4.4500, -17.8814,   4.4990],\n",
      "         [ -7.7334,   4.4500,   3.4895,   6.7235],\n",
      "         [ -7.7334,   4.4500,  -6.1192,   6.0130],\n",
      "         [ -7.7334,   4.4500, -14.2813,   3.1346],\n",
      "         [ -7.7334,   4.4500,  -1.4442,   9.5635]]])\n",
      "torch.Size([1, 9, 4])\n",
      "torch.Size([1, 9, 4])\n"
     ]
    }
   ],
   "source": [
    "#experimentation\n",
    "x = torch.randn(1,1,9,2)\n",
    "#print(x)\n",
    "x = x.expand(1,9,9,2)\n",
    "y = x.transpose(1,2)\n",
    "#print(x)\n",
    "z = torch.cat((y,x),3)\n",
    "print(z)\n",
    "#print(z.size())\n",
    "s = z.sum(dim=2)\n",
    "t = z.sum(dim=1)\n",
    "print(s)\n",
    "print(t)\n",
    "print(s.shape)\n",
    "print(t.shape)"
   ]
  },
  {
   "cell_type": "code",
   "execution_count": 18,
   "metadata": {
    "id": "J5pm_igacAUv"
   },
   "outputs": [],
   "source": [
    "import pandas as pd\n",
    "import matplotlib.pyplot as plt"
   ]
  },
  {
   "cell_type": "code",
   "execution_count": 19,
   "metadata": {
    "id": "n2zlDnQI2XaK"
   },
   "outputs": [
    {
     "name": "stdout",
     "output_type": "stream",
     "text": [
      "Best Epoch: \n",
      "0\n"
     ]
    }
   ],
   "source": [
    "print(\"Best Epoch: \")\n",
    "print(best_epoch)"
   ]
  },
  {
   "cell_type": "code",
   "execution_count": 28,
   "metadata": {
    "id": "ZnPUI3DyVNuL"
   },
   "outputs": [
    {
     "data": {
      "image/png": "[encoded data removed]",
      "text/plain": [
       "<Figure size 720x576 with 1 Axes>"
      ]
     },
     "metadata": {
      "needs_background": "light"
     },
     "output_type": "display_data"
    }
   ],
   "source": [
    "df_training_temp = pd.DataFrame(training_dict)\n",
    "df_training = df_training_temp.transpose()\n",
    "df_training.plot(figsize=(10,8))\n",
    "plt.show()"
   ]
  },
  {
   "cell_type": "code",
   "execution_count": 21,
   "metadata": {
    "id": "pQChMaf3Yl_I"
   },
   "outputs": [
    {
     "name": "stdout",
     "output_type": "stream",
     "text": [
      "Best Epoch Training Data: \n",
      "Training Loss: \n",
      "2.1075480757875646\n",
      "Training Accuracy\n",
      "12.882313829787234\n"
     ]
    }
   ],
   "source": [
    "print(\"Best Epoch Training Data: \")\n",
    "print(\"Training Loss: \")\n",
    "print(str(training_dict[best_epoch]['train_loss']))\n",
    "print(\"Training Accuracy\")\n",
    "print(str(training_dict[best_epoch]['train_acc']))\n"
   ]
  },
  {
   "cell_type": "code",
   "execution_count": 27,
   "metadata": {
    "id": "w7EC8BOeb6tW"
   },
   "outputs": [
    {
     "data": {
      "image/png": "[encoded data removed]",
      "text/plain": [
       "<Figure size 720x576 with 1 Axes>"
      ]
     },
     "metadata": {
      "needs_background": "light"
     },
     "output_type": "display_data"
    }
   ],
   "source": [
    "df_validation_temp = pd.DataFrame(validation_dict)\n",
    "df_validation = df_validation_temp.transpose()\n",
    "df_validation.plot(figsize=(10,8))\n",
    "plt.show()"
   ]
  },
  {
   "cell_type": "code",
   "execution_count": 23,
   "metadata": {
    "id": "mIc-omoYZAZb"
   },
   "outputs": [
    {
     "name": "stdout",
     "output_type": "stream",
     "text": [
      "Best Epoch Validation Data: \n",
      "Validation Loss: \n",
      "4.15904290335519\n",
      "Validation Accuracy\n",
      "11.904761904761905\n"
     ]
    }
   ],
   "source": [
    "print(\"Best Epoch Validation Data: \")\n",
    "print(\"Validation Loss: \")\n",
    "print(str(validation_dict[best_epoch]['val_loss']))\n",
    "print(\"Validation Accuracy\")\n",
    "print(str(validation_dict[best_epoch]['val_acc']))"
   ]
  },
  {
   "cell_type": "code",
   "execution_count": 26,
   "metadata": {
    "id": "Q4hIXh0xcJP0"
   },
   "outputs": [
    {
     "data": {
      "image/png": "[encoded data removed]",
      "text/plain": [
       "<Figure size 720x576 with 1 Axes>"
      ]
     },
     "metadata": {
      "needs_background": "light"
     },
     "output_type": "display_data"
    }
   ],
   "source": [
    "df_testing_temp = pd.DataFrame(testing_dict)\n",
    "df_testing = df_testing_temp.transpose()\n",
    "df_testing.plot(figsize=(10,8))\n",
    "plt.show()"
   ]
  },
  {
   "cell_type": "code",
   "execution_count": 25,
   "metadata": {
    "id": "UKCqZuTBZEKY"
   },
   "outputs": [
    {
     "name": "stdout",
     "output_type": "stream",
     "text": [
      "Best Epoch Testing Data: \n",
      "Test Accuracy\n",
      "{0: {'test_acc': 12.40079365079365}, 1: {'test_acc': 12.996031746031745}, 2: {'test_acc': 14.087301587301587}, 3: {'test_acc': 17.90674603174603}, 4: {'test_acc': 20.634920634920636}, 5: {'test_acc': 22.817460317460316}, 6: {'test_acc': 28.621031746031747}, 7: {'test_acc': 34.573412698412696}, 8: {'test_acc': 42.807539682539684}, 9: {'test_acc': 47.073412698412696}, 10: {'test_acc': 58.23412698412698}, 11: {'test_acc': 63.59126984126984}, 12: {'test_acc': 60.91269841269841}, 13: {'test_acc': 64.28571428571429}, 14: {'test_acc': 69.04761904761905}, 15: {'test_acc': 67.7579365079365}, 16: {'test_acc': 72.91666666666667}, 17: {'test_acc': 70.73412698412699}, 18: {'test_acc': 72.91666666666667}, 19: {'test_acc': 72.81746031746032}, 20: {'test_acc': 74.35515873015873}, 21: {'test_acc': 76.09126984126983}, 22: {'test_acc': 75.09920634920636}, 23: {'test_acc': 76.98412698412699}, 24: {'test_acc': 76.68650793650794}, 25: {'test_acc': 76.73611111111111}, 26: {'test_acc': 78.125}, 27: {'test_acc': 78.57142857142857}, 28: {'test_acc': 80.10912698412699}, 29: {'test_acc': 78.9186507936508}, 30: {'test_acc': 78.67063492063492}, 31: {'test_acc': 78.27380952380952}, 32: {'test_acc': 79.41468253968254}, 33: {'test_acc': 78.02579365079364}, 34: {'test_acc': 81.4484126984127}, 35: {'test_acc': 79.91071428571429}, 36: {'test_acc': 79.61309523809524}, 37: {'test_acc': 80.2579365079365}, 38: {'test_acc': 82.58928571428571}, 39: {'test_acc': 82.44047619047619}, 40: {'test_acc': 83.08531746031746}, 41: {'test_acc': 81.59722222222223}, 42: {'test_acc': 78.96825396825396}, 43: {'test_acc': 82.53968253968254}, 44: {'test_acc': 80.75396825396825}, 45: {'test_acc': 82.58928571428571}, 46: {'test_acc': 81.0515873015873}, 47: {'test_acc': 81.15079365079364}, 48: {'test_acc': 81.34920634920636}, 49: {'test_acc': 80.20833333333333}, 50: {'test_acc': 82.93650793650794}, 51: {'test_acc': 83.28373015873017}, 52: {'test_acc': 82.93650793650794}, 53: {'test_acc': 82.19246031746032}, 54: {'test_acc': 83.48214285714286}, 55: {'test_acc': 83.08531746031746}, 56: {'test_acc': 83.23412698412699}, 57: {'test_acc': 82.19246031746032}, 58: {'test_acc': 83.28373015873017}, 59: {'test_acc': 82.83730158730158}, 60: {'test_acc': 81.94444444444444}, 61: {'test_acc': 83.5813492063492}, 62: {'test_acc': 84.375}, 63: {'test_acc': 82.14285714285714}, 64: {'test_acc': 83.68055555555556}, 65: {'test_acc': 84.12698412698413}, 66: {'test_acc': 82.44047619047619}, 67: {'test_acc': 83.97817460317461}, 68: {'test_acc': 81.0515873015873}, 69: {'test_acc': 82.58928571428571}, 70: {'test_acc': 83.28373015873017}, 71: {'test_acc': 82.2420634920635}, 72: {'test_acc': 82.78769841269842}, 73: {'test_acc': 83.28373015873017}, 74: {'test_acc': 83.97817460317461}, 75: {'test_acc': 83.82936507936508}, 76: {'test_acc': 82.73809523809524}, 77: {'test_acc': 83.7797619047619}, 78: {'test_acc': 83.97817460317461}, 79: {'test_acc': 82.73809523809524}, 80: {'test_acc': 83.43253968253968}, 81: {'test_acc': 84.27579365079364}, 82: {'test_acc': 83.73015873015873}, 83: {'test_acc': 84.07738095238095}, 84: {'test_acc': 82.88690476190476}, 85: {'test_acc': 83.97817460317461}, 86: {'test_acc': 84.27579365079364}, 87: {'test_acc': 84.72222222222223}, 88: {'test_acc': 83.97817460317461}, 89: {'test_acc': 83.63095238095238}, 90: {'test_acc': 85.71428571428571}, 91: {'test_acc': 82.63888888888889}, 92: {'test_acc': 85.01984126984127}, 93: {'test_acc': 82.83730158730158}, 94: {'test_acc': 84.375}, 95: {'test_acc': 83.82936507936508}, 96: {'test_acc': 82.93650793650794}, 97: {'test_acc': 84.1765873015873}, 98: {'test_acc': 83.73015873015873}, 99: {'test_acc': 82.88690476190476}, 100: {'test_acc': 83.87896825396825}, 101: {'test_acc': 82.29166666666667}, 102: {'test_acc': 83.28373015873017}, 103: {'test_acc': 85.01984126984127}, 104: {'test_acc': 84.02777777777777}, 105: {'test_acc': 83.3829365079365}, 106: {'test_acc': 84.1765873015873}, 107: {'test_acc': 82.88690476190476}, 108: {'test_acc': 84.22619047619048}, 109: {'test_acc': 84.1765873015873}, 110: {'test_acc': 82.73809523809524}, 111: {'test_acc': 83.18452380952381}, 112: {'test_acc': 83.87896825396825}, 113: {'test_acc': 83.87896825396825}, 114: {'test_acc': 83.23412698412699}, 115: {'test_acc': 81.54761904761905}, 116: {'test_acc': 83.13492063492063}, 117: {'test_acc': 84.47420634920636}, 118: {'test_acc': 83.97817460317461}, 119: {'test_acc': 83.63095238095238}, 120: {'test_acc': 83.28373015873017}, 121: {'test_acc': 83.73015873015873}, 122: {'test_acc': 82.34126984126983}, 123: {'test_acc': 83.23412698412699}, 124: {'test_acc': 82.63888888888889}, 125: {'test_acc': 85.11904761904762}, 126: {'test_acc': 82.83730158730158}, 127: {'test_acc': 83.68055555555556}, 128: {'test_acc': 83.92857142857143}, 129: {'test_acc': 83.82936507936508}, 130: {'test_acc': 82.88690476190476}, 131: {'test_acc': 82.49007936507937}, 132: {'test_acc': 84.07738095238095}, 133: {'test_acc': 83.33333333333333}, 134: {'test_acc': 83.08531746031746}, 135: {'test_acc': 84.02777777777777}, 136: {'test_acc': 82.88690476190476}, 137: {'test_acc': 84.27579365079364}, 138: {'test_acc': 84.5734126984127}, 139: {'test_acc': 83.43253968253968}, 140: {'test_acc': 83.63095238095238}, 141: {'test_acc': 84.07738095238095}, 142: {'test_acc': 83.53174603174604}, 143: {'test_acc': 84.9702380952381}, 144: {'test_acc': 84.375}, 145: {'test_acc': 83.5813492063492}, 146: {'test_acc': 82.53968253968254}, 147: {'test_acc': 83.03571428571429}, 148: {'test_acc': 83.18452380952381}, 149: {'test_acc': 85.11904761904762}}\n",
      "12.40079365079365\n",
      "85.71428571428571\n"
     ]
    }
   ],
   "source": [
    "print(\"Best Epoch Testing Data: \")\n",
    "print(\"Test Accuracy\")\n",
    "print(testing_dict)\n",
    "print(str(testing_dict[best_epoch]['test_acc']))\n",
    "epochs = testing_dict.values()\n",
    "print(max([e['test_acc'] for e in epochs]))"
   ]
  },
  {
   "cell_type": "code",
   "execution_count": null,
   "metadata": {},
   "outputs": [],
   "source": []
  }
 ],
 "metadata": {
  "accelerator": "GPU",
  "colab": {
   "collapsed_sections": [],
   "name": " Final-Model-Center MLRN extension + cols",
   "provenance": []
  },
  "kernelspec": {
   "display_name": "Python 3 (ipykernel)",
   "language": "python",
   "name": "python3"
  },
  "language_info": {
   "codemirror_mode": {
    "name": "ipython",
    "version": 3
   },
   "file_extension": ".py",
   "mimetype": "text/x-python",
   "name": "python",
   "nbconvert_exporter": "python",
   "pygments_lexer": "ipython3",
   "version": "3.9.5"
  }
 },
 "nbformat": 4,
 "nbformat_minor": 1
}
